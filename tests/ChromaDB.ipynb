{
 "cells": [
  {
   "cell_type": "code",
   "execution_count": 19,
   "metadata": {},
   "outputs": [],
   "source": [
    "import chromadb\n",
    "from chromadb.config import Settings\n",
    "from os import getcwd, environ\n",
    "from pathlib import Path\n",
    "from sys import path\n",
    "import uuid\n",
    "from random import randint\n",
    "path.append(r'C:\\Users\\Izogie\\Desktop\\Folders\\Projects\\Python\\KB Chat\\src')\n",
    "from modules.SourceManager import SourceManager"
   ]
  },
  {
   "cell_type": "code",
   "execution_count": 2,
   "metadata": {},
   "outputs": [],
   "source": [
    "PROJ_DIR = Path(getcwd()).parent\n",
    "DB_DIR = PROJ_DIR / \"chroma\""
   ]
  },
  {
   "cell_type": "code",
   "execution_count": 3,
   "metadata": {},
   "outputs": [
    {
     "name": "stderr",
     "output_type": "stream",
     "text": [
      "c:\\Python312\\Lib\\site-packages\\posthog\\client.py:345: DeprecationWarning: datetime.datetime.utcnow() is deprecated and scheduled for removal in a future version. Use timezone-aware objects to represent datetimes in UTC: datetime.datetime.now(datetime.UTC).\n",
      "  timestamp = datetime.utcnow().replace(tzinfo=tzutc())\n"
     ]
    },
    {
     "name": "stderr",
     "output_type": "stream",
     "text": [
      "c:\\Python312\\Lib\\site-packages\\posthog\\request.py:40: DeprecationWarning: datetime.datetime.utcnow() is deprecated and scheduled for removal in a future version. Use timezone-aware objects to represent datetimes in UTC: datetime.datetime.now(datetime.UTC).\n",
      "  body[\"sentAt\"] = datetime.utcnow().replace(tzinfo=tzutc()).isoformat()\n"
     ]
    }
   ],
   "source": [
    "client = chromadb.PersistentClient(path=str(DB_DIR), settings=Settings(allow_reset=True))"
   ]
  },
  {
   "cell_type": "code",
   "execution_count": 4,
   "metadata": {},
   "outputs": [],
   "source": [
    "def fresh_start(client):\n",
    "    client.reset()\n",
    "    collection = client.get_or_create_collection(\"coppermind\")\n",
    "    return collection"
   ]
  },
  {
   "cell_type": "code",
   "execution_count": 5,
   "metadata": {},
   "outputs": [],
   "source": [
    "manager = SourceManager()\n",
    "data = manager.load_json(\"processed_articles.jsonl\")"
   ]
  },
  {
   "cell_type": "code",
   "execution_count": 6,
   "metadata": {},
   "outputs": [
    {
     "name": "stderr",
     "output_type": "stream",
     "text": [
      "C:\\Users\\Izogie\\AppData\\Local\\Temp\\ipykernel_25312\\1927957191.py:1: DeprecationWarning: \n",
      "Pyarrow will become a required dependency of pandas in the next major release of pandas (pandas 3.0),\n",
      "(to allow more performant data types, such as the Arrow string type, and better interoperability with other libraries)\n",
      "but was not found to be installed on your system.\n",
      "If this would cause problems for you,\n",
      "please provide us feedback at https://github.com/pandas-dev/pandas/issues/54466\n",
      "        \n",
      "  import pandas as pd\n"
     ]
    },
    {
     "data": {
      "text/html": [
       "<div>\n",
       "<style scoped>\n",
       "    .dataframe tbody tr th:only-of-type {\n",
       "        vertical-align: middle;\n",
       "    }\n",
       "\n",
       "    .dataframe tbody tr th {\n",
       "        vertical-align: top;\n",
       "    }\n",
       "\n",
       "    .dataframe thead th {\n",
       "        text-align: right;\n",
       "    }\n",
       "</style>\n",
       "<table border=\"1\" class=\"dataframe\">\n",
       "  <thead>\n",
       "    <tr style=\"text-align: right;\">\n",
       "      <th></th>\n",
       "      <th>title</th>\n",
       "      <th>links</th>\n",
       "      <th>sections</th>\n",
       "    </tr>\n",
       "  </thead>\n",
       "  <tbody>\n",
       "    <tr>\n",
       "      <th>0</th>\n",
       "      <td>Kaladin</td>\n",
       "      <td>[Stormfather, Cognitive Shadow, Dalinar Kholin...</td>\n",
       "      <td>[{'title': 'Kaladin', 'content': 'Kaladin, nic...</td>\n",
       "    </tr>\n",
       "    <tr>\n",
       "      <th>1</th>\n",
       "      <td>Pits of Hathsin</td>\n",
       "      <td>[Cosmere, Kelsier]</td>\n",
       "      <td>[{'title': 'Pits of Hathsin', 'content': 'The ...</td>\n",
       "    </tr>\n",
       "    <tr>\n",
       "      <th>2</th>\n",
       "      <td>Allomancy</td>\n",
       "      <td>[Odium, Kelsier, Realmatic Theory, Hoid, Knigh...</td>\n",
       "      <td>[{'title': 'Allomancy', 'content': 'Allomancy ...</td>\n",
       "    </tr>\n",
       "    <tr>\n",
       "      <th>3</th>\n",
       "      <td>Cosmere</td>\n",
       "      <td>[Stormfather, Kelsier, Cognitive Shadow, Dalin...</td>\n",
       "      <td>[{'title': 'Cosmere', 'content': 'The cosmere ...</td>\n",
       "    </tr>\n",
       "    <tr>\n",
       "      <th>4</th>\n",
       "      <td>Honor's Perpendicularity</td>\n",
       "      <td>[Odium, Stormfather, Shadesmar, Surgebinder, F...</td>\n",
       "      <td>[{'title': 'Honor's Perpendicularity', 'conten...</td>\n",
       "    </tr>\n",
       "    <tr>\n",
       "      <th>5</th>\n",
       "      <td>Cephandrius</td>\n",
       "      <td>[Hoid]</td>\n",
       "      <td>None</td>\n",
       "    </tr>\n",
       "    <tr>\n",
       "      <th>6</th>\n",
       "      <td>Hoid</td>\n",
       "      <td>[Kelsier, Cognitive Shadow, Dalinar Kholin, Su...</td>\n",
       "      <td>[{'title': 'Hoid', 'content': 'Hoid is a world...</td>\n",
       "    </tr>\n",
       "    <tr>\n",
       "      <th>7</th>\n",
       "      <td>Odium</td>\n",
       "      <td>[Honor's Perpendicularity, Stormfather, Hoid, ...</td>\n",
       "      <td>[{'title': 'Odium', 'content': '&lt;disable-googl...</td>\n",
       "    </tr>\n",
       "    <tr>\n",
       "      <th>8</th>\n",
       "      <td>Realmatic Theory</td>\n",
       "      <td>[Cosmere, Honor's Perpendicularity, Stormfathe...</td>\n",
       "      <td>[{'title': 'Realmatic Theory', 'content': 'Rea...</td>\n",
       "    </tr>\n",
       "    <tr>\n",
       "      <th>9</th>\n",
       "      <td>Knights Radiant</td>\n",
       "      <td>[Cosmere, Stormfather, Hoid, Dalinar Kholin, K...</td>\n",
       "      <td>[{'title': 'Knights Radiant', 'content': 'The ...</td>\n",
       "    </tr>\n",
       "    <tr>\n",
       "      <th>10</th>\n",
       "      <td>Kelsier</td>\n",
       "      <td>[Cosmere, Hoid, Cognitive Shadow, Allomancy, P...</td>\n",
       "      <td>[{'title': 'Kelsier', 'content': 'Kelsier is a...</td>\n",
       "    </tr>\n",
       "    <tr>\n",
       "      <th>11</th>\n",
       "      <td>Stormfather</td>\n",
       "      <td>[Cosmere, Odium, Honor's Perpendicularity, Cog...</td>\n",
       "      <td>[{'title': 'Stormfather', 'content': 'The Stor...</td>\n",
       "    </tr>\n",
       "    <tr>\n",
       "      <th>12</th>\n",
       "      <td>Cognitive Shadow</td>\n",
       "      <td>[Cosmere, Odium, Stormfather, Kelsier, Alloman...</td>\n",
       "      <td>[{'title': 'Cognitive Shadow', 'content': 'Cog...</td>\n",
       "    </tr>\n",
       "    <tr>\n",
       "      <th>13</th>\n",
       "      <td>Dalinar Kholin</td>\n",
       "      <td>[Stormfather, Surgebinder, Shadesmar, Odium, H...</td>\n",
       "      <td>[{'title': 'Dalinar Kholin', 'content': 'Dalin...</td>\n",
       "    </tr>\n",
       "    <tr>\n",
       "      <th>14</th>\n",
       "      <td>Surgebinder</td>\n",
       "      <td>[]</td>\n",
       "      <td>None</td>\n",
       "    </tr>\n",
       "    <tr>\n",
       "      <th>15</th>\n",
       "      <td>Shadesmar</td>\n",
       "      <td>[]</td>\n",
       "      <td>None</td>\n",
       "    </tr>\n",
       "    <tr>\n",
       "      <th>16</th>\n",
       "      <td>Awakening</td>\n",
       "      <td>[Cosmere, Hoid]</td>\n",
       "      <td>[{'title': 'Awakening', 'content': 'Awakening ...</td>\n",
       "    </tr>\n",
       "    <tr>\n",
       "      <th>17</th>\n",
       "      <td>Tanavast</td>\n",
       "      <td>[Cosmere, Odium, Stormfather, Dalinar Kholin, ...</td>\n",
       "      <td>[{'title': 'Tanavast', 'content': 'Tanavast wa...</td>\n",
       "    </tr>\n",
       "    <tr>\n",
       "      <th>18</th>\n",
       "      <td>Urithiru</td>\n",
       "      <td>[Cosmere, Odium, Dalinar Kholin, Kaladin, Surg...</td>\n",
       "      <td>[{'title': 'Urithiru', 'content': 'Urithiru is...</td>\n",
       "    </tr>\n",
       "    <tr>\n",
       "      <th>19</th>\n",
       "      <td>Fused</td>\n",
       "      <td>[Cosmere, Stormfather, Cognitive Shadow, Knigh...</td>\n",
       "      <td>[{'title': 'Fused', 'content': 'The Fused are ...</td>\n",
       "    </tr>\n",
       "  </tbody>\n",
       "</table>\n",
       "</div>"
      ],
      "text/plain": [
       "                       title  \\\n",
       "0                    Kaladin   \n",
       "1            Pits of Hathsin   \n",
       "2                  Allomancy   \n",
       "3                    Cosmere   \n",
       "4   Honor's Perpendicularity   \n",
       "5                Cephandrius   \n",
       "6                       Hoid   \n",
       "7                      Odium   \n",
       "8           Realmatic Theory   \n",
       "9            Knights Radiant   \n",
       "10                   Kelsier   \n",
       "11               Stormfather   \n",
       "12          Cognitive Shadow   \n",
       "13            Dalinar Kholin   \n",
       "14               Surgebinder   \n",
       "15                 Shadesmar   \n",
       "16                 Awakening   \n",
       "17                  Tanavast   \n",
       "18                  Urithiru   \n",
       "19                     Fused   \n",
       "\n",
       "                                                links  \\\n",
       "0   [Stormfather, Cognitive Shadow, Dalinar Kholin...   \n",
       "1                                  [Cosmere, Kelsier]   \n",
       "2   [Odium, Kelsier, Realmatic Theory, Hoid, Knigh...   \n",
       "3   [Stormfather, Kelsier, Cognitive Shadow, Dalin...   \n",
       "4   [Odium, Stormfather, Shadesmar, Surgebinder, F...   \n",
       "5                                              [Hoid]   \n",
       "6   [Kelsier, Cognitive Shadow, Dalinar Kholin, Su...   \n",
       "7   [Honor's Perpendicularity, Stormfather, Hoid, ...   \n",
       "8   [Cosmere, Honor's Perpendicularity, Stormfathe...   \n",
       "9   [Cosmere, Stormfather, Hoid, Dalinar Kholin, K...   \n",
       "10  [Cosmere, Hoid, Cognitive Shadow, Allomancy, P...   \n",
       "11  [Cosmere, Odium, Honor's Perpendicularity, Cog...   \n",
       "12  [Cosmere, Odium, Stormfather, Kelsier, Alloman...   \n",
       "13  [Stormfather, Surgebinder, Shadesmar, Odium, H...   \n",
       "14                                                 []   \n",
       "15                                                 []   \n",
       "16                                    [Cosmere, Hoid]   \n",
       "17  [Cosmere, Odium, Stormfather, Dalinar Kholin, ...   \n",
       "18  [Cosmere, Odium, Dalinar Kholin, Kaladin, Surg...   \n",
       "19  [Cosmere, Stormfather, Cognitive Shadow, Knigh...   \n",
       "\n",
       "                                             sections  \n",
       "0   [{'title': 'Kaladin', 'content': 'Kaladin, nic...  \n",
       "1   [{'title': 'Pits of Hathsin', 'content': 'The ...  \n",
       "2   [{'title': 'Allomancy', 'content': 'Allomancy ...  \n",
       "3   [{'title': 'Cosmere', 'content': 'The cosmere ...  \n",
       "4   [{'title': 'Honor's Perpendicularity', 'conten...  \n",
       "5                                                None  \n",
       "6   [{'title': 'Hoid', 'content': 'Hoid is a world...  \n",
       "7   [{'title': 'Odium', 'content': '<disable-googl...  \n",
       "8   [{'title': 'Realmatic Theory', 'content': 'Rea...  \n",
       "9   [{'title': 'Knights Radiant', 'content': 'The ...  \n",
       "10  [{'title': 'Kelsier', 'content': 'Kelsier is a...  \n",
       "11  [{'title': 'Stormfather', 'content': 'The Stor...  \n",
       "12  [{'title': 'Cognitive Shadow', 'content': 'Cog...  \n",
       "13  [{'title': 'Dalinar Kholin', 'content': 'Dalin...  \n",
       "14                                               None  \n",
       "15                                               None  \n",
       "16  [{'title': 'Awakening', 'content': 'Awakening ...  \n",
       "17  [{'title': 'Tanavast', 'content': 'Tanavast wa...  \n",
       "18  [{'title': 'Urithiru', 'content': 'Urithiru is...  \n",
       "19  [{'title': 'Fused', 'content': 'The Fused are ...  "
      ]
     },
     "execution_count": 6,
     "metadata": {},
     "output_type": "execute_result"
    }
   ],
   "source": [
    "import pandas as pd\n",
    "df = pd.DataFrame(data)\n",
    "df"
   ]
  },
  {
   "cell_type": "code",
   "execution_count": 42,
   "metadata": {},
   "outputs": [],
   "source": [
    "def ingest_articles(collection, articles):\n",
    "    \"\"\"Ingests structured article data into ChromaDB.\"\"\"\n",
    "    namespace_uuid = uuid.UUID('f81d4fae-7dec-11d0-a765-00a0c91e6bf6')\n",
    "    documents = []\n",
    "    metadatas = []\n",
    "    ids = []\n",
    "\n",
    "    for article in articles:\n",
    "        if article[\"sections\"] is None:\n",
    "            documents.append(\"\")\n",
    "            metadatas.append({\n",
    "                \"article_title\": article[\"title\"],\n",
    "                \"paragraph_header\": paragraph['title'],\n",
    "                \"paragraph_order\": 0,\n",
    "                \"links\": ', '.join(article[\"links\"]),\n",
    "            })\n",
    "            ids.append(str(uuid.uuid5(namespace_uuid, article['title'])))\n",
    "        else:\n",
    "            for paragraph in article[\"sections\"]:\n",
    "                documents.append(paragraph[\"content\"])\n",
    "                metadatas.append({\n",
    "                    \"article_title\": article[\"title\"],\n",
    "                    \"paragraph_header\": paragraph['title'],\n",
    "                    \"paragraph_order\": paragraph[\"order\"],\n",
    "                    \"links\": ', '.join(article[\"links\"]),\n",
    "                })\n",
    "                ids.append(str(uuid.uuid5(namespace_uuid, f\"{paragraph['title']}_{paragraph['order']}_{randint(0,10000)}\")))  # Create unique IDs\n",
    "\n",
    "    collection.add(\n",
    "        documents=documents,\n",
    "        metadatas=metadatas,\n",
    "        ids=ids \n",
    "    )\n",
    "    return collection"
   ]
  },
  {
   "cell_type": "code",
   "execution_count": 95,
   "metadata": {},
   "outputs": [
    {
     "name": "stderr",
     "output_type": "stream",
     "text": [
      "c:\\Python312\\Lib\\site-packages\\posthog\\client.py:345: DeprecationWarning: datetime.datetime.utcnow() is deprecated and scheduled for removal in a future version. Use timezone-aware objects to represent datetimes in UTC: datetime.datetime.now(datetime.UTC).\n",
      "  timestamp = datetime.utcnow().replace(tzinfo=tzutc())\n",
      "c:\\Python312\\Lib\\site-packages\\posthog\\request.py:40: DeprecationWarning: datetime.datetime.utcnow() is deprecated and scheduled for removal in a future version. Use timezone-aware objects to represent datetimes in UTC: datetime.datetime.now(datetime.UTC).\n",
      "  body[\"sentAt\"] = datetime.utcnow().replace(tzinfo=tzutc()).isoformat()\n",
      "c:\\Python312\\Lib\\site-packages\\posthog\\client.py:345: DeprecationWarning: datetime.datetime.utcnow() is deprecated and scheduled for removal in a future version. Use timezone-aware objects to represent datetimes in UTC: datetime.datetime.now(datetime.UTC).\n",
      "  timestamp = datetime.utcnow().replace(tzinfo=tzutc())\n",
      "c:\\Python312\\Lib\\site-packages\\posthog\\request.py:40: DeprecationWarning: datetime.datetime.utcnow() is deprecated and scheduled for removal in a future version. Use timezone-aware objects to represent datetimes in UTC: datetime.datetime.now(datetime.UTC).\n",
      "  body[\"sentAt\"] = datetime.utcnow().replace(tzinfo=tzutc()).isoformat()\n"
     ]
    }
   ],
   "source": [
    "sents_collection = fresh_start(client)\n",
    "sents_collection = ingest_articles(sents_collection, data)  "
   ]
  },
  {
   "cell_type": "code",
   "execution_count": 71,
   "metadata": {},
   "outputs": [
    {
     "name": "stderr",
     "output_type": "stream",
     "text": [
      "c:\\Python312\\Lib\\site-packages\\posthog\\client.py:345: DeprecationWarning: datetime.datetime.utcnow() is deprecated and scheduled for removal in a future version. Use timezone-aware objects to represent datetimes in UTC: datetime.datetime.now(datetime.UTC).\n",
      "  timestamp = datetime.utcnow().replace(tzinfo=tzutc())\n"
     ]
    }
   ],
   "source": [
    "sents_collection = client.get_or_create_collection(\"coppermind\")"
   ]
  },
  {
   "cell_type": "code",
   "execution_count": 92,
   "metadata": {},
   "outputs": [],
   "source": [
    "query = \"what does steel do in allomancy\"\n",
    "sents_response = sents_collection.query(query_texts=query, n_results=10, include=[\"documents\", \"metadatas\",\"distances\"])\n"
   ]
  },
  {
   "cell_type": "code",
   "execution_count": 93,
   "metadata": {},
   "outputs": [
    {
     "name": "stdout",
     "output_type": "stream",
     "text": [
      "Allomancy, Allomantic Metals\n",
      "There are sixteen basic Allomantic metals. The metals come in pairs: one metal is a periodic element, while the other is the alloy of that base metal. These pairs have complementary effects. Iron Pulls on nearby metals, while its alloy, steel, Pushes on metals. Similarly, each elemental metal is classified as a \"Pulling\" ability, whereas each alloy is classified as a \"Pushing\" ability. The purity of the metal corresponds to its effectiveness and alloys require precise compound percentages for maximum power. Burning an impure alloy may cause sickness, while metals that are not Allomantically viable cannot be burned after being ingested.\n",
      " 0.3441183865070343\n",
      "Allomancy, Mechanics\n",
      "Allomantic metals are the focus, but not the source, of Allomancy's power. When an Allomancer burns a metal, that metal's specific molecular structure acts as a conduit to Preservation, and then the Allomancer is granted an ability corresponding to the metal, allowing the metal to \"focus\" Preservation's power to the user. Each metal is the only way a mortal can access Preservation and the power of creation, after which it is vaporized. However, this is only true for the base sixteen Allomantic metals and not God Metals or their alloys. \n",
      " 0.36356428265571594\n",
      "Allomancy, Allomancy\n",
      "Allomancy is the most widely used form of Investiture on Scadrial, and is locally known as one of the three Metallic Arts. People who have one or more Allomantic abilities are called Allomancers with each Allomantic power being paired with a type of metal, which must be ingested and \"burned\" to activate.\n",
      " 0.37533771991729736\n",
      "Allomancy, Mechanics\n",
      "Allomancers feel a reserve of power in their stomach when they have ingested a metal they can burn. The metals are usually ingested by drinking specifically prepared metal vials, which contain metal flakes suspended in an alcohol solution or other such liquid, e.g. cod oil. While swallowing metal is the most common way of getting metal into the body, other ways such as injecting or snorting will also work. When using their powers, many Allomancers describe a warm feeling in the stomach, hence the term \"burning metal\".  An Allomancer can also burn their metals at an accelerated rate, which is called \"flaring.\" Flaring grants more power, but the reserve of metals depletes much faster, too. Allomancers can burn metals from any planet in the cosmere. This is due to the presence of Preservation in the Spiritual Realm. \n",
      " 0.38762202858924866\n",
      "Allomancy, Allomantic Metals\n",
      "The Allomantic effects of metals are most similar to the effects of fabrials on Roshar. Steel and Iron also have corresponding effects in how they affect Aether, whether other allomantic metals also have effects or not is currently unknown.\n",
      " 0.38882172107696533\n",
      "Allomancy, Mechanics\n",
      "Allomancers can suffer side-effects from leaving metal in their bodies for too long, and they normally burn their remaining ingested metals before sleeping to avoid this. Despite this, due to their physiology, Allomancers are generally immune to metal poisoning. They are not immune to metal allergies, however.\n",
      " 0.3915889263153076\n",
      "Allomancy, Mechanics\n",
      "Burning metals containing BioChromatic Breath has no effect on the Allomancy, although if the Breath belongs to the Allomancer it will be regained. If an Allomancer burns an Invested metal which is Allomantically inert, it will not have any special effect apart from possibly killing the Allomancer. Allomancers will still feel a reserve of power in their stomach from badly mixed alloys, and burning them will make them sick, giving them a blinding headache.\n",
      " 0.3995424509048462\n",
      "Allomancy, Mechanics\n",
      "Allomancy is an End-Positive magic system, which draws on the power of Preservation, channeled through a metal when it is burned. This differs to how Feruchemy works, as Allomancy is not being powered by the body of the Allomancer, but instead by an external force. Like the other Metallic Arts, Allomancy as a magic system formed through the natural interactions between the two Shards that inhabit Scadrial, Preservation and Ruin, and the planet itself, instead of being created by a specific Shard. This magic system, however, is generally tailored and fuelled by Preservation, although specific cases will involve an Allomancer drawing upon Ruin's essence instead. Like other forms of Investiture, Allomancy does not necessarily reflect the intent of the Shard which it is associated with.\n",
      " 0.4012618362903595\n",
      "Allomancy, Savantism\n",
      "Allomancers who flare their metal intensely for extended periods of time may be physiologically altered by the constant influx of Allomantic power. These people are known as Allomantic savants. These people experience heightened ability with, and heightened dependence upon, whatever metal they are burning in such a manner. Under most circumstances, this was considered irreversibly damaging.\n",
      " 0.4113996922969818\n",
      "Allomancy, External links\n",
      "Allomantic Metals Poster\n",
      " 0.4162074029445648\n"
     ]
    }
   ],
   "source": [
    "for idx, meta in enumerate(sents_response['metadatas'][0]):\n",
    "    print(f\"{meta['article_title']}, {meta['paragraph_header']}\")\n",
    "    print(sents_response[\"documents\"][0][idx] + f\"\\n {open_response[\"distances\"][0][idx]}\")"
   ]
  },
  {
   "cell_type": "markdown",
   "metadata": {},
   "source": [
    "# OpenAI embeddings"
   ]
  },
  {
   "cell_type": "code",
   "execution_count": 40,
   "metadata": {},
   "outputs": [],
   "source": [
    "import chromadb.utils.embedding_functions as embedding_fns"
   ]
  },
  {
   "cell_type": "code",
   "execution_count": 39,
   "metadata": {},
   "outputs": [],
   "source": [
    "# Load API key from config.yaml (`GOOGLE_API_KEY: <YOUR API TOKEN>`) into environment variable.\n",
    "# Kept in a seperate file for ease of access across projects.\n",
    "from yaml import safe_load\n",
    "def load_config(file_path=\"./config.yml\"):\n",
    "    with open(file_path, 'r') as file:\n",
    "        config = safe_load(file)\n",
    "        for key, value in config.items():\n",
    "            environ[key] = value\n",
    "load_config()"
   ]
  },
  {
   "cell_type": "code",
   "execution_count": 74,
   "metadata": {},
   "outputs": [],
   "source": [
    "def ingest_articles(collection, articles):\n",
    "    \"\"\"Ingests structured article data into ChromaDB.\"\"\"\n",
    "    namespace_uuid = uuid.UUID('f81d4fae-7dec-11d0-a765-00a0c91e6bf6')\n",
    "    documents = []\n",
    "    metadatas = []\n",
    "    ids = []\n",
    "\n",
    "    for article in articles:\n",
    "        if article[\"sections\"] is None:\n",
    "            continue\n",
    "        else:\n",
    "            for paragraph in article[\"sections\"]:\n",
    "                documents.append(paragraph[\"content\"])\n",
    "                metadatas.append({\n",
    "                    \"article_title\": article[\"title\"],\n",
    "                    \"paragraph_header\": paragraph['title'],\n",
    "                    \"paragraph_order\": paragraph[\"order\"],\n",
    "                    \"links\": ', '.join(article[\"links\"]),\n",
    "                })\n",
    "                ids.append(str(uuid.uuid5(namespace_uuid, f\"{paragraph['title']}_{paragraph['order']}_{randint(0,10000)}\")))  # Create unique IDs\n",
    "\n",
    "    collection.add(\n",
    "        documents=documents,\n",
    "        metadatas=metadatas,\n",
    "        ids=ids \n",
    "    )\n",
    "    return collection"
   ]
  },
  {
   "cell_type": "code",
   "execution_count": 75,
   "metadata": {},
   "outputs": [],
   "source": [
    "openai_ef = embedding_fns.OpenAIEmbeddingFunction(api_key=environ[\"OPENAI_API_KEY\"])"
   ]
  },
  {
   "cell_type": "code",
   "execution_count": 76,
   "metadata": {},
   "outputs": [
    {
     "name": "stderr",
     "output_type": "stream",
     "text": [
      "c:\\Python312\\Lib\\site-packages\\posthog\\client.py:345: DeprecationWarning: datetime.datetime.utcnow() is deprecated and scheduled for removal in a future version. Use timezone-aware objects to represent datetimes in UTC: datetime.datetime.now(datetime.UTC).\n",
      "  timestamp = datetime.utcnow().replace(tzinfo=tzutc())\n",
      "c:\\Python312\\Lib\\site-packages\\posthog\\request.py:40: DeprecationWarning: datetime.datetime.utcnow() is deprecated and scheduled for removal in a future version. Use timezone-aware objects to represent datetimes in UTC: datetime.datetime.now(datetime.UTC).\n",
      "  body[\"sentAt\"] = datetime.utcnow().replace(tzinfo=tzutc()).isoformat()\n",
      "c:\\Python312\\Lib\\site-packages\\posthog\\client.py:345: DeprecationWarning: datetime.datetime.utcnow() is deprecated and scheduled for removal in a future version. Use timezone-aware objects to represent datetimes in UTC: datetime.datetime.now(datetime.UTC).\n",
      "  timestamp = datetime.utcnow().replace(tzinfo=tzutc())\n"
     ]
    }
   ],
   "source": [
    "# client.reset()\n",
    "open_collection = client.get_or_create_collection(\"open_coppermind\", embedding_function=openai_ef)\n",
    "open_collection = ingest_articles(open_collection, data)"
   ]
  },
  {
   "cell_type": "code",
   "execution_count": 88,
   "metadata": {},
   "outputs": [],
   "source": [
    "query = \"what does steel do in allomancy\"\n",
    "open_response = open_collection.query(query_texts=query, n_results=10, include=[\"documents\", \"metadatas\",\"distances\"])\n"
   ]
  },
  {
   "cell_type": "code",
   "execution_count": 90,
   "metadata": {},
   "outputs": [
    {
     "name": "stdout",
     "output_type": "stream",
     "text": [
      "Allomancy, Mechanics\n",
      "Allomantic metals are the focus, but not the source, of Allomancy's power. When an Allomancer burns a metal, that metal's specific molecular structure acts as a conduit to Preservation, and then the Allomancer is granted an ability corresponding to the metal, allowing the metal to \"focus\" Preservation's power to the user. Each metal is the only way a mortal can access Preservation and the power of creation, after which it is vaporized. However, this is only true for the base sixteen Allomantic metals and not God Metals or their alloys. \n",
      " 0.3441183865070343\n",
      "Allomancy, Mechanics\n",
      "Allomancy is an End-Positive magic system, which draws on the power of Preservation, channeled through a metal when it is burned. This differs to how Feruchemy works, as Allomancy is not being powered by the body of the Allomancer, but instead by an external force. Like the other Metallic Arts, Allomancy as a magic system formed through the natural interactions between the two Shards that inhabit Scadrial, Preservation and Ruin, and the planet itself, instead of being created by a specific Shard. This magic system, however, is generally tailored and fuelled by Preservation, although specific cases will involve an Allomancer drawing upon Ruin's essence instead. Like other forms of Investiture, Allomancy does not necessarily reflect the intent of the Shard which it is associated with.\n",
      " 0.36356428265571594\n",
      "Allomancy, Allomantic Metals\n",
      "The Allomantic effects of metals are most similar to the effects of fabrials on Roshar. Steel and Iron also have corresponding effects in how they affect Aether, whether other allomantic metals also have effects or not is currently unknown.\n",
      " 0.37533771991729736\n",
      "Allomancy, Allomantic Metals\n",
      "There are sixteen basic Allomantic metals. The metals come in pairs: one metal is a periodic element, while the other is the alloy of that base metal. These pairs have complementary effects. Iron Pulls on nearby metals, while its alloy, steel, Pushes on metals. Similarly, each elemental metal is classified as a \"Pulling\" ability, whereas each alloy is classified as a \"Pushing\" ability. The purity of the metal corresponds to its effectiveness and alloys require precise compound percentages for maximum power. Burning an impure alloy may cause sickness, while metals that are not Allomantically viable cannot be burned after being ingested.\n",
      " 0.38762202858924866\n",
      "Allomancy, Mechanics\n",
      "Allomancers feel a reserve of power in their stomach when they have ingested a metal they can burn. The metals are usually ingested by drinking specifically prepared metal vials, which contain metal flakes suspended in an alcohol solution or other such liquid, e.g. cod oil. While swallowing metal is the most common way of getting metal into the body, other ways such as injecting or snorting will also work. When using their powers, many Allomancers describe a warm feeling in the stomach, hence the term \"burning metal\".  An Allomancer can also burn their metals at an accelerated rate, which is called \"flaring.\" Flaring grants more power, but the reserve of metals depletes much faster, too. Allomancers can burn metals from any planet in the cosmere. This is due to the presence of Preservation in the Spiritual Realm. \n",
      " 0.38882172107696533\n",
      "Allomancy, Allomancy\n",
      "Allomancy is the most widely used form of Investiture on Scadrial, and is locally known as one of the three Metallic Arts. People who have one or more Allomantic abilities are called Allomancers with each Allomantic power being paired with a type of metal, which must be ingested and \"burned\" to activate.\n",
      " 0.3915889263153076\n",
      "Allomancy, History\n",
      "Prior to the Ascension of the Lord Ruler, Allomancy was rarely found among the general population. The Lord Ruler's Ascension, and his subsequent distribution of the lerasium beads, increased the strength of the Allomantic spiritual DNA in the Final Empire, which had long lasting effects through the subsequent generations. Rashek, and his Steel Ministry, also suppressed knowledge of several of the Allomantic metals, so that only the four physical, four mental, gold, and atium, were known of by the general populace. Malatium became known through legend as The Eleventh Metal, a rumor that may have been started by Ruin to help facilitate the downfall of the Lord Ruler. Prior to its destruction, atium and malatium were incorrectly classified as temporal metals instead of God Metals by The Lord Ruler and his government. \n",
      " 0.3995424509048462\n",
      "Kelsier, Allomancy\n",
      "Kelsier is a Mistborn, so he can burn every Allomantic metal, although he is particularly proficient with the external physical metals iron and steel. He is capable of using them with a high degree of precision to control the momentum and rotation of dozens of pieces of metal simultaneously. He once used them in his fight with a Steel Inquisitor, so the metals acted like they were alive, twitching and flying through the air to cut and distract the Steel Inquisitor. He lacks finesse in the external mental abilities of zinc and brass as he tends to create large changes in emotional states as opposed to the more subtle Soothing abilities of Breeze, although he can affect a relatively large mass of people. He is quite proficient at pewter dragging and has enough practice to maintain it for hours and still maintain a fair amount of clarity afterwards. He lost these abilities in death and has not recovered them.\n",
      " 0.4012618362903595\n",
      "Allomancy, Mechanics\n",
      "Burning metals containing BioChromatic Breath has no effect on the Allomancy, although if the Breath belongs to the Allomancer it will be regained. If an Allomancer burns an Invested metal which is Allomantically inert, it will not have any special effect apart from possibly killing the Allomancer. Allomancers will still feel a reserve of power in their stomach from badly mixed alloys, and burning them will make them sick, giving them a blinding headache.\n",
      " 0.4113996922969818\n",
      "Allomancy, Allomantic Metals\n",
      "In addition to Pulling and Pushing classifications, there are external and internal metals. External powers influence things outside an Allomancer's body, while internal powers influence the Allomancer. This naturally divides the sixteen Allomantic metals into four groups of four metals each: physical, mental, temporal, and enhancement powers. Each quadrant has a metal and alloy pair of an external power, and another pair of internal powers. \n",
      " 0.4162074029445648\n"
     ]
    }
   ],
   "source": [
    "for idx, meta in enumerate(open_response['metadatas'][0]):\n",
    "    print(f\"{meta['article_title']}, {meta['paragraph_header']}\")\n",
    "    print(open_response[\"documents\"][0][idx] + f\"\\n {open_response[\"distances\"][0][idx]}\" )"
   ]
  },
  {
   "cell_type": "markdown",
   "metadata": {},
   "source": [
    "# Google Gemini embedding"
   ]
  },
  {
   "cell_type": "code",
   "execution_count": 48,
   "metadata": {},
   "outputs": [
    {
     "name": "stderr",
     "output_type": "stream",
     "text": [
      "c:\\Python312\\Lib\\site-packages\\tqdm\\auto.py:21: TqdmWarning: IProgress not found. Please update jupyter and ipywidgets. See https://ipywidgets.readthedocs.io/en/stable/user_install.html\n",
      "  from .autonotebook import tqdm as notebook_tqdm\n"
     ]
    }
   ],
   "source": [
    "import chromadb.utils.embedding_functions as embedding_fns\n",
    "import google.generativeai as genai"
   ]
  },
  {
   "cell_type": "code",
   "execution_count": 51,
   "metadata": {},
   "outputs": [],
   "source": [
    "genai.configure(api_key=environ['GOOGLE_API_KEY'])\n",
    "embedding_function = embedding_fns.GooglePalmEmbeddingFunction(api_key=environ[\"GOOGLE_API_KEY\"])"
   ]
  },
  {
   "cell_type": "code",
   "execution_count": 80,
   "metadata": {},
   "outputs": [
    {
     "name": "stderr",
     "output_type": "stream",
     "text": [
      "c:\\Python312\\Lib\\site-packages\\posthog\\client.py:345: DeprecationWarning: datetime.datetime.utcnow() is deprecated and scheduled for removal in a future version. Use timezone-aware objects to represent datetimes in UTC: datetime.datetime.now(datetime.UTC).\n",
      "  timestamp = datetime.utcnow().replace(tzinfo=tzutc())\n",
      "c:\\Python312\\Lib\\site-packages\\posthog\\request.py:40: DeprecationWarning: datetime.datetime.utcnow() is deprecated and scheduled for removal in a future version. Use timezone-aware objects to represent datetimes in UTC: datetime.datetime.now(datetime.UTC).\n",
      "  body[\"sentAt\"] = datetime.utcnow().replace(tzinfo=tzutc()).isoformat()\n",
      "c:\\Python312\\Lib\\site-packages\\posthog\\client.py:345: DeprecationWarning: datetime.datetime.utcnow() is deprecated and scheduled for removal in a future version. Use timezone-aware objects to represent datetimes in UTC: datetime.datetime.now(datetime.UTC).\n",
      "  timestamp = datetime.utcnow().replace(tzinfo=tzutc())\n"
     ]
    }
   ],
   "source": [
    "# client.reset()\n",
    "goog_collection = client.get_or_create_collection(\"goog_coppermind\", embedding_function=embedding_function)\n",
    "goog_collection = ingest_articles(goog_collection, data)"
   ]
  },
  {
   "cell_type": "code",
   "execution_count": 83,
   "metadata": {},
   "outputs": [],
   "source": [
    "query = \"what does steel do in allomancy\"\n",
    "goog_response = goog_collection.query(query_texts=query, n_results=10, include=[\"documents\", \"metadatas\",\"distances\"])\n"
   ]
  },
  {
   "cell_type": "code",
   "execution_count": 91,
   "metadata": {},
   "outputs": [
    {
     "name": "stdout",
     "output_type": "stream",
     "text": [
      "Allomancy, Allomantic Metals\n",
      "The Allomantic effects of metals are most similar to the effects of fabrials on Roshar. Steel and Iron also have corresponding effects in how they affect Aether, whether other allomantic metals also have effects or not is currently unknown.\n",
      " 0.3441183865070343\n",
      "Allomancy, Mechanics\n",
      "Allomancy is an End-Positive magic system, which draws on the power of Preservation, channeled through a metal when it is burned. This differs to how Feruchemy works, as Allomancy is not being powered by the body of the Allomancer, but instead by an external force. Like the other Metallic Arts, Allomancy as a magic system formed through the natural interactions between the two Shards that inhabit Scadrial, Preservation and Ruin, and the planet itself, instead of being created by a specific Shard. This magic system, however, is generally tailored and fuelled by Preservation, although specific cases will involve an Allomancer drawing upon Ruin's essence instead. Like other forms of Investiture, Allomancy does not necessarily reflect the intent of the Shard which it is associated with.\n",
      " 0.36356428265571594\n",
      "Allomancy, Allomancy\n",
      "Allomancy is the most widely used form of Investiture on Scadrial, and is locally known as one of the three Metallic Arts. People who have one or more Allomantic abilities are called Allomancers with each Allomantic power being paired with a type of metal, which must be ingested and \"burned\" to activate.\n",
      " 0.37533771991729736\n",
      "Allomancy, Allomantic Metals\n",
      "There are sixteen basic Allomantic metals. The metals come in pairs: one metal is a periodic element, while the other is the alloy of that base metal. These pairs have complementary effects. Iron Pulls on nearby metals, while its alloy, steel, Pushes on metals. Similarly, each elemental metal is classified as a \"Pulling\" ability, whereas each alloy is classified as a \"Pushing\" ability. The purity of the metal corresponds to its effectiveness and alloys require precise compound percentages for maximum power. Burning an impure alloy may cause sickness, while metals that are not Allomantically viable cannot be burned after being ingested.\n",
      " 0.38762202858924866\n",
      "Allomancy, Mechanics\n",
      "Allomantic metals are the focus, but not the source, of Allomancy's power. When an Allomancer burns a metal, that metal's specific molecular structure acts as a conduit to Preservation, and then the Allomancer is granted an ability corresponding to the metal, allowing the metal to \"focus\" Preservation's power to the user. Each metal is the only way a mortal can access Preservation and the power of creation, after which it is vaporized. However, this is only true for the base sixteen Allomantic metals and not God Metals or their alloys. \n",
      " 0.38882172107696533\n",
      "Allomancy, Gaining Allomantic Abilities\n",
      "Allomancy is a spiritually hereditary trait, that does not follow the same principles of dominant and recessive physical genetics. Scadrians with mixed skaa-noble heritage generally must have a noble in the previous five generations in order to be born an Allomancer. The ability lays dormant until an Allomancer undergoes Snapping, which will activate their Allomantic abilities. The abilities can be used instinctually, including while unconscious, once awakened if the user is to ingest the correct type of metal, though training is required to use these powers well. Snapping does not affect the chances of having an Allomancer child. Twins are more likely to have the same metal, especially if they are identical instead of fraternal.\n",
      " 0.3915889263153076\n",
      "Allomancy, Gaining Allomantic Abilities\n",
      "Additionally, consuming a bead of lerasium will hardcode Allomancy into a person's spiritweb and grant them Allomantic abilities. The size of the bead that is consumed is proportional to the strength of their Allomancy.\n",
      " 0.3995424509048462\n",
      "Allomancy, God Metals\n",
      "God Metals do not fit in the modern Allomantic Table, and Scadrians appear to only know of the metals that correspond to the Scadrian Shards; lerasium, atium, and harmonium, the last of which could only be burned theoretically, as it explodes upon contact with liquids. Unlike the standard Allomantic metals, which are regular metal elements and compounds, God Metals are a condensed, solid form of pure Investiture. Alloys of God Metals can lead to additional abilities.\n",
      " 0.4012618362903595\n",
      "Hoid, Metallic Arts\n",
      "Hoid has also gained access to Allomancy, by burning a bead of lerasium stolen from the Well of Ascension. This grants him power equivalent to that of the ancient Allomancers. It is uncertain how practiced he is with these powers, but he does make use of emotional Allomancy on at least one occasion. He also has access to atium. It is unknown whether or not Hoid has access to Feruchemy. However, he does have access to some unkeyed metalminds, which would not be useful to him without Feruchemical abilities or unsealed metalminds. The particular attributes that are stored in these metalminds are unknown. Hoid does not make use of Hemalurgy, to gain access to the Metallic Arts or any other manifestation of Investiture, as he is concerned about opening himself up to the influence of Shards. He does, however, own many Hemalurgic spikes.\n",
      " 0.4113996922969818\n",
      "Allomancy, Allomantic Metals\n",
      "In addition to Pulling and Pushing classifications, there are external and internal metals. External powers influence things outside an Allomancer's body, while internal powers influence the Allomancer. This naturally divides the sixteen Allomantic metals into four groups of four metals each: physical, mental, temporal, and enhancement powers. Each quadrant has a metal and alloy pair of an external power, and another pair of internal powers. \n",
      " 0.4162074029445648\n"
     ]
    }
   ],
   "source": [
    "for idx, meta in enumerate(goog_response['metadatas'][0]):\n",
    "    print(f\"{meta['article_title']}, {meta['paragraph_header']}\")\n",
    "    print(goog_response[\"documents\"][0][idx] + f\"\\n {open_response[\"distances\"][0][idx]}\")"
   ]
  },
  {
   "cell_type": "code",
   "execution_count": null,
   "metadata": {},
   "outputs": [],
   "source": []
  }
 ],
 "metadata": {
  "kernelspec": {
   "display_name": "Python 3",
   "language": "python",
   "name": "python3"
  },
  "language_info": {
   "codemirror_mode": {
    "name": "ipython",
    "version": 3
   },
   "file_extension": ".py",
   "mimetype": "text/x-python",
   "name": "python",
   "nbconvert_exporter": "python",
   "pygments_lexer": "ipython3",
   "version": "3.12.1"
  }
 },
 "nbformat": 4,
 "nbformat_minor": 2
}
