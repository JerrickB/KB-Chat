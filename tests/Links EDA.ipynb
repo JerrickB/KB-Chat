{
 "cells": [
  {
   "cell_type": "code",
   "execution_count": 3,
   "metadata": {},
   "outputs": [],
   "source": [
    "from sys import path\n",
    "import pandas as pd\n",
    "\n",
    "path.append(r'C:\\Users\\Izogie\\Desktop\\Folders\\Projects\\Python\\KB Chat\\src')\n",
    "from modules.SourceManager import SourceManager"
   ]
  },
  {
   "cell_type": "code",
   "execution_count": 4,
   "metadata": {},
   "outputs": [],
   "source": [
    "manager = SourceManager()\n",
    "data = manager.load_json(\"./articles.jsonl\")"
   ]
  },
  {
   "cell_type": "code",
   "execution_count": 41,
   "metadata": {},
   "outputs": [
    {
     "data": {
      "text/html": [
       "<div>\n",
       "<style scoped>\n",
       "    .dataframe tbody tr th:only-of-type {\n",
       "        vertical-align: middle;\n",
       "    }\n",
       "\n",
       "    .dataframe tbody tr th {\n",
       "        vertical-align: top;\n",
       "    }\n",
       "\n",
       "    .dataframe thead th {\n",
       "        text-align: right;\n",
       "    }\n",
       "</style>\n",
       "<table border=\"1\" class=\"dataframe\">\n",
       "  <thead>\n",
       "    <tr style=\"text-align: right;\">\n",
       "      <th></th>\n",
       "      <th>title</th>\n",
       "      <th>links</th>\n",
       "      <th>sections</th>\n",
       "    </tr>\n",
       "  </thead>\n",
       "  <tbody>\n",
       "    <tr>\n",
       "      <th>0</th>\n",
       "      <td>Kaladin</td>\n",
       "      <td>[Assassin in White, Katarotam, Hobber, Fen Rna...</td>\n",
       "      <td>[{'title': 'Kaladin', 'content': 'Kaladin, nic...</td>\n",
       "    </tr>\n",
       "    <tr>\n",
       "      <th>1</th>\n",
       "      <td>Pits of Hathsin</td>\n",
       "      <td>[Final Ascension, ref-wob-5525, Ruin's Perpend...</td>\n",
       "      <td>[{'title': 'Pits of Hathsin', 'content': 'The ...</td>\n",
       "    </tr>\n",
       "    <tr>\n",
       "      <th>2</th>\n",
       "      <td>Allomancy</td>\n",
       "      <td>[Final Ascension, ref-wob-12692, ref-wob-16270...</td>\n",
       "      <td>[{'title': 'Allomancy', 'content': 'Allomancy ...</td>\n",
       "    </tr>\n",
       "    <tr>\n",
       "      <th>3</th>\n",
       "      <td>Cosmere</td>\n",
       "      <td>[ref-wob-4850, Sleepless, Herald, Ars Arcanum,...</td>\n",
       "      <td>[{'title': 'Cosmere', 'content': 'The cosmere ...</td>\n",
       "    </tr>\n",
       "    <tr>\n",
       "      <th>4</th>\n",
       "      <td>Honor's Perpendicularity</td>\n",
       "      <td>[Physical Realm, cosmere, Thaylen City, ref-bo...</td>\n",
       "      <td>[{'title': 'Honor's Perpendicularity', 'conten...</td>\n",
       "    </tr>\n",
       "    <tr>\n",
       "      <th>5</th>\n",
       "      <td>Cephandrius</td>\n",
       "      <td>[Category: Aliases, Hoid, Category: nominal re...</td>\n",
       "      <td>None</td>\n",
       "    </tr>\n",
       "    <tr>\n",
       "      <th>6</th>\n",
       "      <td>Hoid</td>\n",
       "      <td>[ref-wob-3985, Sleepless, Design, AonDor, Cryp...</td>\n",
       "      <td>[{'title': 'Hoid', 'content': 'Hoid is a world...</td>\n",
       "    </tr>\n",
       "  </tbody>\n",
       "</table>\n",
       "</div>"
      ],
      "text/plain": [
       "                      title  \\\n",
       "0                   Kaladin   \n",
       "1           Pits of Hathsin   \n",
       "2                 Allomancy   \n",
       "3                   Cosmere   \n",
       "4  Honor's Perpendicularity   \n",
       "5               Cephandrius   \n",
       "6                      Hoid   \n",
       "\n",
       "                                               links  \\\n",
       "0  [Assassin in White, Katarotam, Hobber, Fen Rna...   \n",
       "1  [Final Ascension, ref-wob-5525, Ruin's Perpend...   \n",
       "2  [Final Ascension, ref-wob-12692, ref-wob-16270...   \n",
       "3  [ref-wob-4850, Sleepless, Herald, Ars Arcanum,...   \n",
       "4  [Physical Realm, cosmere, Thaylen City, ref-bo...   \n",
       "5  [Category: Aliases, Hoid, Category: nominal re...   \n",
       "6  [ref-wob-3985, Sleepless, Design, AonDor, Cryp...   \n",
       "\n",
       "                                            sections  \n",
       "0  [{'title': 'Kaladin', 'content': 'Kaladin, nic...  \n",
       "1  [{'title': 'Pits of Hathsin', 'content': 'The ...  \n",
       "2  [{'title': 'Allomancy', 'content': 'Allomancy ...  \n",
       "3  [{'title': 'Cosmere', 'content': 'The cosmere ...  \n",
       "4  [{'title': 'Honor's Perpendicularity', 'conten...  \n",
       "5                                               None  \n",
       "6  [{'title': 'Hoid', 'content': 'Hoid is a world...  "
      ]
     },
     "execution_count": 41,
     "metadata": {},
     "output_type": "execute_result"
    }
   ],
   "source": [
    "df = pd.DataFrame.from_dict(data)\n",
    "df"
   ]
  },
  {
   "cell_type": "markdown",
   "metadata": {},
   "source": [
    "# Questions to ask\n",
    "- How many total unique links in 6 pages?\n",
    "- How many on average are book refs, or wob refs?\n",
    "- How bad are the outliers?\n",
    "\n",
    "# Goals\n",
    "- Answer questions\n",
    "- Trim down links\n",
    "- Option to produce a list of links that are only the articles downloaded"
   ]
  },
  {
   "cell_type": "code",
   "execution_count": 53,
   "metadata": {},
   "outputs": [
    {
     "name": "stdout",
     "output_type": "stream",
     "text": [
      "Total links: 1670\n",
      "1670\n",
      "Unique links: 1423\n",
      "85.21% overlap\n"
     ]
    }
   ],
   "source": [
    "from functools import reduce\n",
    "from operator import iconcat\n",
    "# Unique links\n",
    "df['links'].dtypes = {list: str}\n",
    "df_links = df['links'].copy()\n",
    "df_links_stats = df.copy()\n",
    "df_links_stats['num_links'] = df_links.apply(lambda x: len(x))\n",
    "num_links = df_links_stats['num_links'].sum()\n",
    "print(f\"Total links: {num_links}\")\n",
    "flattened_links = reduce(iconcat, df_links, [])\n",
    "print(len(flattened_links))\n",
    "set_flattened = set(flattened_links)\n",
    "unique_sum = len(set_flattened)\n",
    "print(f\"Unique links: {unique_sum}\")\n",
    "print(f\"{round(unique_sum/num_links*100,2)}% overlap\")"
   ]
  },
  {
   "cell_type": "code",
   "execution_count": 46,
   "metadata": {},
   "outputs": [
    {
     "name": "stdout",
     "output_type": "stream",
     "text": [
      "Total Ref %\n",
      "Total refs: 834\n",
      "% wob: 53.24\n",
      "% book: 46.76\n",
      "\n"
     ]
    }
   ],
   "source": [
    "# % wob and book refs\n",
    "# total refs\n",
    "def get_ref_stats(row):\n",
    "    total_refs = 0\n",
    "    wob_refs = 0\n",
    "    book_refs = 0\n",
    "    other_refs = []\n",
    "    for link in row['links']:\n",
    "        if link.startswith(\"ref-\"):\n",
    "            total_refs += 1\n",
    "            if link.startswith(\"ref-book\"): book_refs += 1\n",
    "            elif link.startswith(\"ref-wob\"): wob_refs += 1\n",
    "            else: other_refs.append(link)\n",
    "    row['num_total_refs'] = total_refs\n",
    "    row['num_book_refs'] = book_refs\n",
    "    row['num_wob_refs'] = wob_refs\n",
    "#     if total_refs > 0:\n",
    "#         print(f\"\"\"{row['title']}\n",
    "# Total refs: {total_refs}\n",
    "# % wob: {(wob_refs/total_refs) * 100 if wob_refs > 0 else 0}\n",
    "# % book: {(book_refs/total_refs) * 100 if book_refs > 0 else 0}\n",
    "# \"\"\")\n",
    "#     else:\n",
    "#         print(f\"{row['title']}\\nTotal Refs: 0\")\n",
    "    return row\n",
    "    \n",
    "df_links_stats = df_links_stats.apply(lambda x: get_ref_stats(x), axis=1)\n",
    "all_refs = df_links_stats['num_total_refs'].sum()\n",
    "all_book_refs = df_links_stats['num_book_refs'].sum()\n",
    "all_wob_refs = df_links_stats['num_wob_refs'].sum()\n",
    "\n",
    "print(f\"\"\"Total Ref %\n",
    "Total refs: {all_refs}\n",
    "% wob: {round((all_wob_refs/all_refs) * 100,2)}\n",
    "% book: {round((all_book_refs/all_refs) * 100,2)}\n",
    "\"\"\")"
   ]
  },
  {
   "cell_type": "code",
   "execution_count": 59,
   "metadata": {},
   "outputs": [
    {
     "data": {
      "text/plain": [
       "title       object\n",
       "links       object\n",
       "sections    object\n",
       "dtype: object"
      ]
     },
     "execution_count": 59,
     "metadata": {},
     "output_type": "execute_result"
    }
   ],
   "source": [
    "df.dtypes"
   ]
  },
  {
   "cell_type": "code",
   "execution_count": 58,
   "metadata": {},
   "outputs": [
    {
     "data": {
      "text/plain": [
       "[]"
      ]
     },
     "execution_count": 58,
     "metadata": {},
     "output_type": "execute_result"
    }
   ],
   "source": [
    "p"
   ]
  },
  {
   "cell_type": "code",
   "execution_count": null,
   "metadata": {},
   "outputs": [],
   "source": []
  }
 ],
 "metadata": {
  "kernelspec": {
   "display_name": "Python 3",
   "language": "python",
   "name": "python3"
  },
  "language_info": {
   "codemirror_mode": {
    "name": "ipython",
    "version": 3
   },
   "file_extension": ".py",
   "mimetype": "text/x-python",
   "name": "python",
   "nbconvert_exporter": "python",
   "pygments_lexer": "ipython3",
   "version": "3.12.1"
  }
 },
 "nbformat": 4,
 "nbformat_minor": 2
}
