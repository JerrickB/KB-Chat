{
 "cells": [
  {
   "cell_type": "code",
   "execution_count": 1,
   "metadata": {},
   "outputs": [
    {
     "name": "stderr",
     "output_type": "stream",
     "text": [
      "<frozen importlib._bootstrap>:488: DeprecationWarning: Type google._upb._message.MessageMapContainer uses PyType_Spec with a metaclass that has custom tp_new. This is deprecated and will no longer be allowed in Python 3.14.\n",
      "<frozen importlib._bootstrap>:488: DeprecationWarning: Type google._upb._message.ScalarMapContainer uses PyType_Spec with a metaclass that has custom tp_new. This is deprecated and will no longer be allowed in Python 3.14.\n",
      "c:\\Python312\\Lib\\site-packages\\tqdm\\auto.py:21: TqdmWarning: IProgress not found. Please update jupyter and ipywidgets. See https://ipywidgets.readthedocs.io/en/stable/user_install.html\n",
      "  from .autonotebook import tqdm as notebook_tqdm\n"
     ]
    }
   ],
   "source": [
    "from sys import path\n",
    "path.append(r'C:\\Users\\Izogie\\Desktop\\Folders\\Projects\\Python\\KB Chat\\src')\n",
    "from modules.SourceManager import SourceManager\n",
    "from modules.VectorDBManager import VectorDBManager\n",
    "from Pipeline import RAGPipeline"
   ]
  },
  {
   "cell_type": "markdown",
   "metadata": {},
   "source": [
    "# Testing VectorDBManager"
   ]
  },
  {
   "cell_type": "code",
   "execution_count": 2,
   "metadata": {},
   "outputs": [],
   "source": [
    "data_manager = SourceManager()"
   ]
  },
  {
   "cell_type": "code",
   "execution_count": 3,
   "metadata": {},
   "outputs": [],
   "source": [
    "page_titles = [\n",
    "    \"Kaladin\",\n",
    "    \"Pits of Hathsin\",\n",
    "    \"Allomancy\",\n",
    "    \"Cosmere\",\n",
    "    \"Honor's Perpendicularity\",\n",
    "    \"Cephandrius\",\n",
    "    \"Hoid\",\n",
    "    \"Odium\",\n",
    "    \"Realmatic Theory\",\n",
    "    \"Knights Radiant\",\n",
    "    \"Kelsier\",\n",
    "    \"Stormfather\",\n",
    "    \"Cognitive Shadow\",\n",
    "    \"Dalinar Kholin\",\n",
    "    \"Surgebinder\",\n",
    "    \"Shadesmar\",\n",
    "    \"Awakening\",\n",
    "    \"Tanavast\",\n",
    "    \"Urithiru\",\n",
    "    \"Fused\"\n",
    "]\n"
   ]
  },
  {
   "cell_type": "code",
   "execution_count": 4,
   "metadata": {},
   "outputs": [],
   "source": [
    "# data = data_manager.prep_data_graph(page_titles)\n",
    "data = data_manager.load_json(\"processed_articles.jsonl\")"
   ]
  },
  {
   "cell_type": "code",
   "execution_count": 5,
   "metadata": {},
   "outputs": [
    {
     "name": "stderr",
     "output_type": "stream",
     "text": [
      "c:\\Python312\\Lib\\site-packages\\posthog\\client.py:345: DeprecationWarning: datetime.datetime.utcnow() is deprecated and scheduled for removal in a future version. Use timezone-aware objects to represent datetimes in UTC: datetime.datetime.now(datetime.UTC).\n",
      "  timestamp = datetime.utcnow().replace(tzinfo=tzutc())\n",
      "c:\\Python312\\Lib\\site-packages\\posthog\\client.py:345: DeprecationWarning: datetime.datetime.utcnow() is deprecated and scheduled for removal in a future version. Use timezone-aware objects to represent datetimes in UTC: datetime.datetime.now(datetime.UTC).\n",
      "  timestamp = datetime.utcnow().replace(tzinfo=tzutc())\n"
     ]
    }
   ],
   "source": [
    "vectorManager = VectorDBManager()"
   ]
  },
  {
   "cell_type": "code",
   "execution_count": 6,
   "metadata": {},
   "outputs": [
    {
     "name": "stderr",
     "output_type": "stream",
     "text": [
      "c:\\Python312\\Lib\\site-packages\\posthog\\request.py:40: DeprecationWarning: datetime.datetime.utcnow() is deprecated and scheduled for removal in a future version. Use timezone-aware objects to represent datetimes in UTC: datetime.datetime.now(datetime.UTC).\n",
      "  body[\"sentAt\"] = datetime.utcnow().replace(tzinfo=tzutc()).isoformat()\n",
      "c:\\Python312\\Lib\\site-packages\\posthog\\client.py:345: DeprecationWarning: datetime.datetime.utcnow() is deprecated and scheduled for removal in a future version. Use timezone-aware objects to represent datetimes in UTC: datetime.datetime.now(datetime.UTC).\n",
      "  timestamp = datetime.utcnow().replace(tzinfo=tzutc())\n"
     ]
    }
   ],
   "source": [
    "vectorManager.ingest_articles(data)"
   ]
  },
  {
   "cell_type": "code",
   "execution_count": 7,
   "metadata": {},
   "outputs": [
    {
     "name": "stderr",
     "output_type": "stream",
     "text": [
      "c:\\Python312\\Lib\\site-packages\\posthog\\request.py:40: DeprecationWarning: datetime.datetime.utcnow() is deprecated and scheduled for removal in a future version. Use timezone-aware objects to represent datetimes in UTC: datetime.datetime.now(datetime.UTC).\n",
      "  body[\"sentAt\"] = datetime.utcnow().replace(tzinfo=tzutc()).isoformat()\n",
      "c:\\Python312\\Lib\\site-packages\\posthog\\client.py:345: DeprecationWarning: datetime.datetime.utcnow() is deprecated and scheduled for removal in a future version. Use timezone-aware objects to represent datetimes in UTC: datetime.datetime.now(datetime.UTC).\n",
      "  timestamp = datetime.utcnow().replace(tzinfo=tzutc())\n"
     ]
    }
   ],
   "source": [
    "# from langchain.chains.query_constructor.base import AttributeInfo\n",
    "from langchain_google_genai import ChatGoogleGenerativeAI\n",
    "from langchain.retrievers.self_query.base import SelfQueryRetriever\n",
    "from langchain.retrievers.self_query.chroma import ChromaTranslator\n",
    "\n",
    "vectorManager._init_langchaindb()\n",
    "vectorManager._init_metadata_field_info()\n",
    "llm = ChatGoogleGenerativeAI(\n",
    "    model=\"gemini-1.5-pro\"\n",
    ")\n",
    "retriever = SelfQueryRetriever.from_llm(\n",
    "    llm,\n",
    "    vectorstore=vectorManager.langdb,\n",
    "    document_contents=vectorManager.doc_content_description,\n",
    "    metadata_field_info=vectorManager.metadata_field_info,\n",
    "    structured_query_translator=ChromaTranslator()\n",
    ")"
   ]
  },
  {
   "cell_type": "code",
   "execution_count": 8,
   "metadata": {},
   "outputs": [
    {
     "name": "stderr",
     "output_type": "stream",
     "text": [
      "c:\\Python312\\Lib\\site-packages\\posthog\\request.py:40: DeprecationWarning: datetime.datetime.utcnow() is deprecated and scheduled for removal in a future version. Use timezone-aware objects to represent datetimes in UTC: datetime.datetime.now(datetime.UTC).\n",
      "  body[\"sentAt\"] = datetime.utcnow().replace(tzinfo=tzutc()).isoformat()\n"
     ]
    }
   ],
   "source": [
    "from langchain.retrievers import ContextualCompressionRetriever\n",
    "from langchain.retrievers.document_compressors import FlashrankRerank\n",
    "compressor = FlashrankRerank()\n",
    "rerank_retriever = ContextualCompressionRetriever(base_compressor=compressor, base_retriever=retriever)"
   ]
  },
  {
   "cell_type": "code",
   "execution_count": 9,
   "metadata": {},
   "outputs": [],
   "source": [
    "from langchain_google_genai import GoogleGenerativeAI\n",
    "from google.generativeai import configure\n",
    "from os import environ\n",
    "configure(api_key=environ[\"GOOGLE_API_KEY\"])\n",
    "gemini = GoogleGenerativeAI(model=\"gemini-1.5-flash\")"
   ]
  },
  {
   "cell_type": "code",
   "execution_count": 21,
   "metadata": {},
   "outputs": [],
   "source": [
    "query = \"What is the difference between the fused and the singers?\""
   ]
  },
  {
   "cell_type": "code",
   "execution_count": 22,
   "metadata": {},
   "outputs": [
    {
     "name": "stderr",
     "output_type": "stream",
     "text": [
      "WARNING:langchain_google_genai.chat_models:Retrying langchain_google_genai.chat_models._chat_with_retry.<locals>._chat_with_retry in 2.0 seconds as it raised InternalServerError: 500 An internal error has occurred. Please retry or report in https://developers.generativeai.google/guide/troubleshooting.\n",
      "INFO:httpx:HTTP Request: POST https://api.openai.com/v1/embeddings \"HTTP/1.1 200 OK\"\n"
     ]
    },
    {
     "name": "stdout",
     "output_type": "stream",
     "text": [
      "[Document(metadata={'id': 2, 'relevance_score': 0.99887574}, page_content='The Fused are the souls of ancient singers that are able to be reborn by possessing the bodies of living singers. They are considered to be higher in singer society than Regals and common singers. They are Surgebinders; however, unlike the Knights Radiant, there are only nine \"brands\" of them, rather than ten, and each brand has access to a single Surge, with none accessing Adhesion.'), Document(metadata={'id': 3, 'relevance_score': 0.99887574}, page_content='The Fused are the souls of ancient singers that are able to be reborn by possessing the bodies of living singers. They are considered to be higher in singer society than Regals and common singers. They are Surgebinders; however, unlike the Knights Radiant, there are only nine \"brands\" of them, rather than ten, and each brand has access to a single Surge, with none accessing Adhesion.'), Document(metadata={'id': 0, 'relevance_score': 0.99875003}, page_content='The Fused have an extremely complex political and social hierarchy even though their actions are generally governed by Odium. Generally, they have hatred and contempt for humans and place common singers above them in status. Among common singers, those chosen to be elevated are granted forms of power and become Regals. The Fused tend to defer to thunderclasts and Unmade. However, even within the singers there are delineations of status and authority. There are nine brands of Fused with different powers and specialties. Other factors such as reputation, history, and capacity also matter a great deal, and how well individual Fused have retained their sanity. Many of the important Fused have a Voice, an envoyform singer who represents their Fused and helps manage their affairs; Voices are generally accorded respect beyond that given to ordinary Regals, especially if the Fused they serve is particularly important.')]\n"
     ]
    }
   ],
   "source": [
    "gemini_docs = rerank_retriever.invoke(query)\n",
    "print(gemini_docs)"
   ]
  },
  {
   "cell_type": "code",
   "execution_count": 23,
   "metadata": {},
   "outputs": [],
   "source": [
    "\n",
    "prompt = f\"\"\"\n",
    "Use the below context to assist in answering this question: {query}\n",
    "\n",
    "context\n",
    "```\n",
    "{gemini_docs}\n",
    "```\n",
    "\"\"\"\n",
    "gem_response = gemini.invoke(prompt)"
   ]
  },
  {
   "cell_type": "code",
   "execution_count": 24,
   "metadata": {},
   "outputs": [
    {
     "name": "stdout",
     "output_type": "stream",
     "text": [
      "The provided context describes two types of singers: **Fused** and **common singers**. Here's the breakdown of their differences:\n",
      "\n",
      "* **Fused:**\n",
      "    * **Origin:** Souls of ancient singers reborn by possessing the bodies of living singers.\n",
      "    * **Status:** Higher in singer society than Regals and common singers.\n",
      "    * **Powers:** Surgebinders with access to nine \"brands,\" each wielding a single Surge (no Adhesion).\n",
      "    * **Hierarchy:** Have a complex political and social hierarchy within their ranks, with different brands, reputations, and levels of sanity impacting their standing.\n",
      "    * **Attitude towards humans:** Generally harbor hatred and contempt for humans.\n",
      "\n",
      "* **Common singers:**\n",
      "    * **Origin:** Ordinary singers who are not Fused.\n",
      "    * **Status:** Lower than Fused and Regals in singer society.\n",
      "    * **Powers:** Some common singers are chosen to be elevated and become Regals, granting them forms of power.\n",
      "    * **Hierarchy:**  The context mentions a hierarchy among common singers, with Regals holding a higher status than ordinary common singers.\n",
      "\n",
      "**In essence, the primary difference between Fused and common singers is their origin, powers, and status within singer society. Fused are reborn ancient singers with unique abilities and a higher standing, while common singers are ordinary individuals with varying degrees of power and influence.** \n",
      "\n"
     ]
    }
   ],
   "source": [
    "print(gem_response)"
   ]
  },
  {
   "cell_type": "markdown",
   "metadata": {},
   "source": [
    "# RAG Pipeline class test"
   ]
  },
  {
   "cell_type": "code",
   "execution_count": 2,
   "metadata": {},
   "outputs": [
    {
     "name": "stderr",
     "output_type": "stream",
     "text": [
      "c:\\Python312\\Lib\\site-packages\\posthog\\client.py:345: DeprecationWarning: datetime.datetime.utcnow() is deprecated and scheduled for removal in a future version. Use timezone-aware objects to represent datetimes in UTC: datetime.datetime.now(datetime.UTC).\n",
      "  timestamp = datetime.utcnow().replace(tzinfo=tzutc())\n",
      "c:\\Python312\\Lib\\site-packages\\posthog\\client.py:345: DeprecationWarning: datetime.datetime.utcnow() is deprecated and scheduled for removal in a future version. Use timezone-aware objects to represent datetimes in UTC: datetime.datetime.now(datetime.UTC).\n",
      "  timestamp = datetime.utcnow().replace(tzinfo=tzutc())\n"
     ]
    }
   ],
   "source": [
    "pipe = RAGPipeline()"
   ]
  },
  {
   "cell_type": "code",
   "execution_count": 3,
   "metadata": {},
   "outputs": [
    {
     "name": "stderr",
     "output_type": "stream",
     "text": [
      "c:\\Python312\\Lib\\site-packages\\posthog\\request.py:40: DeprecationWarning: datetime.datetime.utcnow() is deprecated and scheduled for removal in a future version. Use timezone-aware objects to represent datetimes in UTC: datetime.datetime.now(datetime.UTC).\n",
      "  body[\"sentAt\"] = datetime.utcnow().replace(tzinfo=tzutc()).isoformat()\n",
      "c:\\Python312\\Lib\\site-packages\\posthog\\client.py:345: DeprecationWarning: datetime.datetime.utcnow() is deprecated and scheduled for removal in a future version. Use timezone-aware objects to represent datetimes in UTC: datetime.datetime.now(datetime.UTC).\n",
      "  timestamp = datetime.utcnow().replace(tzinfo=tzutc())\n"
     ]
    }
   ],
   "source": [
    "# pipe.load_processed_pages()\n",
    "pipe.init_retriever()\n",
    "pipe.init_compressor()"
   ]
  },
  {
   "cell_type": "code",
   "execution_count": 4,
   "metadata": {},
   "outputs": [],
   "source": [
    "query = \"What is the difference between the fused and the singers?\""
   ]
  },
  {
   "cell_type": "code",
   "execution_count": 5,
   "metadata": {},
   "outputs": [
    {
     "name": "stderr",
     "output_type": "stream",
     "text": [
      "c:\\Python312\\Lib\\site-packages\\posthog\\request.py:40: DeprecationWarning: datetime.datetime.utcnow() is deprecated and scheduled for removal in a future version. Use timezone-aware objects to represent datetimes in UTC: datetime.datetime.now(datetime.UTC).\n",
      "  body[\"sentAt\"] = datetime.utcnow().replace(tzinfo=tzutc()).isoformat()\n",
      "INFO:httpx:HTTP Request: POST https://api.openai.com/v1/embeddings \"HTTP/1.1 200 OK\"\n",
      "c:\\Python312\\Lib\\site-packages\\posthog\\client.py:345: DeprecationWarning: datetime.datetime.utcnow() is deprecated and scheduled for removal in a future version. Use timezone-aware objects to represent datetimes in UTC: datetime.datetime.now(datetime.UTC).\n",
      "  timestamp = datetime.utcnow().replace(tzinfo=tzutc())\n",
      "c:\\Python312\\Lib\\site-packages\\posthog\\request.py:40: DeprecationWarning: datetime.datetime.utcnow() is deprecated and scheduled for removal in a future version. Use timezone-aware objects to represent datetimes in UTC: datetime.datetime.now(datetime.UTC).\n",
      "  body[\"sentAt\"] = datetime.utcnow().replace(tzinfo=tzutc()).isoformat()\n"
     ]
    },
    {
     "name": "stdout",
     "output_type": "stream",
     "text": [
      "\n",
      "The main difference between the Fused and the singers is that **singers are a subset of the Fused**. \n",
      "\n",
      "Here's the breakdown:\n",
      "\n",
      "* **Fused:** This is the overarching category, encompassing beings who have been \"fused\" with shards of a powerful entity called Odium. They are generally hostile to humans and have a complex social hierarchy.\n",
      "* **Singers:** These are a specific type of Fused who possess certain abilities and are more aligned with Odium's will. They are considered higher in status than regular humans. \n",
      "* **Regals:** These are singers who have been elevated to positions of power.\n",
      "* **Voices:** These are singers who represent and manage the affairs of important Fused. They are often respected more than even Regals.\n",
      "\n",
      "The text highlights that even within the singers, there are distinctions of status and authority based on factors like their brand, reputation, history, and sanity.\n",
      "\n",
      "Sources:\n",
      "1 - The Fused have an extremely complex political and social hierarchy even though their actions are generally governed by Odium. Generally, they have hatred and contempt for humans and place common singers above them in status. Among common singers, those chosen to be elevated are granted forms of power and become Regals. The Fused tend to defer to thunderclasts and Unmade. However, even within the singers there are delineations of status and authority. There are nine brands of Fused with different powers and specialties. Other factors such as reputation, history, and capacity also matter a great deal, and how well individual Fused have retained their sanity. Many of the important Fused have a Voice, an envoyform singer who represents their Fused and helps manage their affairs; Voices are generally accorded respect beyond that given to ordinary Regals, especially if the Fused they serve is particularly important.\n",
      "2 - Fused\n",
      "3 - Fused\n"
     ]
    }
   ],
   "source": [
    "response = pipe.perform_rag(query)"
   ]
  },
  {
   "cell_type": "code",
   "execution_count": 6,
   "metadata": {},
   "outputs": [
    {
     "name": "stdout",
     "output_type": "stream",
     "text": [
      "('The main difference between the Fused and the singers is that **singers are a subset of the Fused**. \\n\\nHere\\'s the breakdown:\\n\\n* **Fused:** This is the overarching category, encompassing beings who have been \"fused\" with shards of a powerful entity called Odium. They are generally hostile to humans and have a complex social hierarchy.\\n* **Singers:** These are a specific type of Fused who possess certain abilities and are more aligned with Odium\\'s will. They are considered higher in status than regular humans. \\n* **Regals:** These are singers who have been elevated to positions of power.\\n* **Voices:** These are singers who represent and manage the affairs of important Fused. They are often respected more than even Regals.\\n\\nThe text highlights that even within the singers, there are distinctions of status and authority based on factors like their brand, reputation, history, and sanity.', [Document(metadata={'id': 3, 'relevance_score': 0.9986379}, page_content='The Fused have an extremely complex political and social hierarchy even though their actions are generally governed by Odium. Generally, they have hatred and contempt for humans and place common singers above them in status. Among common singers, those chosen to be elevated are granted forms of power and become Regals. The Fused tend to defer to thunderclasts and Unmade. However, even within the singers there are delineations of status and authority. There are nine brands of Fused with different powers and specialties. Other factors such as reputation, history, and capacity also matter a great deal, and how well individual Fused have retained their sanity. Many of the important Fused have a Voice, an envoyform singer who represents their Fused and helps manage their affairs; Voices are generally accorded respect beyond that given to ordinary Regals, especially if the Fused they serve is particularly important.'), Document(metadata={'id': 0, 'relevance_score': 0.0041871755}, page_content='Fused'), Document(metadata={'id': 1, 'relevance_score': 0.0041871755}, page_content='Fused')])\n"
     ]
    }
   ],
   "source": [
    "print(response)"
   ]
  },
  {
   "cell_type": "code",
   "execution_count": null,
   "metadata": {},
   "outputs": [],
   "source": []
  }
 ],
 "metadata": {
  "kernelspec": {
   "display_name": "Python 3",
   "language": "python",
   "name": "python3"
  },
  "language_info": {
   "codemirror_mode": {
    "name": "ipython",
    "version": 3
   },
   "file_extension": ".py",
   "mimetype": "text/x-python",
   "name": "python",
   "nbconvert_exporter": "python",
   "pygments_lexer": "ipython3",
   "version": "3.12.1"
  }
 },
 "nbformat": 4,
 "nbformat_minor": 2
}
