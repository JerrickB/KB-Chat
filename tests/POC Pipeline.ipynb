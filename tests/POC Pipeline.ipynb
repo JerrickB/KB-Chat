{
 "cells": [
  {
   "cell_type": "code",
   "execution_count": 1,
   "metadata": {},
   "outputs": [
    {
     "name": "stderr",
     "output_type": "stream",
     "text": [
      "<frozen importlib._bootstrap>:488: DeprecationWarning: Type google._upb._message.MessageMapContainer uses PyType_Spec with a metaclass that has custom tp_new. This is deprecated and will no longer be allowed in Python 3.14.\n",
      "<frozen importlib._bootstrap>:488: DeprecationWarning: Type google._upb._message.ScalarMapContainer uses PyType_Spec with a metaclass that has custom tp_new. This is deprecated and will no longer be allowed in Python 3.14.\n",
      "c:\\Python312\\Lib\\site-packages\\tqdm\\auto.py:21: TqdmWarning: IProgress not found. Please update jupyter and ipywidgets. See https://ipywidgets.readthedocs.io/en/stable/user_install.html\n",
      "  from .autonotebook import tqdm as notebook_tqdm\n"
     ]
    }
   ],
   "source": [
    "from sys import path\n",
    "path.append(r'C:\\Users\\Izogie\\Desktop\\Folders\\Projects\\Python\\KB Chat\\src')\n",
    "from modules.SourceManager import SourceManager\n",
    "from modules.VectorDBManager import VectorDBManager\n",
    "from Pipeline import RAGPipeline"
   ]
  },
  {
   "cell_type": "markdown",
   "metadata": {},
   "source": [
    "# Testing VectorDBManager"
   ]
  },
  {
   "cell_type": "code",
   "execution_count": 2,
   "metadata": {},
   "outputs": [],
   "source": [
    "data_manager = SourceManager()"
   ]
  },
  {
   "cell_type": "code",
   "execution_count": 3,
   "metadata": {},
   "outputs": [],
   "source": [
    "page_titles = [\n",
    "    \"Kaladin\",\n",
    "    \"Pits of Hathsin\",\n",
    "    \"Allomancy\",\n",
    "    \"Cosmere\",\n",
    "    \"Honor's Perpendicularity\",\n",
    "    \"Cephandrius\",\n",
    "    \"Hoid\",\n",
    "    \"Odium\",\n",
    "    \"Realmatic Theory\",\n",
    "    \"Knights Radiant\",\n",
    "    \"Kelsier\",\n",
    "    \"Stormfather\",\n",
    "    \"Cognitive Shadow\",\n",
    "    \"Dalinar Kholin\",\n",
    "    \"Surgebinder\",\n",
    "    \"Shadesmar\",\n",
    "    \"Awakening\",\n",
    "    \"Tanavast\",\n",
    "    \"Urithiru\",\n",
    "    \"Fused\"\n",
    "]\n"
   ]
  },
  {
   "cell_type": "code",
   "execution_count": 4,
   "metadata": {},
   "outputs": [],
   "source": [
    "# data = data_manager.prep_data_graph(page_titles)\n",
    "data = data_manager.load_json(\"processed_articles.jsonl\")"
   ]
  },
  {
   "cell_type": "code",
   "execution_count": 5,
   "metadata": {},
   "outputs": [
    {
     "name": "stderr",
     "output_type": "stream",
     "text": [
      "c:\\Python312\\Lib\\site-packages\\posthog\\client.py:345: DeprecationWarning: datetime.datetime.utcnow() is deprecated and scheduled for removal in a future version. Use timezone-aware objects to represent datetimes in UTC: datetime.datetime.now(datetime.UTC).\n",
      "  timestamp = datetime.utcnow().replace(tzinfo=tzutc())\n",
      "c:\\Python312\\Lib\\site-packages\\posthog\\client.py:345: DeprecationWarning: datetime.datetime.utcnow() is deprecated and scheduled for removal in a future version. Use timezone-aware objects to represent datetimes in UTC: datetime.datetime.now(datetime.UTC).\n",
      "  timestamp = datetime.utcnow().replace(tzinfo=tzutc())\n"
     ]
    }
   ],
   "source": [
    "vectorManager = VectorDBManager()"
   ]
  },
  {
   "cell_type": "code",
   "execution_count": 6,
   "metadata": {},
   "outputs": [
    {
     "name": "stderr",
     "output_type": "stream",
     "text": [
      "c:\\Python312\\Lib\\site-packages\\posthog\\request.py:40: DeprecationWarning: datetime.datetime.utcnow() is deprecated and scheduled for removal in a future version. Use timezone-aware objects to represent datetimes in UTC: datetime.datetime.now(datetime.UTC).\n",
      "  body[\"sentAt\"] = datetime.utcnow().replace(tzinfo=tzutc()).isoformat()\n",
      "c:\\Python312\\Lib\\site-packages\\posthog\\client.py:345: DeprecationWarning: datetime.datetime.utcnow() is deprecated and scheduled for removal in a future version. Use timezone-aware objects to represent datetimes in UTC: datetime.datetime.now(datetime.UTC).\n",
      "  timestamp = datetime.utcnow().replace(tzinfo=tzutc())\n"
     ]
    }
   ],
   "source": [
    "vectorManager.ingest_articles(data)"
   ]
  },
  {
   "cell_type": "code",
   "execution_count": 7,
   "metadata": {},
   "outputs": [
    {
     "name": "stderr",
     "output_type": "stream",
     "text": [
      "c:\\Python312\\Lib\\site-packages\\posthog\\request.py:40: DeprecationWarning: datetime.datetime.utcnow() is deprecated and scheduled for removal in a future version. Use timezone-aware objects to represent datetimes in UTC: datetime.datetime.now(datetime.UTC).\n",
      "  body[\"sentAt\"] = datetime.utcnow().replace(tzinfo=tzutc()).isoformat()\n",
      "c:\\Python312\\Lib\\site-packages\\posthog\\client.py:345: DeprecationWarning: datetime.datetime.utcnow() is deprecated and scheduled for removal in a future version. Use timezone-aware objects to represent datetimes in UTC: datetime.datetime.now(datetime.UTC).\n",
      "  timestamp = datetime.utcnow().replace(tzinfo=tzutc())\n"
     ]
    }
   ],
   "source": [
    "# from langchain.chains.query_constructor.base import AttributeInfo\n",
    "from langchain_google_genai import ChatGoogleGenerativeAI\n",
    "from langchain.retrievers.self_query.base import SelfQueryRetriever\n",
    "from langchain.retrievers.self_query.chroma import ChromaTranslator\n",
    "\n",
    "vectorManager._init_langchaindb()\n",
    "vectorManager._init_metadata_field_info()\n",
    "llm = ChatGoogleGenerativeAI(\n",
    "    model=\"gemini-1.5-pro\"\n",
    ")\n",
    "retriever = SelfQueryRetriever.from_llm(\n",
    "    llm,\n",
    "    vectorstore=vectorManager.langdb,\n",
    "    document_contents=vectorManager.doc_content_description,\n",
    "    metadata_field_info=vectorManager.metadata_field_info,\n",
    "    structured_query_translator=ChromaTranslator()\n",
    ")"
   ]
  },
  {
   "cell_type": "code",
   "execution_count": 8,
   "metadata": {},
   "outputs": [
    {
     "name": "stderr",
     "output_type": "stream",
     "text": [
      "c:\\Python312\\Lib\\site-packages\\posthog\\request.py:40: DeprecationWarning: datetime.datetime.utcnow() is deprecated and scheduled for removal in a future version. Use timezone-aware objects to represent datetimes in UTC: datetime.datetime.now(datetime.UTC).\n",
      "  body[\"sentAt\"] = datetime.utcnow().replace(tzinfo=tzutc()).isoformat()\n"
     ]
    }
   ],
   "source": [
    "from langchain.retrievers import ContextualCompressionRetriever\n",
    "from langchain.retrievers.document_compressors import FlashrankRerank\n",
    "compressor = FlashrankRerank()\n",
    "rerank_retriever = ContextualCompressionRetriever(base_compressor=compressor, base_retriever=retriever)"
   ]
  },
  {
   "cell_type": "code",
   "execution_count": 9,
   "metadata": {},
   "outputs": [],
   "source": [
    "from langchain_google_genai import GoogleGenerativeAI\n",
    "from google.generativeai import configure\n",
    "from os import environ\n",
    "configure(api_key=environ[\"GOOGLE_API_KEY\"])\n",
    "gemini = GoogleGenerativeAI(model=\"gemini-1.5-flash\")"
   ]
  },
  {
   "cell_type": "code",
   "execution_count": 21,
   "metadata": {},
   "outputs": [],
   "source": [
    "query = \"What is the difference between the fused and the singers?\""
   ]
  },
  {
   "cell_type": "code",
   "execution_count": 22,
   "metadata": {},
   "outputs": [
    {
     "name": "stderr",
     "output_type": "stream",
     "text": [
      "WARNING:langchain_google_genai.chat_models:Retrying langchain_google_genai.chat_models._chat_with_retry.<locals>._chat_with_retry in 2.0 seconds as it raised InternalServerError: 500 An internal error has occurred. Please retry or report in https://developers.generativeai.google/guide/troubleshooting.\n",
      "INFO:httpx:HTTP Request: POST https://api.openai.com/v1/embeddings \"HTTP/1.1 200 OK\"\n"
     ]
    },
    {
     "name": "stdout",
     "output_type": "stream",
     "text": [
      "[Document(metadata={'id': 2, 'relevance_score': 0.99887574}, page_content='The Fused are the souls of ancient singers that are able to be reborn by possessing the bodies of living singers. They are considered to be higher in singer society than Regals and common singers. They are Surgebinders; however, unlike the Knights Radiant, there are only nine \"brands\" of them, rather than ten, and each brand has access to a single Surge, with none accessing Adhesion.'), Document(metadata={'id': 3, 'relevance_score': 0.99887574}, page_content='The Fused are the souls of ancient singers that are able to be reborn by possessing the bodies of living singers. They are considered to be higher in singer society than Regals and common singers. They are Surgebinders; however, unlike the Knights Radiant, there are only nine \"brands\" of them, rather than ten, and each brand has access to a single Surge, with none accessing Adhesion.'), Document(metadata={'id': 0, 'relevance_score': 0.99875003}, page_content='The Fused have an extremely complex political and social hierarchy even though their actions are generally governed by Odium. Generally, they have hatred and contempt for humans and place common singers above them in status. Among common singers, those chosen to be elevated are granted forms of power and become Regals. The Fused tend to defer to thunderclasts and Unmade. However, even within the singers there are delineations of status and authority. There are nine brands of Fused with different powers and specialties. Other factors such as reputation, history, and capacity also matter a great deal, and how well individual Fused have retained their sanity. Many of the important Fused have a Voice, an envoyform singer who represents their Fused and helps manage their affairs; Voices are generally accorded respect beyond that given to ordinary Regals, especially if the Fused they serve is particularly important.')]\n"
     ]
    }
   ],
   "source": [
    "gemini_docs = rerank_retriever.invoke(query)\n",
    "print(gemini_docs)"
   ]
  },
  {
   "cell_type": "code",
   "execution_count": 23,
   "metadata": {},
   "outputs": [],
   "source": [
    "\n",
    "prompt = f\"\"\"\n",
    "Use the below context to assist in answering this question: {query}\n",
    "\n",
    "context\n",
    "```\n",
    "{gemini_docs}\n",
    "```\n",
    "\"\"\"\n",
    "gem_response = gemini.invoke(prompt)"
   ]
  },
  {
   "cell_type": "code",
   "execution_count": 24,
   "metadata": {},
   "outputs": [
    {
     "name": "stdout",
     "output_type": "stream",
     "text": [
      "The provided context describes two types of singers: **Fused** and **common singers**. Here's the breakdown of their differences:\n",
      "\n",
      "* **Fused:**\n",
      "    * **Origin:** Souls of ancient singers reborn by possessing the bodies of living singers.\n",
      "    * **Status:** Higher in singer society than Regals and common singers.\n",
      "    * **Powers:** Surgebinders with access to nine \"brands,\" each wielding a single Surge (no Adhesion).\n",
      "    * **Hierarchy:** Have a complex political and social hierarchy within their ranks, with different brands, reputations, and levels of sanity impacting their standing.\n",
      "    * **Attitude towards humans:** Generally harbor hatred and contempt for humans.\n",
      "\n",
      "* **Common singers:**\n",
      "    * **Origin:** Ordinary singers who are not Fused.\n",
      "    * **Status:** Lower than Fused and Regals in singer society.\n",
      "    * **Powers:** Some common singers are chosen to be elevated and become Regals, granting them forms of power.\n",
      "    * **Hierarchy:**  The context mentions a hierarchy among common singers, with Regals holding a higher status than ordinary common singers.\n",
      "\n",
      "**In essence, the primary difference between Fused and common singers is their origin, powers, and status within singer society. Fused are reborn ancient singers with unique abilities and a higher standing, while common singers are ordinary individuals with varying degrees of power and influence.** \n",
      "\n"
     ]
    }
   ],
   "source": [
    "print(gem_response)"
   ]
  },
  {
   "cell_type": "markdown",
   "metadata": {},
   "source": [
    "# RAG Pipeline v1 class test"
   ]
  },
  {
   "cell_type": "code",
   "execution_count": 2,
   "metadata": {},
   "outputs": [
    {
     "name": "stderr",
     "output_type": "stream",
     "text": [
      "c:\\Python312\\Lib\\site-packages\\posthog\\client.py:345: DeprecationWarning: datetime.datetime.utcnow() is deprecated and scheduled for removal in a future version. Use timezone-aware objects to represent datetimes in UTC: datetime.datetime.now(datetime.UTC).\n",
      "  timestamp = datetime.utcnow().replace(tzinfo=tzutc())\n",
      "c:\\Python312\\Lib\\site-packages\\posthog\\client.py:345: DeprecationWarning: datetime.datetime.utcnow() is deprecated and scheduled for removal in a future version. Use timezone-aware objects to represent datetimes in UTC: datetime.datetime.now(datetime.UTC).\n",
      "  timestamp = datetime.utcnow().replace(tzinfo=tzutc())\n"
     ]
    }
   ],
   "source": [
    "pipe = RAGPipeline()"
   ]
  },
  {
   "cell_type": "code",
   "execution_count": 3,
   "metadata": {},
   "outputs": [
    {
     "name": "stderr",
     "output_type": "stream",
     "text": [
      "c:\\Python312\\Lib\\site-packages\\posthog\\request.py:40: DeprecationWarning: datetime.datetime.utcnow() is deprecated and scheduled for removal in a future version. Use timezone-aware objects to represent datetimes in UTC: datetime.datetime.now(datetime.UTC).\n",
      "  body[\"sentAt\"] = datetime.utcnow().replace(tzinfo=tzutc()).isoformat()\n",
      "c:\\Python312\\Lib\\site-packages\\posthog\\client.py:345: DeprecationWarning: datetime.datetime.utcnow() is deprecated and scheduled for removal in a future version. Use timezone-aware objects to represent datetimes in UTC: datetime.datetime.now(datetime.UTC).\n",
      "  timestamp = datetime.utcnow().replace(tzinfo=tzutc())\n"
     ]
    }
   ],
   "source": [
    "# pipe.load_processed_pages()\n",
    "pipe.init_retriever()\n",
    "pipe.init_compressor()"
   ]
  },
  {
   "cell_type": "code",
   "execution_count": 4,
   "metadata": {},
   "outputs": [],
   "source": [
    "query = \"What is the difference between the fused and the singers?\""
   ]
  },
  {
   "cell_type": "code",
   "execution_count": 5,
   "metadata": {},
   "outputs": [
    {
     "name": "stderr",
     "output_type": "stream",
     "text": [
      "c:\\Python312\\Lib\\site-packages\\posthog\\request.py:40: DeprecationWarning: datetime.datetime.utcnow() is deprecated and scheduled for removal in a future version. Use timezone-aware objects to represent datetimes in UTC: datetime.datetime.now(datetime.UTC).\n",
      "  body[\"sentAt\"] = datetime.utcnow().replace(tzinfo=tzutc()).isoformat()\n",
      "INFO:httpx:HTTP Request: POST https://api.openai.com/v1/embeddings \"HTTP/1.1 200 OK\"\n",
      "c:\\Python312\\Lib\\site-packages\\posthog\\client.py:345: DeprecationWarning: datetime.datetime.utcnow() is deprecated and scheduled for removal in a future version. Use timezone-aware objects to represent datetimes in UTC: datetime.datetime.now(datetime.UTC).\n",
      "  timestamp = datetime.utcnow().replace(tzinfo=tzutc())\n",
      "c:\\Python312\\Lib\\site-packages\\posthog\\request.py:40: DeprecationWarning: datetime.datetime.utcnow() is deprecated and scheduled for removal in a future version. Use timezone-aware objects to represent datetimes in UTC: datetime.datetime.now(datetime.UTC).\n",
      "  body[\"sentAt\"] = datetime.utcnow().replace(tzinfo=tzutc()).isoformat()\n"
     ]
    },
    {
     "name": "stdout",
     "output_type": "stream",
     "text": [
      "\n",
      "The main difference between the Fused and the singers is that **singers are a subset of the Fused**. \n",
      "\n",
      "Here's the breakdown:\n",
      "\n",
      "* **Fused:** This is the overarching category, encompassing beings who have been \"fused\" with shards of a powerful entity called Odium. They are generally hostile to humans and have a complex social hierarchy.\n",
      "* **Singers:** These are a specific type of Fused who possess certain abilities and are more aligned with Odium's will. They are considered higher in status than regular humans. \n",
      "* **Regals:** These are singers who have been elevated to positions of power.\n",
      "* **Voices:** These are singers who represent and manage the affairs of important Fused. They are often respected more than even Regals.\n",
      "\n",
      "The text highlights that even within the singers, there are distinctions of status and authority based on factors like their brand, reputation, history, and sanity.\n",
      "\n",
      "Sources:\n",
      "1 - The Fused have an extremely complex political and social hierarchy even though their actions are generally governed by Odium. Generally, they have hatred and contempt for humans and place common singers above them in status. Among common singers, those chosen to be elevated are granted forms of power and become Regals. The Fused tend to defer to thunderclasts and Unmade. However, even within the singers there are delineations of status and authority. There are nine brands of Fused with different powers and specialties. Other factors such as reputation, history, and capacity also matter a great deal, and how well individual Fused have retained their sanity. Many of the important Fused have a Voice, an envoyform singer who represents their Fused and helps manage their affairs; Voices are generally accorded respect beyond that given to ordinary Regals, especially if the Fused they serve is particularly important.\n",
      "2 - Fused\n",
      "3 - Fused\n"
     ]
    }
   ],
   "source": [
    "response = pipe.perform_rag(query)"
   ]
  },
  {
   "cell_type": "code",
   "execution_count": 6,
   "metadata": {},
   "outputs": [
    {
     "name": "stdout",
     "output_type": "stream",
     "text": [
      "('The main difference between the Fused and the singers is that **singers are a subset of the Fused**. \\n\\nHere\\'s the breakdown:\\n\\n* **Fused:** This is the overarching category, encompassing beings who have been \"fused\" with shards of a powerful entity called Odium. They are generally hostile to humans and have a complex social hierarchy.\\n* **Singers:** These are a specific type of Fused who possess certain abilities and are more aligned with Odium\\'s will. They are considered higher in status than regular humans. \\n* **Regals:** These are singers who have been elevated to positions of power.\\n* **Voices:** These are singers who represent and manage the affairs of important Fused. They are often respected more than even Regals.\\n\\nThe text highlights that even within the singers, there are distinctions of status and authority based on factors like their brand, reputation, history, and sanity.', [Document(metadata={'id': 3, 'relevance_score': 0.9986379}, page_content='The Fused have an extremely complex political and social hierarchy even though their actions are generally governed by Odium. Generally, they have hatred and contempt for humans and place common singers above them in status. Among common singers, those chosen to be elevated are granted forms of power and become Regals. The Fused tend to defer to thunderclasts and Unmade. However, even within the singers there are delineations of status and authority. There are nine brands of Fused with different powers and specialties. Other factors such as reputation, history, and capacity also matter a great deal, and how well individual Fused have retained their sanity. Many of the important Fused have a Voice, an envoyform singer who represents their Fused and helps manage their affairs; Voices are generally accorded respect beyond that given to ordinary Regals, especially if the Fused they serve is particularly important.'), Document(metadata={'id': 0, 'relevance_score': 0.0041871755}, page_content='Fused'), Document(metadata={'id': 1, 'relevance_score': 0.0041871755}, page_content='Fused')])\n"
     ]
    }
   ],
   "source": [
    "print(response)"
   ]
  },
  {
   "cell_type": "markdown",
   "metadata": {},
   "source": [
    "# RAG Pipeline v2 class test"
   ]
  },
  {
   "cell_type": "code",
   "execution_count": 2,
   "metadata": {},
   "outputs": [
    {
     "name": "stderr",
     "output_type": "stream",
     "text": [
      "c:\\Python312\\Lib\\site-packages\\posthog\\client.py:345: DeprecationWarning: datetime.datetime.utcnow() is deprecated and scheduled for removal in a future version. Use timezone-aware objects to represent datetimes in UTC: datetime.datetime.now(datetime.UTC).\n",
      "  timestamp = datetime.utcnow().replace(tzinfo=tzutc())\n",
      "c:\\Python312\\Lib\\site-packages\\posthog\\request.py:40: DeprecationWarning: datetime.datetime.utcnow() is deprecated and scheduled for removal in a future version. Use timezone-aware objects to represent datetimes in UTC: datetime.datetime.now(datetime.UTC).\n",
      "  body[\"sentAt\"] = datetime.utcnow().replace(tzinfo=tzutc()).isoformat()\n",
      "c:\\Python312\\Lib\\site-packages\\posthog\\client.py:345: DeprecationWarning: datetime.datetime.utcnow() is deprecated and scheduled for removal in a future version. Use timezone-aware objects to represent datetimes in UTC: datetime.datetime.now(datetime.UTC).\n",
      "  timestamp = datetime.utcnow().replace(tzinfo=tzutc())\n",
      "c:\\Python312\\Lib\\site-packages\\posthog\\client.py:345: DeprecationWarning: datetime.datetime.utcnow() is deprecated and scheduled for removal in a future version. Use timezone-aware objects to represent datetimes in UTC: datetime.datetime.now(datetime.UTC).\n",
      "  timestamp = datetime.utcnow().replace(tzinfo=tzutc())\n",
      "c:\\Python312\\Lib\\site-packages\\posthog\\request.py:40: DeprecationWarning: datetime.datetime.utcnow() is deprecated and scheduled for removal in a future version. Use timezone-aware objects to represent datetimes in UTC: datetime.datetime.now(datetime.UTC).\n",
      "  body[\"sentAt\"] = datetime.utcnow().replace(tzinfo=tzutc()).isoformat()\n",
      "c:\\Python312\\Lib\\site-packages\\huggingface_hub\\file_download.py:1150: FutureWarning: `resume_download` is deprecated and will be removed in version 1.0.0. Downloads always resume when possible. If you want to force a new download, use `force_download=True`.\n",
      "  warnings.warn(\n"
     ]
    }
   ],
   "source": [
    "pipe = RAGPipeline()"
   ]
  },
  {
   "cell_type": "code",
   "execution_count": 3,
   "metadata": {},
   "outputs": [],
   "source": [
    "pipe.retriever.load_processed()"
   ]
  },
  {
   "cell_type": "code",
   "execution_count": 5,
   "metadata": {},
   "outputs": [
    {
     "name": "stdout",
     "output_type": "stream",
     "text": [
      "\n",
      "The provided text focuses on Urithiru, a tower city in the world of Roshar, and does not mention the Alethi armies' sustenance. Therefore, the context does not provide an answer to the question of how the Alethi armies sustain themselves. \n",
      "\n",
      "To answer this question, you would need to consult other sources about the Alethi culture and military in the Cosmere, the fictional universe in which the story takes place.\n",
      "\n",
      "Sources:\n",
      "1 - Urithiru -  Culture \n",
      "\n",
      "Though massively important in the past, prior to the coming of the Everstorm Urithiru was all but unknown to Vorins who didn't study the Knights Radiant, with Shallan being unfamiliar even with its name. This could be the result of the Hierocracy working to suppress all knowledge of Radiants, similar to how they discredited Surgebinding.\n",
      "\n",
      "In contrast, Shinovar is familiar with Urithiru, at least insofar as the traditions surrounding it are concerned. According to the Shin, the stones in Urithiru are unhallowed, making them fine to walk on, as opposed to the rest of non-soil-covered Roshar. Szeth also has no problem recognizing Urithiru for what it is, and made it one of his first destinations after becoming Truthless, suggesting that the Shin - or at least their leaders - had known its location all along.\n",
      "\n",
      "Economy\n",
      "Back before the tower was abandoned, the Knights Radiant would extract payment for the use of Oathgates. Shortly before the Recreance, the tariffs began to increase to the degree that some of their contemporaries found unreasonable. After the Alethi arrive at Urithiru, Dalinar designates Sebarial as Highprince of Commerce there. As has been done before, Sebarial plans to tax passage through the Oathgates in order to provide revenue for the tower city, as it produces little else. \n",
      "\n",
      "Most trade in Urithiru takes place at the Breakaway. Though Navani had plans for a carefully regulated market, Sebarial has instituted looser controls, resulting in a chaotic marketplace with several black markets and room for illicit goods. \n",
      "\n",
      " Problems \n",
      "\n",
      "The tower city's economy suffers from three main difficulties: a lack of labor, a lack of supplies, and a lack of infrastructure.\n",
      "\n",
      "Following the healing of all parshmen during the first Everstorm, the Alethi have suffered from the loss of their menial labor class that carried over as they relocated to Urithiru. To alleviate that, darkeyes of low nahn, as well as soldiers and caravan workers, have been pressed into service doing tasks such as hauling water, to their dismay. In an effort to reduce labor tensions, Adolin encourages these men to form a water haulers' guild to bargain for wages. The lack of parshmen will no doubt result in increased consumer costs as slavery is replaced by paid labor, the wages of which are based on social rank and not very negotiable.\n",
      "\n",
      "Since Urithiru's crop growing system is non-functional, the city depends on trade to provide supplies. At first, goods flowing into Urithiru through the Oathgates are mostly salvage from the warcamps abandoned during the flight from the Everstorm, harvested by enterprising merchants backed by the highprinces. Dalinar has considered trying to resettle the war camps, but the area has been quietly claimed by those highprinces who stayed behind. Though Sebarial has forests near the camps that could be used to supply the city, harvesting the lumber isn't economical without parshmen. Emeralds for Soulcasting food are also in short supply, despite continued hunting for gemhearts on the Shattered Plains. Later, after King Taravangian joins the alliance, regular shipments begin to come from Jah Keved. Still, there is not enough trade to support the city, leading Bethab to speculate that without a deal with Azir, Urithiru may not be able to support its current population.\n",
      "\n",
      "Urithiru's non-functional mechanisms have left it with a lack of infrastructure. Waste management has been a particularly notable issue. Communal privies have been set up over former bathing rooms, but these are plagued with long lines. The plumbing of Urithiru keeps clogging, and Soulcasters are constantly working to eliminate the waste. Additionally, at this altitude, heating is a constant problem without magical enhancements.\n",
      "\n",
      "Another minor issue affecting Urithiru's early economy is the lack of Stormlight to infuse spheres. The need for Stormlight to power the Oathgates means that in the period immediately following Urithiru's discovery, when the highstorms disappeared, infused spheres were worth considerably more than face value. After the highstorms return, spheres can be re-infused by lowering them in large cages down into the storm.\n",
      "2 - Urithiru - Economy\n",
      "Back before the tower was abandoned, the Knights Radiant would extract payment for the use of Oathgates. Shortly before the Recreance, the tariffs began to increase to the degree that some of their contemporaries found unreasonable. After the Alethi arrive at Urithiru, Dalinar designates Sebarial as Highprince of Commerce there. As has been done before, Sebarial plans to tax passage through the Oathgates in order to provide revenue for the tower city, as it produces little else. \n",
      "\n",
      "Most trade in Urithiru takes place at the Breakaway. Though Navani had plans for a carefully regulated market, Sebarial has instituted looser controls, resulting in a chaotic marketplace with several black markets and room for illicit goods. \n",
      "\n",
      " Problems \n",
      "\n",
      "The tower city's economy suffers from three main difficulties: a lack of labor, a lack of supplies, and a lack of infrastructure.\n",
      "\n",
      "Following the healing of all parshmen during the first Everstorm, the Alethi have suffered from the loss of their menial labor class that carried over as they relocated to Urithiru. To alleviate that, darkeyes of low nahn, as well as soldiers and caravan workers, have been pressed into service doing tasks such as hauling water, to their dismay. In an effort to reduce labor tensions, Adolin encourages these men to form a water haulers' guild to bargain for wages. The lack of parshmen will no doubt result in increased consumer costs as slavery is replaced by paid labor, the wages of which are based on social rank and not very negotiable.\n",
      "\n",
      "Since Urithiru's crop growing system is non-functional, the city depends on trade to provide supplies. At first, goods flowing into Urithiru through the Oathgates are mostly salvage from the warcamps abandoned during the flight from the Everstorm, harvested by enterprising merchants backed by the highprinces. Dalinar has considered trying to resettle the war camps, but the area has been quietly claimed by those highprinces who stayed behind. Though Sebarial has forests near the camps that could be used to supply the city, harvesting the lumber isn't economical without parshmen. Emeralds for Soulcasting food are also in short supply, despite continued hunting for gemhearts on the Shattered Plains. Later, after King Taravangian joins the alliance, regular shipments begin to come from Jah Keved. Still, there is not enough trade to support the city, leading Bethab to speculate that without a deal with Azir, Urithiru may not be able to support its current population.\n",
      "\n",
      "Urithiru's non-functional mechanisms have left it with a lack of infrastructure. Waste management has been a particularly notable issue. Communal privies have been set up over former bathing rooms, but these are plagued with long lines. The plumbing of Urithiru keeps clogging, and Soulcasters are constantly working to eliminate the waste. Additionally, at this altitude, heating is a constant problem without magical enhancements.\n",
      "\n",
      "Another minor issue affecting Urithiru's early economy is the lack of Stormlight to infuse spheres. The need for Stormlight to power the Oathgates means that in the period immediately following Urithiru's discovery, when the highstorms disappeared, infused spheres were worth considerably more than face value. After the highstorms return, spheres can be re-infused by lowering them in large cages down into the storm.\n",
      "3 - Kelsier -  Recruiting his Crew \n",
      "\n",
      "After discovering the Eleventh Metal Kelsier started to prepare his plan by hiring the Kandra OreSeur. Then he killed the noble Lord Renoux and let OreSeur impersonate him. He met with Yeden the leader of the skaa rebellion and made Yeden hire him to bring down the Final Empire. On Kelsier's way back to Luthadel, he made a stop at the farm of Lord Themos Tresting to talk with the farm skaa. When Lord Tresting attempted to rape a skaa girl, Kelsier saved her, killing Tresting and all his servants and soldiers in the process. He burned down the manor and purposely departed in a way that forced the skaa to join the rebellion. When he arrived in Luthadel, he first reunited with his old partner and best friend Dockson.\n",
      "\n",
      "Dockson told Kelsier about a young Allomancer girl Marsh had discovered whom he suspected was a Mistborn. Kelsier and Dockson went to see her first hand; they watched Vin Soothe an obligator during Camon's scheme, confirming that she was at least a Soother. After Camon and Vin left, Kelsier realized that the ministry had already discovered that Camon was a thief and only played along to find the crew's hideout. A Steel Inquisitor had been present, discovering Vin's Allomancy. The Inquisitor and some soliders followed Camon to find his hideout to wipe out his crew, but Kelsier lured the Inquisitor away by using his own Allomancy while Dockson took out the soldiers. They went to the hideout themselves just in time to save Vin from Camon. Kelsier knocked out Camon with Steelpushes and gave control over the crew to Milev. He forced the rest of the crew to leave, only leaving Vin. Kelsier's suspicions that Vin was a Mistborn were confirmed when he saw that she was able to burn zinc. Kelsier offered to let her to join his crew. Vin didn't trust him but agreed in order to learn how to use Allomancy. Later, Kelsier invited a team of the best thieves in the city to a gathering in Camon's safe house. He introduced them and Vin to Yeden and explained his plan to destroy the Final Empire and kill the Lord Ruler. Breeze, Ham, Clubs, and Clubs' nephew Spook joined his crew. While initially hostile, in the end Kelsier's brother Marsh joined, and together the crew developed a plan to defeat the Final Empire.\n",
      "\n",
      "The plan was to secretly build up an army of twenty thousand trained skaa soldiers in the Arguois caverns while at the same time causing confusion and distrust in the nobility to cause a house war. Once their army was trained and the houses grew unstable enough, they would send a part of their army to attack the Pits of Hathsin, forcing the garrison of Luthadel to go and defend the Pits. With the garrison gone and the nobility weakened by the war, the rest of the army then could take over Luthadel. Then Yeden would gain control of the city and the crew would receive the Lord Ruler's atium stash as payment. Breeze would recruit men for the rebellion, Ham would train them in the Arguois caverns, Dockson would direct the operation's finances, Clubs would hide the group's Allomancy with copperclouds, OreSeur in the role of Lord Renoux would buy the necessary equipment, Marsh would infiltrate the Steel Ministry posing as an obligator, Kelsier would use his Mistborn power to make attacks on the nobility to create tension between the houses, and Vin would gather information in the noble court posing as Renoux's niece Valette. Kelsier also wanted to try kill the Lord Ruler with the Eleventh Metal as a \"voluntary bonus\".\n"
     ]
    },
    {
     "data": {
      "text/plain": [
       "(\"The provided text focuses on Urithiru, a tower city in the world of Roshar, and does not mention the Alethi armies' sustenance. Therefore, the context does not provide an answer to the question of how the Alethi armies sustain themselves. \\n\\nTo answer this question, you would need to consult other sources about the Alethi culture and military in the Cosmere, the fictional universe in which the story takes place.\",\n",
       " [Document(metadata={'heading': 'Culture', 'order': 19, 'parent_article': 'Urithiru', 'keywords': '', 'relevance_score': 0.99491054}, page_content=\"Urithiru -  Culture \\n\\nThough massively important in the past, prior to the coming of the Everstorm Urithiru was all but unknown to Vorins who didn't study the Knights Radiant, with Shallan being unfamiliar even with its name. This could be the result of the Hierocracy working to suppress all knowledge of Radiants, similar to how they discredited Surgebinding.\\n\\nIn contrast, Shinovar is familiar with Urithiru, at least insofar as the traditions surrounding it are concerned. According to the Shin, the stones in Urithiru are unhallowed, making them fine to walk on, as opposed to the rest of non-soil-covered Roshar. Szeth also has no problem recognizing Urithiru for what it is, and made it one of his first destinations after becoming Truthless, suggesting that the Shin - or at least their leaders - had known its location all along.\\n\\nEconomy\\nBack before the tower was abandoned, the Knights Radiant would extract payment for the use of Oathgates. Shortly before the Recreance, the tariffs began to increase to the degree that some of their contemporaries found unreasonable. After the Alethi arrive at Urithiru, Dalinar designates Sebarial as Highprince of Commerce there. As has been done before, Sebarial plans to tax passage through the Oathgates in order to provide revenue for the tower city, as it produces little else. \\n\\nMost trade in Urithiru takes place at the Breakaway. Though Navani had plans for a carefully regulated market, Sebarial has instituted looser controls, resulting in a chaotic marketplace with several black markets and room for illicit goods. \\n\\n Problems \\n\\nThe tower city's economy suffers from three main difficulties: a lack of labor, a lack of supplies, and a lack of infrastructure.\\n\\nFollowing the healing of all parshmen during the first Everstorm, the Alethi have suffered from the loss of their menial labor class that carried over as they relocated to Urithiru. To alleviate that, darkeyes of low nahn, as well as soldiers and caravan workers, have been pressed into service doing tasks such as hauling water, to their dismay. In an effort to reduce labor tensions, Adolin encourages these men to form a water haulers' guild to bargain for wages. The lack of parshmen will no doubt result in increased consumer costs as slavery is replaced by paid labor, the wages of which are based on social rank and not very negotiable.\\n\\nSince Urithiru's crop growing system is non-functional, the city depends on trade to provide supplies. At first, goods flowing into Urithiru through the Oathgates are mostly salvage from the warcamps abandoned during the flight from the Everstorm, harvested by enterprising merchants backed by the highprinces. Dalinar has considered trying to resettle the war camps, but the area has been quietly claimed by those highprinces who stayed behind. Though Sebarial has forests near the camps that could be used to supply the city, harvesting the lumber isn't economical without parshmen. Emeralds for Soulcasting food are also in short supply, despite continued hunting for gemhearts on the Shattered Plains. Later, after King Taravangian joins the alliance, regular shipments begin to come from Jah Keved. Still, there is not enough trade to support the city, leading Bethab to speculate that without a deal with Azir, Urithiru may not be able to support its current population.\\n\\nUrithiru's non-functional mechanisms have left it with a lack of infrastructure. Waste management has been a particularly notable issue. Communal privies have been set up over former bathing rooms, but these are plagued with long lines. The plumbing of Urithiru keeps clogging, and Soulcasters are constantly working to eliminate the waste. Additionally, at this altitude, heating is a constant problem without magical enhancements.\\n\\nAnother minor issue affecting Urithiru's early economy is the lack of Stormlight to infuse spheres. The need for Stormlight to power the Oathgates means that in the period immediately following Urithiru's discovery, when the highstorms disappeared, infused spheres were worth considerably more than face value. After the highstorms return, spheres can be re-infused by lowering them in large cages down into the storm.\"),\n",
       "  Document(metadata={'heading': 'Economy', 'order': 20, 'parent_article': 'Urithiru', 'keywords': '', 'relevance_score': 0.99277574}, page_content=\"Urithiru - Economy\\nBack before the tower was abandoned, the Knights Radiant would extract payment for the use of Oathgates. Shortly before the Recreance, the tariffs began to increase to the degree that some of their contemporaries found unreasonable. After the Alethi arrive at Urithiru, Dalinar designates Sebarial as Highprince of Commerce there. As has been done before, Sebarial plans to tax passage through the Oathgates in order to provide revenue for the tower city, as it produces little else. \\n\\nMost trade in Urithiru takes place at the Breakaway. Though Navani had plans for a carefully regulated market, Sebarial has instituted looser controls, resulting in a chaotic marketplace with several black markets and room for illicit goods. \\n\\n Problems \\n\\nThe tower city's economy suffers from three main difficulties: a lack of labor, a lack of supplies, and a lack of infrastructure.\\n\\nFollowing the healing of all parshmen during the first Everstorm, the Alethi have suffered from the loss of their menial labor class that carried over as they relocated to Urithiru. To alleviate that, darkeyes of low nahn, as well as soldiers and caravan workers, have been pressed into service doing tasks such as hauling water, to their dismay. In an effort to reduce labor tensions, Adolin encourages these men to form a water haulers' guild to bargain for wages. The lack of parshmen will no doubt result in increased consumer costs as slavery is replaced by paid labor, the wages of which are based on social rank and not very negotiable.\\n\\nSince Urithiru's crop growing system is non-functional, the city depends on trade to provide supplies. At first, goods flowing into Urithiru through the Oathgates are mostly salvage from the warcamps abandoned during the flight from the Everstorm, harvested by enterprising merchants backed by the highprinces. Dalinar has considered trying to resettle the war camps, but the area has been quietly claimed by those highprinces who stayed behind. Though Sebarial has forests near the camps that could be used to supply the city, harvesting the lumber isn't economical without parshmen. Emeralds for Soulcasting food are also in short supply, despite continued hunting for gemhearts on the Shattered Plains. Later, after King Taravangian joins the alliance, regular shipments begin to come from Jah Keved. Still, there is not enough trade to support the city, leading Bethab to speculate that without a deal with Azir, Urithiru may not be able to support its current population.\\n\\nUrithiru's non-functional mechanisms have left it with a lack of infrastructure. Waste management has been a particularly notable issue. Communal privies have been set up over former bathing rooms, but these are plagued with long lines. The plumbing of Urithiru keeps clogging, and Soulcasters are constantly working to eliminate the waste. Additionally, at this altitude, heating is a constant problem without magical enhancements.\\n\\nAnother minor issue affecting Urithiru's early economy is the lack of Stormlight to infuse spheres. The need for Stormlight to power the Oathgates means that in the period immediately following Urithiru's discovery, when the highstorms disappeared, infused spheres were worth considerably more than face value. After the highstorms return, spheres can be re-infused by lowering them in large cages down into the storm.\"),\n",
       "  Document(metadata={'heading': 'Recruiting his Crew', 'order': 10, 'parent_article': 'Kelsier', 'keywords': '', 'relevance_score': 0.034113113}, page_content='Kelsier -  Recruiting his Crew \\n\\nAfter discovering the Eleventh Metal Kelsier started to prepare his plan by hiring the Kandra OreSeur. Then he killed the noble Lord Renoux and let OreSeur impersonate him. He met with Yeden the leader of the skaa rebellion and made Yeden hire him to bring down the Final Empire. On Kelsier\\'s way back to Luthadel, he made a stop at the farm of Lord Themos Tresting to talk with the farm skaa. When Lord Tresting attempted to rape a skaa girl, Kelsier saved her, killing Tresting and all his servants and soldiers in the process. He burned down the manor and purposely departed in a way that forced the skaa to join the rebellion. When he arrived in Luthadel, he first reunited with his old partner and best friend Dockson.\\n\\nDockson told Kelsier about a young Allomancer girl Marsh had discovered whom he suspected was a Mistborn. Kelsier and Dockson went to see her first hand; they watched Vin Soothe an obligator during Camon\\'s scheme, confirming that she was at least a Soother. After Camon and Vin left, Kelsier realized that the ministry had already discovered that Camon was a thief and only played along to find the crew\\'s hideout. A Steel Inquisitor had been present, discovering Vin\\'s Allomancy. The Inquisitor and some soliders followed Camon to find his hideout to wipe out his crew, but Kelsier lured the Inquisitor away by using his own Allomancy while Dockson took out the soldiers. They went to the hideout themselves just in time to save Vin from Camon. Kelsier knocked out Camon with Steelpushes and gave control over the crew to Milev. He forced the rest of the crew to leave, only leaving Vin. Kelsier\\'s suspicions that Vin was a Mistborn were confirmed when he saw that she was able to burn zinc. Kelsier offered to let her to join his crew. Vin didn\\'t trust him but agreed in order to learn how to use Allomancy. Later, Kelsier invited a team of the best thieves in the city to a gathering in Camon\\'s safe house. He introduced them and Vin to Yeden and explained his plan to destroy the Final Empire and kill the Lord Ruler. Breeze, Ham, Clubs, and Clubs\\' nephew Spook joined his crew. While initially hostile, in the end Kelsier\\'s brother Marsh joined, and together the crew developed a plan to defeat the Final Empire.\\n\\nThe plan was to secretly build up an army of twenty thousand trained skaa soldiers in the Arguois caverns while at the same time causing confusion and distrust in the nobility to cause a house war. Once their army was trained and the houses grew unstable enough, they would send a part of their army to attack the Pits of Hathsin, forcing the garrison of Luthadel to go and defend the Pits. With the garrison gone and the nobility weakened by the war, the rest of the army then could take over Luthadel. Then Yeden would gain control of the city and the crew would receive the Lord Ruler\\'s atium stash as payment. Breeze would recruit men for the rebellion, Ham would train them in the Arguois caverns, Dockson would direct the operation\\'s finances, Clubs would hide the group\\'s Allomancy with copperclouds, OreSeur in the role of Lord Renoux would buy the necessary equipment, Marsh would infiltrate the Steel Ministry posing as an obligator, Kelsier would use his Mistborn power to make attacks on the nobility to create tension between the houses, and Vin would gather information in the noble court posing as Renoux\\'s niece Valette. Kelsier also wanted to try kill the Lord Ruler with the Eleventh Metal as a \"voluntary bonus\".')])"
      ]
     },
     "execution_count": 5,
     "metadata": {},
     "output_type": "execute_result"
    }
   ],
   "source": [
    "pipe.perform_rag(\"How do the Alethi armies sustain themselves?\")"
   ]
  },
  {
   "cell_type": "markdown",
   "metadata": {},
   "source": [
    "## Multi-hop"
   ]
  },
  {
   "cell_type": "code",
   "execution_count": 6,
   "metadata": {},
   "outputs": [
    {
     "name": "stdout",
     "output_type": "stream",
     "text": [
      "\n",
      "The provided context does not specify the year in which the previous leader of the Rift, Tanalan, was killed. However, it does state that Dalinar Kholin destroyed the city of Rathalas and killed Tanalan. \n",
      "\n",
      "Given that the context focuses on the period from 1175 onwards and mentions events like the \"Contest of Champions\" in that year, it's safe to assume that Tanalan's death occurred sometime **after 1175**.\n",
      "\n",
      "Sources:\n",
      "1 - Dalinar Kholin -  The War Continues (1175 - ) \n",
      " Alliance with the Reshi \n",
      "Six months after the battle in Thaylen City Dalinar met with Ral-na, king of the residents of Relu-na, and his son Talik to negotiate a treaty together so the coalition would have allies in the north in case the enemy began making moves in the region. He had Lopen speak to them first in order to reassure them about his intentions.\n",
      "\n",
      " Recruiting the Mink \n",
      "After he approved of Kaladin's plan to test the Fourth Bridge by flying to Hearthstone to evacuate all of its residents along with the Mink and his men, the Windrunners flew Dalinar and Navani out to meet the airship as it flew back from the Steamwater Ocean. After they arrived, Kaladin introduced Dalinar to his father, Lirin. Before he departed Kaladin warned Dalinar that he had fought a new type of Fused earlier in the day and that he thought they would soon return in greater numbers. Dalinar recharged Kaladin's Light and he flew off to alert the other Windrunners.\n",
      "\n",
      "After Kaladin left them Dalinar and Navani were discussing Dalinar's Bondsmith abilities when the Mink snuck up and interrupted them. Dalinar had a brief exchange with the Herdazian general about their past and Dalinar promised to use the Fourth Bridge to evacuate his troops from where they were hiding. Soon afterwards Lyn flew over to Dalinar and Navani to report that a large of Fused were heading their way. During the ensuing battle Dalinar repeatedly summoned his perpendicularity for short periods of time giving the Radiants a strong advantage in the fight. After the battle Dalinar had the Windrunners fly him and Navani back to the Oathgate at Narak so they could return to Urithiru, while the Fourth Bridge continued on its mission.\n",
      "\n",
      "After he arrived in Narak, Dalinar took a report on the situation in the Shattered Plains from the battalionlord in charge of the city. He instructed the officer to make it known that Ialai had killed herself and told him that they could begin a full occupation of the warcamps.\n",
      "\n",
      " Contest of Champions (1175) \n",
      "Several months later, Dalinar was brought into a vision by Odium, in which he set the terms of their contest of champions: On the tenth day of the new month, they would each appoint a willing champion, who would be allowed to the top of Urithiru—unharmed by either side—to fight to the death. If Dalinar's champion won, Odium would return Alethkar and Herdaz to the coalition, fulfilling Dalinar's oath to the Mink. If Odium's champion won, he would keep those two nations and Dalinar would serve his interests in the wider cosmere as a Fused. In either case, Odium would remain bound to the Rosharan system, but would keep the other lands he had won and be able to send agents to the wider Cosmere, and both leaders would be required to enforce the peace to the best of their ability. Additionally, at least some of the protections specified for Hoid in Dalinar's initial proposal seem to be in effect.\n",
      "2 - Dalinar Kholin -  The Rift \n",
      "After some soul-searching and wishing to spare his wife pain, Dalinar approached the Rift's leaders in person, and Dalinar spoke with Tanalan the younger, the boy he spared who had grown up into the Brightlord of the Rift. Though initially hostile, Tanalan listened to Dalinar's plain-spoken assessment that the rebels would lose, and even considered Dalinar's offer of a personal duel between themselves. Tanalan informed Dalinar that Sadeas was working against him, and Dalinar promised him the rank of Highprince in return as the two concocted a cover story that would allow both sides to save face and call it a political victory. Dalinar left him with Tanalan's directions to where Sadeas' men were hiding, pleased that he was able to find a peaceful solution, knowing that it would make Evi happy.\n",
      "\n",
      "Dalinar and his men approached the cavern where the Sadeas men were working, but realized that it made no sense for traitors to be wearing their own colors. He recognized that it was a trap just as it sprung. Tanalan had lied to him. The Rathalas rebels then triggered a landslide that killed the Kholin men accompanying him, but though seriously wounded, Dalinar survived.\n",
      "\n",
      "Despite his injuries, Dalinar's rage drove him forward in revenge against Tanalan's betrayal, the Thrill burning in him like never before. He slaughtered the rebels who ambushed him, unconscious of how savagely he killed them. Half dead, he dragged himself back to the Kholin camp in such a state of rage that his appearance provoked fearspren from Evi when she first saw him again. Though she maintained that they should take a few days to find a peaceful solution, Sadeas said what Dalinar felt: the Rift needs to pay. Dalinar had the Soulcasters put to use making oil and sent Evi away. He promised to destroy Rathalas so thoroughly that nobody will rebuild there for ten generations, to make it a pyre, that nobody will cry over the city because everyone in it will be dead.\n",
      "\n",
      "The Thrill didn't let Dalinar sleep until the assault on the city of Rathalas. A group of messengers from the city came out with a flag of truce, but Dalinar ordered them shot dead before they could approach the camp. Dalinar ordered the attack to take place at night. With the oil that he had ordered Soulcast, Dalinar, Sadeas, and their combined forces began to burn Rathalas. Only when much of the Rift is up in flames did Dalinar order his forces in. All the while Dalinar made a genuine attempt to hold the Thrill at bay, knowing that enjoying this act of revenge would take away the last sliver of decency he had left.\n",
      "\n",
      "After making his way through the city, Dalinar finally came face to face with Tanalan. Tanalan begged for his family's lives, but Dalinar's response was, \"I am an animal.\" He explained that like an animal, he'd been pushed to being feral, and once an animal goes feral, there's no coming back. He refused to spare Tanalan's family. As Tanalan wept at the destruction of the palace and the city, knowing his family just died, Dalinar wondered at how the Thrill still wasn't satisfied with the destruction. \n",
      "\n",
      "His anger re-kindled at Tanalan, Dalinar said at least he didn't hide away in the secret hiding spot the Tanalan family used before, because they burned it. Tanalan started laughing hysterically at this and told Dalinar that Evi had been in there. He explained how Evi had snuck into the city to beg Tanalan to surrender so that they might be spared. Tanalan had captured Evi to use her as a hostage, and sent messengers to notify Dalinar of this--the same messengers Dalinar had ordered killed without even meeting them. Evi had died there. At this, Dalinar strangled Tanalan to death, but Tanalan died smiling. Looking at the raging inferno that is Rathalas, Dalinar's words about a feral animal being impossible to control came back to him. It was impossible to go into the city, and his own men had to pull him away.\n",
      "\n",
      "Six hours later, they recovered Evi's body where Tanalan said it would be. Though it looked like Evi had gone to defect, Dalinar made sure nobody called her a traitor. To himself, Dalinar refused to admit he was responsible for this. He told his people at the warcamp that Evi died a hero, and he had burned the Rift in retribution.\n",
      "\n",
      "Years later, Dalinar's reaction to his memories of what happened at the Rift was to drink. Immediately after and even years later, Dalinar can hear the screams of Evi and the people of Rathalas, burning. Dalinar's dependence on alcohol was very serious, to the point that his family sometimes hid his alcohol from him, and he was reduced to asking it from strangers.\n"
     ]
    },
    {
     "data": {
      "text/plain": [
       "('The provided context does not specify the year in which the previous leader of the Rift, Tanalan, was killed. However, it does state that Dalinar Kholin destroyed the city of Rathalas and killed Tanalan. \\n\\nGiven that the context focuses on the period from 1175 onwards and mentions events like the \"Contest of Champions\" in that year, it\\'s safe to assume that Tanalan\\'s death occurred sometime **after 1175**.',\n",
       " [Document(metadata={'heading': 'The War Continues (1175 - )', 'order': 44, 'parent_article': 'Dalinar Kholin', 'keywords': '', 'relevance_score': 0.99855965}, page_content=\"Dalinar Kholin -  The War Continues (1175 - ) \\n Alliance with the Reshi \\nSix months after the battle in Thaylen City Dalinar met with Ral-na, king of the residents of Relu-na, and his son Talik to negotiate a treaty together so the coalition would have allies in the north in case the enemy began making moves in the region. He had Lopen speak to them first in order to reassure them about his intentions.\\n\\n Recruiting the Mink \\nAfter he approved of Kaladin's plan to test the Fourth Bridge by flying to Hearthstone to evacuate all of its residents along with the Mink and his men, the Windrunners flew Dalinar and Navani out to meet the airship as it flew back from the Steamwater Ocean. After they arrived, Kaladin introduced Dalinar to his father, Lirin. Before he departed Kaladin warned Dalinar that he had fought a new type of Fused earlier in the day and that he thought they would soon return in greater numbers. Dalinar recharged Kaladin's Light and he flew off to alert the other Windrunners.\\n\\nAfter Kaladin left them Dalinar and Navani were discussing Dalinar's Bondsmith abilities when the Mink snuck up and interrupted them. Dalinar had a brief exchange with the Herdazian general about their past and Dalinar promised to use the Fourth Bridge to evacuate his troops from where they were hiding. Soon afterwards Lyn flew over to Dalinar and Navani to report that a large of Fused were heading their way. During the ensuing battle Dalinar repeatedly summoned his perpendicularity for short periods of time giving the Radiants a strong advantage in the fight. After the battle Dalinar had the Windrunners fly him and Navani back to the Oathgate at Narak so they could return to Urithiru, while the Fourth Bridge continued on its mission.\\n\\nAfter he arrived in Narak, Dalinar took a report on the situation in the Shattered Plains from the battalionlord in charge of the city. He instructed the officer to make it known that Ialai had killed herself and told him that they could begin a full occupation of the warcamps.\\n\\n Contest of Champions (1175) \\nSeveral months later, Dalinar was brought into a vision by Odium, in which he set the terms of their contest of champions: On the tenth day of the new month, they would each appoint a willing champion, who would be allowed to the top of Urithiru—unharmed by either side—to fight to the death. If Dalinar's champion won, Odium would return Alethkar and Herdaz to the coalition, fulfilling Dalinar's oath to the Mink. If Odium's champion won, he would keep those two nations and Dalinar would serve his interests in the wider cosmere as a Fused. In either case, Odium would remain bound to the Rosharan system, but would keep the other lands he had won and be able to send agents to the wider Cosmere, and both leaders would be required to enforce the peace to the best of their ability. Additionally, at least some of the protections specified for Hoid in Dalinar's initial proposal seem to be in effect.\"),\n",
       "  Document(metadata={'heading': 'The Rift', 'order': 17, 'parent_article': 'Dalinar Kholin', 'keywords': '', 'relevance_score': 0.99770427}, page_content='Dalinar Kholin -  The Rift \\nAfter some soul-searching and wishing to spare his wife pain, Dalinar approached the Rift\\'s leaders in person, and Dalinar spoke with Tanalan the younger, the boy he spared who had grown up into the Brightlord of the Rift. Though initially hostile, Tanalan listened to Dalinar\\'s plain-spoken assessment that the rebels would lose, and even considered Dalinar\\'s offer of a personal duel between themselves. Tanalan informed Dalinar that Sadeas was working against him, and Dalinar promised him the rank of Highprince in return as the two concocted a cover story that would allow both sides to save face and call it a political victory. Dalinar left him with Tanalan\\'s directions to where Sadeas\\' men were hiding, pleased that he was able to find a peaceful solution, knowing that it would make Evi happy.\\n\\nDalinar and his men approached the cavern where the Sadeas men were working, but realized that it made no sense for traitors to be wearing their own colors. He recognized that it was a trap just as it sprung. Tanalan had lied to him. The Rathalas rebels then triggered a landslide that killed the Kholin men accompanying him, but though seriously wounded, Dalinar survived.\\n\\nDespite his injuries, Dalinar\\'s rage drove him forward in revenge against Tanalan\\'s betrayal, the Thrill burning in him like never before. He slaughtered the rebels who ambushed him, unconscious of how savagely he killed them. Half dead, he dragged himself back to the Kholin camp in such a state of rage that his appearance provoked fearspren from Evi when she first saw him again. Though she maintained that they should take a few days to find a peaceful solution, Sadeas said what Dalinar felt: the Rift needs to pay. Dalinar had the Soulcasters put to use making oil and sent Evi away. He promised to destroy Rathalas so thoroughly that nobody will rebuild there for ten generations, to make it a pyre, that nobody will cry over the city because everyone in it will be dead.\\n\\nThe Thrill didn\\'t let Dalinar sleep until the assault on the city of Rathalas. A group of messengers from the city came out with a flag of truce, but Dalinar ordered them shot dead before they could approach the camp. Dalinar ordered the attack to take place at night. With the oil that he had ordered Soulcast, Dalinar, Sadeas, and their combined forces began to burn Rathalas. Only when much of the Rift is up in flames did Dalinar order his forces in. All the while Dalinar made a genuine attempt to hold the Thrill at bay, knowing that enjoying this act of revenge would take away the last sliver of decency he had left.\\n\\nAfter making his way through the city, Dalinar finally came face to face with Tanalan. Tanalan begged for his family\\'s lives, but Dalinar\\'s response was, \"I am an animal.\" He explained that like an animal, he\\'d been pushed to being feral, and once an animal goes feral, there\\'s no coming back. He refused to spare Tanalan\\'s family. As Tanalan wept at the destruction of the palace and the city, knowing his family just died, Dalinar wondered at how the Thrill still wasn\\'t satisfied with the destruction. \\n\\nHis anger re-kindled at Tanalan, Dalinar said at least he didn\\'t hide away in the secret hiding spot the Tanalan family used before, because they burned it. Tanalan started laughing hysterically at this and told Dalinar that Evi had been in there. He explained how Evi had snuck into the city to beg Tanalan to surrender so that they might be spared. Tanalan had captured Evi to use her as a hostage, and sent messengers to notify Dalinar of this--the same messengers Dalinar had ordered killed without even meeting them. Evi had died there. At this, Dalinar strangled Tanalan to death, but Tanalan died smiling. Looking at the raging inferno that is Rathalas, Dalinar\\'s words about a feral animal being impossible to control came back to him. It was impossible to go into the city, and his own men had to pull him away.\\n\\nSix hours later, they recovered Evi\\'s body where Tanalan said it would be. Though it looked like Evi had gone to defect, Dalinar made sure nobody called her a traitor. To himself, Dalinar refused to admit he was responsible for this. He told his people at the warcamp that Evi died a hero, and he had burned the Rift in retribution.\\n\\nYears later, Dalinar\\'s reaction to his memories of what happened at the Rift was to drink. Immediately after and even years later, Dalinar can hear the screams of Evi and the people of Rathalas, burning. Dalinar\\'s dependence on alcohol was very serious, to the point that his family sometimes hid his alcohol from him, and he was reduced to asking it from strangers.')])"
      ]
     },
     "execution_count": 6,
     "metadata": {},
     "output_type": "execute_result"
    }
   ],
   "source": [
    "query = \"What year was the previous leader of the Rift killed?\"\n",
    "pipe.perform_rag(query)"
   ]
  },
  {
   "cell_type": "code",
   "execution_count": 8,
   "metadata": {},
   "outputs": [
    {
     "name": "stdout",
     "output_type": "stream",
     "text": [
      "\n",
      "The provided context doesn't explicitly state which Shard or shards are on the world where Kelsier died. However, it does state that Kelsier died on Scadrial, and that Scadrial is the homeworld of the Shards of **Preservation** and **Ruin**. \n",
      "\n",
      "Therefore, we can infer that the Shards of Preservation and Ruin are on the world where Kelsier died.\n",
      "\n",
      "Sources:\n",
      "1 - Kelsier -  Sliver \n",
      "After Kelsier died, he became a Cognitive Shadow through the Well of Ascension, making him able to resist the pull of the Beyond. After Holding and releasing the Shard of Preservation, Kelsier became a Sliver.\n",
      "2 - Kelsier -  Time in the Cognitive Realm \n",
      "\n",
      "Immediately after his death, Kelsier arrived in the Cognitive Realm and met Preservation. He then asked Preservation if they are God, and after being told yes he promptly punched Preservation in the face. Then he found the power at the Well of Ascension and became trapped there with Ruin, though merging with the power of the Well allowed him to become a Cognitive Shadow and resist the pull of the Beyond. While he was in the Well, Hoid passed by and Kelsier essentially challenges him to a fight that Kelsier ultimately loses. He feels Ruin's presence during his time in the Well.\n",
      "\n",
      "Once he is freed from the Well along with Ruin, he initially travels around through the Cognitive version of Luthadel, seeking out his friends. He finds Vin and Ham near the steps of Keep Venture and also learned that Dockson had died in the Battle of Luthadel. He walks past Luthadel towards the lake of the same name, near which he finds Khriss and Nazh. They question him on Preservation's appearance after learning he has spoken directly with the Shard, and then continue their discussion onto other topics. Khriss mentions the Ire which sets Kelsier onto his next quest of finding their base of operation.\n",
      "\n",
      "During his journey to find the Ire, he runs into Ruin and has a discussion about Ruin's intent. After that, he left the area of the Cognitive Realm surrounding Scadrial and moved closer to finding the Ire. When he reaches their base, he moved past their guards and passed the wall into their chambers. He ultimately only took a glass orb from them after thwarting their plan to take over become the Vessel of Preservation after Leras' death.\n",
      "\n",
      "When he returned to Scadrial he found that Preservation's power was significantly weakened. He also ran into Vin and was shocked to see how far she had come in the time he was away. He stayed with her for a while after that but ultimately had to leave.\n",
      "\n",
      "When Leras died and Ruin began to Splinter the Shard of Preservation, Kelsier used the Ire's orb to Connect with Preservation and Ascend, allowing him to protect the power and hold it until Vin could take it. Despite Preservation not usually being able to speak into the minds of other, due to some combination of Spook being near death, having a broken soul, and believing Kelsier was a god, he was able to talk to Spook. He used this opportunity to tell Spook to send a message to Vin, warning her that any spiked person could potentially be under Ruin's control. Secretly, however, he knew that Ruin would send Marsh to intercept the message, and was hoping that reading the message would give Marsh the information he needed to remove Vin's earring, which was also a Hemalurgic spike that was keeping her from taking up Preservation's power. When Marsh caught Vin in Luthadel, he attacked Ruin with Preservation's power, weakening Ruin's control over Marsh just enough for Marsh to rip out Vin's earring. With the spike removed, Kelsier encouraged her to take up the power, relinquishing it so that she can do so. After she and Elend are killed, Kelsier spoke with them before they moved on to the Beyond.\n",
      "\n",
      "After Sazed's Ascension and Spook's rise to political power, Kelsier began to speak with Spook about finding a way to bring himself back to the Physical Realm. As a Cognitive Shadow tied to Scadrial, it is difficult for him to travel to other planets via Shadesmar. He does not yet know the secret to overcome this limitation. His bones survived the Ascension of Harmony, and may have helped him regain physical form.\n",
      "3 - Kelsier -  History \n",
      "\n",
      " Early Life \n",
      "\n",
      "Born to a noble father and skaa mother, his mother kept both Kelsier and Marsh alive by pretending that she was noble to their father so that their children would be considered merely illegitimate noblemen instead of half-breeds; however, their father eventually found out. Thus Kelsier's mother was killed, and because of this, the brothers have a deep hatred of noblemen. Kelsier then made his living as a thief, becoming famous throughout Luthadel. \n",
      "He teamed up with the escaped Plantation skaa Dockson and the Tineye Mare, whom he married. They were extremely successful. Kelsier later said that \"he had more Money than he could Spend\" however, after a failed attempt at stealing from the Lord Ruler in his secret room inside Kredik Shaw, he was sent to the atium mines in the Pits of Hathsin. There he spent his time believing that his wife Mare had betrayed him to the Lord Ruler until he witnessed his wife being beaten to death by guards after she gifted her Atium bead to him. He then \"Snapped\", becoming a Mistborn. Using Allomancy he was able to escape the Pits. Kelsier was then trained by a Mistborn named Gemmel and they traveled to the far north of the Western Dominance to a city called Mantiz where Kelsier fought and killed the Mistborn Antillius Shezler. From the skaa in Keep Shezler he heard rumors of the Eleventh metal. Kelsier sought and eventually found the Eleventh metal as he believed it would help him to defeat the Lord Ruler.\n",
      "\n",
      " Recruiting his Crew \n",
      "\n",
      "After discovering the Eleventh Metal Kelsier started to prepare his plan by hiring the Kandra OreSeur. Then he killed the noble Lord Renoux and let OreSeur impersonate him. He met with Yeden the leader of the skaa rebellion and made Yeden hire him to bring down the Final Empire. On Kelsier's way back to Luthadel, he made a stop at the farm of Lord Themos Tresting to talk with the farm skaa. When Lord Tresting attempted to rape a skaa girl, Kelsier saved her, killing Tresting and all his servants and soldiers in the process. He burned down the manor and purposely departed in a way that forced the skaa to join the rebellion. When he arrived in Luthadel, he first reunited with his old partner and best friend Dockson.\n",
      "\n",
      "Dockson told Kelsier about a young Allomancer girl Marsh had discovered whom he suspected was a Mistborn. Kelsier and Dockson went to see her first hand; they watched Vin Soothe an obligator during Camon's scheme, confirming that she was at least a Soother. After Camon and Vin left, Kelsier realized that the ministry had already discovered that Camon was a thief and only played along to find the crew's hideout. A Steel Inquisitor had been present, discovering Vin's Allomancy. The Inquisitor and some soliders followed Camon to find his hideout to wipe out his crew, but Kelsier lured the Inquisitor away by using his own Allomancy while Dockson took out the soldiers. They went to the hideout themselves just in time to save Vin from Camon. Kelsier knocked out Camon with Steelpushes and gave control over the crew to Milev. He forced the rest of the crew to leave, only leaving Vin. Kelsier's suspicions that Vin was a Mistborn were confirmed when he saw that she was able to burn zinc. Kelsier offered to let her to join his crew. Vin didn't trust him but agreed in order to learn how to use Allomancy. Later, Kelsier invited a team of the best thieves in the city to a gathering in Camon's safe house. He introduced them and Vin to Yeden and explained his plan to destroy the Final Empire and kill the Lord Ruler. Breeze, Ham, Clubs, and Clubs' nephew Spook joined his crew. While initially hostile, in the end Kelsier's brother Marsh joined, and together the crew developed a plan to defeat the Final Empire.\n",
      "\n",
      "The plan was to secretly build up an army of twenty thousand trained skaa soldiers in the Arguois caverns while at the same time causing confusion and distrust in the nobility to cause a house war. Once their army was trained and the houses grew unstable enough, they would send a part of their army to attack the Pits of Hathsin, forcing the garrison of Luthadel to go and defend the Pits. With the garrison gone and the nobility weakened by the war, the rest of the army then could take over Luthadel. Then Yeden would gain control of the city and the crew would receive the Lord Ruler's atium stash as payment. Breeze would recruit men for the rebellion, Ham would train them in the Arguois caverns, Dockson would direct the operation's finances, Clubs would hide the group's Allomancy with copperclouds, OreSeur in the role of Lord Renoux would buy the necessary equipment, Marsh would infiltrate the Steel Ministry posing as an obligator, Kelsier would use his Mistborn power to make attacks on the nobility to create tension between the houses, and Vin would gather information in the noble court posing as Renoux's niece Valette. Kelsier also wanted to try kill the Lord Ruler with the Eleventh Metal as a \"voluntary bonus\".\n",
      "\n",
      " The Skaa Rebellion  \n",
      "To put the plan in motion, Kelsier first targeted Keep Venture, as House Venture was currently the most powerful house in Luthadel and an attack on it would have the greatest impact. Kelsier killed eight Hazekillers, stole a bag of atium, and made sure that it became known that a Mistborn had attacked a Great House, something forbidden by an unspoken agreement between the houses. He gifted Vin a mistcloak and started to teach her Allomancy. Vin expected that Kelsier would use his knowledge to control her, but to her surprise, he openly explained her the eight basic metals. Kelsier let Vin jump over the city walls as an exercise for steel and iron and was surprised how voluntarily she did it, remembering his own training. Outside the city, they saw a Mistwraith. Back at the city gates Kelsier introduced Vin to Sazed. Realizing Vin didn't trust him, he told her that in his crew they trust each other. He offered to teach her about gold and atium, gave her the money he took from Camon, and allowed her to leave, as he didn't want to force anybody into his crew. Vin decided to stay in order to see if he told the truth about trusting others.\n",
      "\n",
      "In the following months, Kelsier himself took on many roles to further the plan, acting as a beacon to the repressed skaa, assisting in recruitment, attacking many noblemen to increase the tensions between the Great Houses,, collecting information by purchasing it from informants, and even posing as an informant in order to provide misinformation to noblemen. He continued training Vin and was surprised by her quick progress. Though they suffered many setbacks, Kelsier's leadership allowed the rebellion to attain an army of sufficient size to hold Luthadel.\n",
      "\n",
      " Death \n",
      "\n",
      "When several skaa from the rebellion were about to be executed, Kelsier attempts to save them. He is confronted by a Steel Inquisitor, which he eventually manages to defeat by beheading him with the Inquisitor's own obsidian axe. However, Kelsier is then confronted by the Lord Ruler, who backhands him across the face and then stabs him in the chest with a spear, killing him. Kelsier later reveals in his letter to Vin that he had intended to use the Eleventh Metal to destroy the Lord Ruler but could not discover how to use it in his fight. After his death, OreSeur takes his bones and appears before several groups of skaa, making them believe that Kelsier survived somehow. This results in the skaa considering him a god, leading to the founding of the Church of the Survivor, which refers to Kelsier as  \"Lord of the Mists\". Vin also became a major religious figure in the wake of his death, as the Survivorists consider her Kelsier's heir. TenSoon learned the location of his bones from OreSeur, and used them to convince the people of Luthadel to hide in the caverns after King Penrod was corrupted by Ruin.\n",
      "\n",
      " Time in the Cognitive Realm \n",
      "\n",
      "Immediately after his death, Kelsier arrived in the Cognitive Realm and met Preservation. He then asked Preservation if they are God, and after being told yes he promptly punched Preservation in the face. Then he found the power at the Well of Ascension and became trapped there with Ruin, though merging with the power of the Well allowed him to become a Cognitive Shadow and resist the pull of the Beyond. While he was in the Well, Hoid passed by and Kelsier essentially challenges him to a fight that Kelsier ultimately loses. He feels Ruin's presence during his time in the Well.\n",
      "\n",
      "Once he is freed from the Well along with Ruin, he initially travels around through the Cognitive version of Luthadel, seeking out his friends. He finds Vin and Ham near the steps of Keep Venture and also learned that Dockson had died in the Battle of Luthadel. He walks past Luthadel towards the lake of the same name, near which he finds Khriss and Nazh. They question him on Preservation's appearance after learning he has spoken directly with the Shard, and then continue their discussion onto other topics. Khriss mentions the Ire which sets Kelsier onto his next quest of finding their base of operation.\n",
      "\n",
      "During his journey to find the Ire, he runs into Ruin and has a discussion about Ruin's intent. After that, he left the area of the Cognitive Realm surrounding Scadrial and moved closer to finding the Ire. When he reaches their base, he moved past their guards and passed the wall into their chambers. He ultimately only took a glass orb from them after thwarting their plan to take over become the Vessel of Preservation after Leras' death.\n",
      "\n",
      "When he returned to Scadrial he found that Preservation's power was significantly weakened. He also ran into Vin and was shocked to see how far she had come in the time he was away. He stayed with her for a while after that but ultimately had to leave.\n",
      "\n",
      "When Leras died and Ruin began to Splinter the Shard of Preservation, Kelsier used the Ire's orb to Connect with Preservation and Ascend, allowing him to protect the power and hold it until Vin could take it. Despite Preservation not usually being able to speak into the minds of other, due to some combination of Spook being near death, having a broken soul, and believing Kelsier was a god, he was able to talk to Spook. He used this opportunity to tell Spook to send a message to Vin, warning her that any spiked person could potentially be under Ruin's control. Secretly, however, he knew that Ruin would send Marsh to intercept the message, and was hoping that reading the message would give Marsh the information he needed to remove Vin's earring, which was also a Hemalurgic spike that was keeping her from taking up Preservation's power. When Marsh caught Vin in Luthadel, he attacked Ruin with Preservation's power, weakening Ruin's control over Marsh just enough for Marsh to rip out Vin's earring. With the spike removed, Kelsier encouraged her to take up the power, relinquishing it so that she can do so. After she and Elend are killed, Kelsier spoke with them before they moved on to the Beyond.\n",
      "\n",
      "After Sazed's Ascension and Spook's rise to political power, Kelsier began to speak with Spook about finding a way to bring himself back to the Physical Realm. As a Cognitive Shadow tied to Scadrial, it is difficult for him to travel to other planets via Shadesmar. He does not yet know the secret to overcome this limitation. His bones survived the Ascension of Harmony, and may have helped him regain physical form.\n",
      "\n",
      " Continued Worship Post-Catacendre \n",
      "Many years after the Catacendre, the cult which started after Kelsier's deception with OreSeur directly following his death has become a fully-formed religion. The Church of the Survivor, or Survivorism, is possibly the most organized of Scadrial's religions in this period, as well as being the clear favorite among the social elite and downtrodden alike. \n",
      "\n",
      "Steris and Marasi are both members of this religion, though Marasi admits that it is more because she was raised in it.  Its central tenet is simply to survive, by any means, until you cannot survive any longer.  Priests in this religion wear robes with stitching up the arms to emulate Kelsier's scars from the Pits of Hathsin.\n",
      "\n",
      "The \"Survivor's Statemark\" is one of the symbols of the faith. When Bleeder killed Father Bin by nailing him to a wall, it is described as a parody of the Survivor's Statemark, implying that the Statemark depicts the way Kelsier died, impaled by a spear.\n",
      "\n",
      "Aside from the Survivorists, there was also a whole civilization of people that worshiped Kelsier far to the south of Elendel, calling him the Sovereign. Kelsier had traveled there several years after the Catacendre, inhabiting a physical body that was spiked in the right eye, and found the Southern Scadrians slowly dying of an unexplained coldness. He helped the people there survive using his knowledge of the Metallic Arts, showing them how to make unsealed metalminds to store attributes like heat in a way that could be shared with anyone. As the Sovereign, Kelsier ruled the Southern Scadrians for a time and formed another religion that deified Metalborn, and then he left.\n",
      "\n",
      "Before leaving them, he created the Bands of Mourning, a collection of unsealed metalminds forged together and containing all kinds of attributes in extremely large quantities. He hid the artifact away somewhere in the north and then disappeared.\n",
      "\n",
      " Cosmere-wide Activity \n",
      "Kelsier is known as Thaidakar to the Ghostbloods, a secret society that operates on several planets, including Roshar. Kelsier is the leader and presumed founder of the organization, which Mraize calls \"the most powerful organization in all the cosmere.\" He is referred to by Hoid as \"the Lord of Scars.\" Kelsier is Iyatil's master. While he is incapable of leaving Scadrial in person, he uses an \"avatar\" to visit the Ghostbloods on Roshar. He appears to be using the Ghostbloods to find a way for him to leave Scadrial and is very interested in learning from the Heralds, particularly Kalak, as they are subject to a similar restriction. When assassinated by Szeth, Gavilar suspects Thaidakar of ordering his death. He has also worked together with Khriss. The Ghostbloods believe Kelsier to still have his Allomantic abilities, and he appears to be playing into this lie.\n",
      "\n",
      " Kelsier and Wax \n",
      "Waxillium Ladrian was a direct descendant of a close associate of Kelsier, Edgard Ladrian. As a Pathian, Wax did not worship Kelsier, but his life has nonetheless been drastically affected by the Survivor.\n",
      "\n",
      "Marsh decided to give Wax a book explaining Hemalurgy because he believed Wax was doing Kelsier's work. This book proved vital in solving the case of Bleeder. While conversing with Harmony regarding the case, Harmony said that Wax's casual way of talking to him reminded him of Kelsier. Harmony also made vague allusions to the Southern Scadrians that Kelsier once ruled as the Sovereign.\n",
      "\n",
      "Later on, a group of Southern Scadrians traveled north in search of the Sovereign's Bands of Mourning, but were captured by the Set, who decided to seek the Bands as well. Wax and his friends became embroiled in this incident in opposition to the Set, and Wax was almost killed in an encounter with them. After Marasi solved the riddle of the Bands and wielded it to escape the Set, she gave it to Wax, who wielded it and became incredibly powerful. Wax then used the artifact to defeat the Set and save the Southern Scadrian prisoners, using up a lot of the Investiture stored in the Bands. \n",
      "\n",
      "Soon afterwards, Wax accessed a coppermind contained in a coin-like Southern Scadrian medallion that Hoid had given him and saw a vision of what appeared to be Kelsier's memory of discovering the Southern Scadrians hundreds of years prior. The vision, seen from Kelsier's point of view, showed that his spiked right eye viewed the world through Allomantic lines, similar to Steel Inquisitors, while his left eye saw things normally.\n",
      "\n",
      "<div data-nosnippet>\n",
      "\n",
      " Resistance against Trell \n",
      "At some point, Kelsier had the Ghostbloods on Scadrial work in order to resist the oncoming threat of Trell. He worked out of a safehouse in Bilming, alongside Moonlight, TwinSoul, Kaise, and Dao. He was hours away near Southern Scadrian when Telsin planned to send a bomb on Elendel, and tasked Moonlight, TwinSoul, and Marasi to take care of it. He also had Codenames send messages to Steris and the Ghostblood agents in the Elendel Basin, telling them to prepare for an evacuation of Elendel.\n",
      "\n",
      "After Elendel was saved, Kelsier talked with Harmony, asking him to lead Scadrial into a new technological and Metalborn age so they may be better prepared for future threats and Autonomy's return.\n"
     ]
    },
    {
     "data": {
      "text/plain": [
       "(\"The provided context doesn't explicitly state which Shard or shards are on the world where Kelsier died. However, it does state that Kelsier died on Scadrial, and that Scadrial is the homeworld of the Shards of **Preservation** and **Ruin**. \\n\\nTherefore, we can infer that the Shards of Preservation and Ruin are on the world where Kelsier died.\",\n",
       " [Document(metadata={'heading': 'Sliver', 'order': 4, 'parent_article': 'Kelsier', 'keywords': '', 'relevance_score': 0.9991029}, page_content='Kelsier -  Sliver \\nAfter Kelsier died, he became a Cognitive Shadow through the Well of Ascension, making him able to resist the pull of the Beyond. After Holding and releasing the Shard of Preservation, Kelsier became a Sliver.'),\n",
       "  Document(metadata={'heading': 'Time in the Cognitive Realm', 'order': 13, 'parent_article': 'Kelsier', 'keywords': '', 'relevance_score': 0.9988535}, page_content=\"Kelsier -  Time in the Cognitive Realm \\n\\nImmediately after his death, Kelsier arrived in the Cognitive Realm and met Preservation. He then asked Preservation if they are God, and after being told yes he promptly punched Preservation in the face. Then he found the power at the Well of Ascension and became trapped there with Ruin, though merging with the power of the Well allowed him to become a Cognitive Shadow and resist the pull of the Beyond. While he was in the Well, Hoid passed by and Kelsier essentially challenges him to a fight that Kelsier ultimately loses. He feels Ruin's presence during his time in the Well.\\n\\nOnce he is freed from the Well along with Ruin, he initially travels around through the Cognitive version of Luthadel, seeking out his friends. He finds Vin and Ham near the steps of Keep Venture and also learned that Dockson had died in the Battle of Luthadel. He walks past Luthadel towards the lake of the same name, near which he finds Khriss and Nazh. They question him on Preservation's appearance after learning he has spoken directly with the Shard, and then continue their discussion onto other topics. Khriss mentions the Ire which sets Kelsier onto his next quest of finding their base of operation.\\n\\nDuring his journey to find the Ire, he runs into Ruin and has a discussion about Ruin's intent. After that, he left the area of the Cognitive Realm surrounding Scadrial and moved closer to finding the Ire. When he reaches their base, he moved past their guards and passed the wall into their chambers. He ultimately only took a glass orb from them after thwarting their plan to take over become the Vessel of Preservation after Leras' death.\\n\\nWhen he returned to Scadrial he found that Preservation's power was significantly weakened. He also ran into Vin and was shocked to see how far she had come in the time he was away. He stayed with her for a while after that but ultimately had to leave.\\n\\nWhen Leras died and Ruin began to Splinter the Shard of Preservation, Kelsier used the Ire's orb to Connect with Preservation and Ascend, allowing him to protect the power and hold it until Vin could take it. Despite Preservation not usually being able to speak into the minds of other, due to some combination of Spook being near death, having a broken soul, and believing Kelsier was a god, he was able to talk to Spook. He used this opportunity to tell Spook to send a message to Vin, warning her that any spiked person could potentially be under Ruin's control. Secretly, however, he knew that Ruin would send Marsh to intercept the message, and was hoping that reading the message would give Marsh the information he needed to remove Vin's earring, which was also a Hemalurgic spike that was keeping her from taking up Preservation's power. When Marsh caught Vin in Luthadel, he attacked Ruin with Preservation's power, weakening Ruin's control over Marsh just enough for Marsh to rip out Vin's earring. With the spike removed, Kelsier encouraged her to take up the power, relinquishing it so that she can do so. After she and Elend are killed, Kelsier spoke with them before they moved on to the Beyond.\\n\\nAfter Sazed's Ascension and Spook's rise to political power, Kelsier began to speak with Spook about finding a way to bring himself back to the Physical Realm. As a Cognitive Shadow tied to Scadrial, it is difficult for him to travel to other planets via Shadesmar. He does not yet know the secret to overcome this limitation. His bones survived the Ascension of Harmony, and may have helped him regain physical form.\"),\n",
       "  Document(metadata={'heading': 'History', 'order': 8, 'parent_article': 'Kelsier', 'keywords': '', 'relevance_score': 0.9985903}, page_content='Kelsier -  History \\n\\n Early Life \\n\\nBorn to a noble father and skaa mother, his mother kept both Kelsier and Marsh alive by pretending that she was noble to their father so that their children would be considered merely illegitimate noblemen instead of half-breeds; however, their father eventually found out. Thus Kelsier\\'s mother was killed, and because of this, the brothers have a deep hatred of noblemen. Kelsier then made his living as a thief, becoming famous throughout Luthadel. \\nHe teamed up with the escaped Plantation skaa Dockson and the Tineye Mare, whom he married. They were extremely successful. Kelsier later said that \"he had more Money than he could Spend\" however, after a failed attempt at stealing from the Lord Ruler in his secret room inside Kredik Shaw, he was sent to the atium mines in the Pits of Hathsin. There he spent his time believing that his wife Mare had betrayed him to the Lord Ruler until he witnessed his wife being beaten to death by guards after she gifted her Atium bead to him. He then \"Snapped\", becoming a Mistborn. Using Allomancy he was able to escape the Pits. Kelsier was then trained by a Mistborn named Gemmel and they traveled to the far north of the Western Dominance to a city called Mantiz where Kelsier fought and killed the Mistborn Antillius Shezler. From the skaa in Keep Shezler he heard rumors of the Eleventh metal. Kelsier sought and eventually found the Eleventh metal as he believed it would help him to defeat the Lord Ruler.\\n\\n Recruiting his Crew \\n\\nAfter discovering the Eleventh Metal Kelsier started to prepare his plan by hiring the Kandra OreSeur. Then he killed the noble Lord Renoux and let OreSeur impersonate him. He met with Yeden the leader of the skaa rebellion and made Yeden hire him to bring down the Final Empire. On Kelsier\\'s way back to Luthadel, he made a stop at the farm of Lord Themos Tresting to talk with the farm skaa. When Lord Tresting attempted to rape a skaa girl, Kelsier saved her, killing Tresting and all his servants and soldiers in the process. He burned down the manor and purposely departed in a way that forced the skaa to join the rebellion. When he arrived in Luthadel, he first reunited with his old partner and best friend Dockson.\\n\\nDockson told Kelsier about a young Allomancer girl Marsh had discovered whom he suspected was a Mistborn. Kelsier and Dockson went to see her first hand; they watched Vin Soothe an obligator during Camon\\'s scheme, confirming that she was at least a Soother. After Camon and Vin left, Kelsier realized that the ministry had already discovered that Camon was a thief and only played along to find the crew\\'s hideout. A Steel Inquisitor had been present, discovering Vin\\'s Allomancy. The Inquisitor and some soliders followed Camon to find his hideout to wipe out his crew, but Kelsier lured the Inquisitor away by using his own Allomancy while Dockson took out the soldiers. They went to the hideout themselves just in time to save Vin from Camon. Kelsier knocked out Camon with Steelpushes and gave control over the crew to Milev. He forced the rest of the crew to leave, only leaving Vin. Kelsier\\'s suspicions that Vin was a Mistborn were confirmed when he saw that she was able to burn zinc. Kelsier offered to let her to join his crew. Vin didn\\'t trust him but agreed in order to learn how to use Allomancy. Later, Kelsier invited a team of the best thieves in the city to a gathering in Camon\\'s safe house. He introduced them and Vin to Yeden and explained his plan to destroy the Final Empire and kill the Lord Ruler. Breeze, Ham, Clubs, and Clubs\\' nephew Spook joined his crew. While initially hostile, in the end Kelsier\\'s brother Marsh joined, and together the crew developed a plan to defeat the Final Empire.\\n\\nThe plan was to secretly build up an army of twenty thousand trained skaa soldiers in the Arguois caverns while at the same time causing confusion and distrust in the nobility to cause a house war. Once their army was trained and the houses grew unstable enough, they would send a part of their army to attack the Pits of Hathsin, forcing the garrison of Luthadel to go and defend the Pits. With the garrison gone and the nobility weakened by the war, the rest of the army then could take over Luthadel. Then Yeden would gain control of the city and the crew would receive the Lord Ruler\\'s atium stash as payment. Breeze would recruit men for the rebellion, Ham would train them in the Arguois caverns, Dockson would direct the operation\\'s finances, Clubs would hide the group\\'s Allomancy with copperclouds, OreSeur in the role of Lord Renoux would buy the necessary equipment, Marsh would infiltrate the Steel Ministry posing as an obligator, Kelsier would use his Mistborn power to make attacks on the nobility to create tension between the houses, and Vin would gather information in the noble court posing as Renoux\\'s niece Valette. Kelsier also wanted to try kill the Lord Ruler with the Eleventh Metal as a \"voluntary bonus\".\\n\\n The Skaa Rebellion  \\nTo put the plan in motion, Kelsier first targeted Keep Venture, as House Venture was currently the most powerful house in Luthadel and an attack on it would have the greatest impact. Kelsier killed eight Hazekillers, stole a bag of atium, and made sure that it became known that a Mistborn had attacked a Great House, something forbidden by an unspoken agreement between the houses. He gifted Vin a mistcloak and started to teach her Allomancy. Vin expected that Kelsier would use his knowledge to control her, but to her surprise, he openly explained her the eight basic metals. Kelsier let Vin jump over the city walls as an exercise for steel and iron and was surprised how voluntarily she did it, remembering his own training. Outside the city, they saw a Mistwraith. Back at the city gates Kelsier introduced Vin to Sazed. Realizing Vin didn\\'t trust him, he told her that in his crew they trust each other. He offered to teach her about gold and atium, gave her the money he took from Camon, and allowed her to leave, as he didn\\'t want to force anybody into his crew. Vin decided to stay in order to see if he told the truth about trusting others.\\n\\nIn the following months, Kelsier himself took on many roles to further the plan, acting as a beacon to the repressed skaa, assisting in recruitment, attacking many noblemen to increase the tensions between the Great Houses,, collecting information by purchasing it from informants, and even posing as an informant in order to provide misinformation to noblemen. He continued training Vin and was surprised by her quick progress. Though they suffered many setbacks, Kelsier\\'s leadership allowed the rebellion to attain an army of sufficient size to hold Luthadel.\\n\\n Death \\n\\nWhen several skaa from the rebellion were about to be executed, Kelsier attempts to save them. He is confronted by a Steel Inquisitor, which he eventually manages to defeat by beheading him with the Inquisitor\\'s own obsidian axe. However, Kelsier is then confronted by the Lord Ruler, who backhands him across the face and then stabs him in the chest with a spear, killing him. Kelsier later reveals in his letter to Vin that he had intended to use the Eleventh Metal to destroy the Lord Ruler but could not discover how to use it in his fight. After his death, OreSeur takes his bones and appears before several groups of skaa, making them believe that Kelsier survived somehow. This results in the skaa considering him a god, leading to the founding of the Church of the Survivor, which refers to Kelsier as  \"Lord of the Mists\". Vin also became a major religious figure in the wake of his death, as the Survivorists consider her Kelsier\\'s heir. TenSoon learned the location of his bones from OreSeur, and used them to convince the people of Luthadel to hide in the caverns after King Penrod was corrupted by Ruin.\\n\\n Time in the Cognitive Realm \\n\\nImmediately after his death, Kelsier arrived in the Cognitive Realm and met Preservation. He then asked Preservation if they are God, and after being told yes he promptly punched Preservation in the face. Then he found the power at the Well of Ascension and became trapped there with Ruin, though merging with the power of the Well allowed him to become a Cognitive Shadow and resist the pull of the Beyond. While he was in the Well, Hoid passed by and Kelsier essentially challenges him to a fight that Kelsier ultimately loses. He feels Ruin\\'s presence during his time in the Well.\\n\\nOnce he is freed from the Well along with Ruin, he initially travels around through the Cognitive version of Luthadel, seeking out his friends. He finds Vin and Ham near the steps of Keep Venture and also learned that Dockson had died in the Battle of Luthadel. He walks past Luthadel towards the lake of the same name, near which he finds Khriss and Nazh. They question him on Preservation\\'s appearance after learning he has spoken directly with the Shard, and then continue their discussion onto other topics. Khriss mentions the Ire which sets Kelsier onto his next quest of finding their base of operation.\\n\\nDuring his journey to find the Ire, he runs into Ruin and has a discussion about Ruin\\'s intent. After that, he left the area of the Cognitive Realm surrounding Scadrial and moved closer to finding the Ire. When he reaches their base, he moved past their guards and passed the wall into their chambers. He ultimately only took a glass orb from them after thwarting their plan to take over become the Vessel of Preservation after Leras\\' death.\\n\\nWhen he returned to Scadrial he found that Preservation\\'s power was significantly weakened. He also ran into Vin and was shocked to see how far she had come in the time he was away. He stayed with her for a while after that but ultimately had to leave.\\n\\nWhen Leras died and Ruin began to Splinter the Shard of Preservation, Kelsier used the Ire\\'s orb to Connect with Preservation and Ascend, allowing him to protect the power and hold it until Vin could take it. Despite Preservation not usually being able to speak into the minds of other, due to some combination of Spook being near death, having a broken soul, and believing Kelsier was a god, he was able to talk to Spook. He used this opportunity to tell Spook to send a message to Vin, warning her that any spiked person could potentially be under Ruin\\'s control. Secretly, however, he knew that Ruin would send Marsh to intercept the message, and was hoping that reading the message would give Marsh the information he needed to remove Vin\\'s earring, which was also a Hemalurgic spike that was keeping her from taking up Preservation\\'s power. When Marsh caught Vin in Luthadel, he attacked Ruin with Preservation\\'s power, weakening Ruin\\'s control over Marsh just enough for Marsh to rip out Vin\\'s earring. With the spike removed, Kelsier encouraged her to take up the power, relinquishing it so that she can do so. After she and Elend are killed, Kelsier spoke with them before they moved on to the Beyond.\\n\\nAfter Sazed\\'s Ascension and Spook\\'s rise to political power, Kelsier began to speak with Spook about finding a way to bring himself back to the Physical Realm. As a Cognitive Shadow tied to Scadrial, it is difficult for him to travel to other planets via Shadesmar. He does not yet know the secret to overcome this limitation. His bones survived the Ascension of Harmony, and may have helped him regain physical form.\\n\\n Continued Worship Post-Catacendre \\nMany years after the Catacendre, the cult which started after Kelsier\\'s deception with OreSeur directly following his death has become a fully-formed religion. The Church of the Survivor, or Survivorism, is possibly the most organized of Scadrial\\'s religions in this period, as well as being the clear favorite among the social elite and downtrodden alike. \\n\\nSteris and Marasi are both members of this religion, though Marasi admits that it is more because she was raised in it.  Its central tenet is simply to survive, by any means, until you cannot survive any longer.  Priests in this religion wear robes with stitching up the arms to emulate Kelsier\\'s scars from the Pits of Hathsin.\\n\\nThe \"Survivor\\'s Statemark\" is one of the symbols of the faith. When Bleeder killed Father Bin by nailing him to a wall, it is described as a parody of the Survivor\\'s Statemark, implying that the Statemark depicts the way Kelsier died, impaled by a spear.\\n\\nAside from the Survivorists, there was also a whole civilization of people that worshiped Kelsier far to the south of Elendel, calling him the Sovereign. Kelsier had traveled there several years after the Catacendre, inhabiting a physical body that was spiked in the right eye, and found the Southern Scadrians slowly dying of an unexplained coldness. He helped the people there survive using his knowledge of the Metallic Arts, showing them how to make unsealed metalminds to store attributes like heat in a way that could be shared with anyone. As the Sovereign, Kelsier ruled the Southern Scadrians for a time and formed another religion that deified Metalborn, and then he left.\\n\\nBefore leaving them, he created the Bands of Mourning, a collection of unsealed metalminds forged together and containing all kinds of attributes in extremely large quantities. He hid the artifact away somewhere in the north and then disappeared.\\n\\n Cosmere-wide Activity \\nKelsier is known as Thaidakar to the Ghostbloods, a secret society that operates on several planets, including Roshar. Kelsier is the leader and presumed founder of the organization, which Mraize calls \"the most powerful organization in all the cosmere.\" He is referred to by Hoid as \"the Lord of Scars.\" Kelsier is Iyatil\\'s master. While he is incapable of leaving Scadrial in person, he uses an \"avatar\" to visit the Ghostbloods on Roshar. He appears to be using the Ghostbloods to find a way for him to leave Scadrial and is very interested in learning from the Heralds, particularly Kalak, as they are subject to a similar restriction. When assassinated by Szeth, Gavilar suspects Thaidakar of ordering his death. He has also worked together with Khriss. The Ghostbloods believe Kelsier to still have his Allomantic abilities, and he appears to be playing into this lie.\\n\\n Kelsier and Wax \\nWaxillium Ladrian was a direct descendant of a close associate of Kelsier, Edgard Ladrian. As a Pathian, Wax did not worship Kelsier, but his life has nonetheless been drastically affected by the Survivor.\\n\\nMarsh decided to give Wax a book explaining Hemalurgy because he believed Wax was doing Kelsier\\'s work. This book proved vital in solving the case of Bleeder. While conversing with Harmony regarding the case, Harmony said that Wax\\'s casual way of talking to him reminded him of Kelsier. Harmony also made vague allusions to the Southern Scadrians that Kelsier once ruled as the Sovereign.\\n\\nLater on, a group of Southern Scadrians traveled north in search of the Sovereign\\'s Bands of Mourning, but were captured by the Set, who decided to seek the Bands as well. Wax and his friends became embroiled in this incident in opposition to the Set, and Wax was almost killed in an encounter with them. After Marasi solved the riddle of the Bands and wielded it to escape the Set, she gave it to Wax, who wielded it and became incredibly powerful. Wax then used the artifact to defeat the Set and save the Southern Scadrian prisoners, using up a lot of the Investiture stored in the Bands. \\n\\nSoon afterwards, Wax accessed a coppermind contained in a coin-like Southern Scadrian medallion that Hoid had given him and saw a vision of what appeared to be Kelsier\\'s memory of discovering the Southern Scadrians hundreds of years prior. The vision, seen from Kelsier\\'s point of view, showed that his spiked right eye viewed the world through Allomantic lines, similar to Steel Inquisitors, while his left eye saw things normally.\\n\\n<div data-nosnippet>\\n\\n Resistance against Trell \\nAt some point, Kelsier had the Ghostbloods on Scadrial work in order to resist the oncoming threat of Trell. He worked out of a safehouse in Bilming, alongside Moonlight, TwinSoul, Kaise, and Dao. He was hours away near Southern Scadrian when Telsin planned to send a bomb on Elendel, and tasked Moonlight, TwinSoul, and Marasi to take care of it. He also had Codenames send messages to Steris and the Ghostblood agents in the Elendel Basin, telling them to prepare for an evacuation of Elendel.\\n\\nAfter Elendel was saved, Kelsier talked with Harmony, asking him to lead Scadrial into a new technological and Metalborn age so they may be better prepared for future threats and Autonomy\\'s return.')])"
      ]
     },
     "execution_count": 8,
     "metadata": {},
     "output_type": "execute_result"
    }
   ],
   "source": [
    "query = \"What Shard or Shards is on the world where Kelsier died?\"\n",
    "pipe.perform_rag(query)"
   ]
  },
  {
   "cell_type": "code",
   "execution_count": 11,
   "metadata": {},
   "outputs": [
    {
     "name": "stdout",
     "output_type": "stream",
     "text": [
      "\n",
      "The provided context does not explicitly state what happened to the Shard or Shards on Scadrial after the Catacendre. However, it does mention a few key points:\n",
      "\n",
      "* **Kelsier became a Sliver:** After his death, Kelsier became a Cognitive Shadow through the Well of Ascension, and later, a Sliver. This implies he was connected to the Shard of Preservation in some way.\n",
      "* **The Church of the Survivor:** This religion, centered on Kelsier's teachings, became very influential on Scadrial. It suggests that his legacy and the ideas he represented continued to have an impact on the world.\n",
      "* **Kelsier's actions as the Sovereign:** He traveled to the Southern Scadrians and helped them survive using his knowledge of the Metallic Arts. He also created the Bands of Mourning, a powerful artifact containing a large amount of Investiture.\n",
      "\n",
      "Based on these points, we can infer that:\n",
      "\n",
      "* **The Shard of Preservation likely remained on Scadrial:** While Kelsier became a Sliver, he didn't take the Shard with him. He used his connection to the Shard to help Vin ascend and become the new holder.\n",
      "* **The Shard's power may have been weakened:** The text mentions that Preservation's power was significantly weakened after Kelsier's Ascension. This could be due to the Shard being split during the Catacendre.\n",
      "* **The Bands of Mourning may be a remnant of the Shard's power:** The Bands, created by Kelsier, contain a large amount of Investiture. It's possible they were infused with some of the Shard's power, making them a powerful artifact.\n",
      "\n",
      "In summary, while the text doesn't directly describe what happened to the Shard or Shards on Scadrial after the Catacendre, we can infer that:\n",
      "\n",
      "* The Shard of Preservation remained on Scadrial, likely weakened.\n",
      "* Kelsier's legacy and the Bands of Mourning may be connected to the Shard's power.\n",
      "\n",
      "More information about the Shard's fate after the Catacendre would require further exploration of the Cosmere.\n",
      "\n",
      "Sources:\n",
      "1 - Kelsier -  Sliver \n",
      "After Kelsier died, he became a Cognitive Shadow through the Well of Ascension, making him able to resist the pull of the Beyond. After Holding and releasing the Shard of Preservation, Kelsier became a Sliver.\n",
      "2 - Kelsier -  Continued Worship Post-Catacendre \n",
      "Many years after the Catacendre, the cult which started after Kelsier's deception with OreSeur directly following his death has become a fully-formed religion. The Church of the Survivor, or Survivorism, is possibly the most organized of Scadrial's religions in this period, as well as being the clear favorite among the social elite and downtrodden alike. \n",
      "\n",
      "Steris and Marasi are both members of this religion, though Marasi admits that it is more because she was raised in it.  Its central tenet is simply to survive, by any means, until you cannot survive any longer.  Priests in this religion wear robes with stitching up the arms to emulate Kelsier's scars from the Pits of Hathsin.\n",
      "\n",
      "The \"Survivor's Statemark\" is one of the symbols of the faith. When Bleeder killed Father Bin by nailing him to a wall, it is described as a parody of the Survivor's Statemark, implying that the Statemark depicts the way Kelsier died, impaled by a spear.\n",
      "\n",
      "Aside from the Survivorists, there was also a whole civilization of people that worshiped Kelsier far to the south of Elendel, calling him the Sovereign. Kelsier had traveled there several years after the Catacendre, inhabiting a physical body that was spiked in the right eye, and found the Southern Scadrians slowly dying of an unexplained coldness. He helped the people there survive using his knowledge of the Metallic Arts, showing them how to make unsealed metalminds to store attributes like heat in a way that could be shared with anyone. As the Sovereign, Kelsier ruled the Southern Scadrians for a time and formed another religion that deified Metalborn, and then he left.\n",
      "\n",
      "Before leaving them, he created the Bands of Mourning, a collection of unsealed metalminds forged together and containing all kinds of attributes in extremely large quantities. He hid the artifact away somewhere in the north and then disappeared.\n",
      "3 - Kelsier -  History \n",
      "\n",
      " Early Life \n",
      "\n",
      "Born to a noble father and skaa mother, his mother kept both Kelsier and Marsh alive by pretending that she was noble to their father so that their children would be considered merely illegitimate noblemen instead of half-breeds; however, their father eventually found out. Thus Kelsier's mother was killed, and because of this, the brothers have a deep hatred of noblemen. Kelsier then made his living as a thief, becoming famous throughout Luthadel. \n",
      "He teamed up with the escaped Plantation skaa Dockson and the Tineye Mare, whom he married. They were extremely successful. Kelsier later said that \"he had more Money than he could Spend\" however, after a failed attempt at stealing from the Lord Ruler in his secret room inside Kredik Shaw, he was sent to the atium mines in the Pits of Hathsin. There he spent his time believing that his wife Mare had betrayed him to the Lord Ruler until he witnessed his wife being beaten to death by guards after she gifted her Atium bead to him. He then \"Snapped\", becoming a Mistborn. Using Allomancy he was able to escape the Pits. Kelsier was then trained by a Mistborn named Gemmel and they traveled to the far north of the Western Dominance to a city called Mantiz where Kelsier fought and killed the Mistborn Antillius Shezler. From the skaa in Keep Shezler he heard rumors of the Eleventh metal. Kelsier sought and eventually found the Eleventh metal as he believed it would help him to defeat the Lord Ruler.\n",
      "\n",
      " Recruiting his Crew \n",
      "\n",
      "After discovering the Eleventh Metal Kelsier started to prepare his plan by hiring the Kandra OreSeur. Then he killed the noble Lord Renoux and let OreSeur impersonate him. He met with Yeden the leader of the skaa rebellion and made Yeden hire him to bring down the Final Empire. On Kelsier's way back to Luthadel, he made a stop at the farm of Lord Themos Tresting to talk with the farm skaa. When Lord Tresting attempted to rape a skaa girl, Kelsier saved her, killing Tresting and all his servants and soldiers in the process. He burned down the manor and purposely departed in a way that forced the skaa to join the rebellion. When he arrived in Luthadel, he first reunited with his old partner and best friend Dockson.\n",
      "\n",
      "Dockson told Kelsier about a young Allomancer girl Marsh had discovered whom he suspected was a Mistborn. Kelsier and Dockson went to see her first hand; they watched Vin Soothe an obligator during Camon's scheme, confirming that she was at least a Soother. After Camon and Vin left, Kelsier realized that the ministry had already discovered that Camon was a thief and only played along to find the crew's hideout. A Steel Inquisitor had been present, discovering Vin's Allomancy. The Inquisitor and some soliders followed Camon to find his hideout to wipe out his crew, but Kelsier lured the Inquisitor away by using his own Allomancy while Dockson took out the soldiers. They went to the hideout themselves just in time to save Vin from Camon. Kelsier knocked out Camon with Steelpushes and gave control over the crew to Milev. He forced the rest of the crew to leave, only leaving Vin. Kelsier's suspicions that Vin was a Mistborn were confirmed when he saw that she was able to burn zinc. Kelsier offered to let her to join his crew. Vin didn't trust him but agreed in order to learn how to use Allomancy. Later, Kelsier invited a team of the best thieves in the city to a gathering in Camon's safe house. He introduced them and Vin to Yeden and explained his plan to destroy the Final Empire and kill the Lord Ruler. Breeze, Ham, Clubs, and Clubs' nephew Spook joined his crew. While initially hostile, in the end Kelsier's brother Marsh joined, and together the crew developed a plan to defeat the Final Empire.\n",
      "\n",
      "The plan was to secretly build up an army of twenty thousand trained skaa soldiers in the Arguois caverns while at the same time causing confusion and distrust in the nobility to cause a house war. Once their army was trained and the houses grew unstable enough, they would send a part of their army to attack the Pits of Hathsin, forcing the garrison of Luthadel to go and defend the Pits. With the garrison gone and the nobility weakened by the war, the rest of the army then could take over Luthadel. Then Yeden would gain control of the city and the crew would receive the Lord Ruler's atium stash as payment. Breeze would recruit men for the rebellion, Ham would train them in the Arguois caverns, Dockson would direct the operation's finances, Clubs would hide the group's Allomancy with copperclouds, OreSeur in the role of Lord Renoux would buy the necessary equipment, Marsh would infiltrate the Steel Ministry posing as an obligator, Kelsier would use his Mistborn power to make attacks on the nobility to create tension between the houses, and Vin would gather information in the noble court posing as Renoux's niece Valette. Kelsier also wanted to try kill the Lord Ruler with the Eleventh Metal as a \"voluntary bonus\".\n",
      "\n",
      " The Skaa Rebellion  \n",
      "To put the plan in motion, Kelsier first targeted Keep Venture, as House Venture was currently the most powerful house in Luthadel and an attack on it would have the greatest impact. Kelsier killed eight Hazekillers, stole a bag of atium, and made sure that it became known that a Mistborn had attacked a Great House, something forbidden by an unspoken agreement between the houses. He gifted Vin a mistcloak and started to teach her Allomancy. Vin expected that Kelsier would use his knowledge to control her, but to her surprise, he openly explained her the eight basic metals. Kelsier let Vin jump over the city walls as an exercise for steel and iron and was surprised how voluntarily she did it, remembering his own training. Outside the city, they saw a Mistwraith. Back at the city gates Kelsier introduced Vin to Sazed. Realizing Vin didn't trust him, he told her that in his crew they trust each other. He offered to teach her about gold and atium, gave her the money he took from Camon, and allowed her to leave, as he didn't want to force anybody into his crew. Vin decided to stay in order to see if he told the truth about trusting others.\n",
      "\n",
      "In the following months, Kelsier himself took on many roles to further the plan, acting as a beacon to the repressed skaa, assisting in recruitment, attacking many noblemen to increase the tensions between the Great Houses,, collecting information by purchasing it from informants, and even posing as an informant in order to provide misinformation to noblemen. He continued training Vin and was surprised by her quick progress. Though they suffered many setbacks, Kelsier's leadership allowed the rebellion to attain an army of sufficient size to hold Luthadel.\n",
      "\n",
      " Death \n",
      "\n",
      "When several skaa from the rebellion were about to be executed, Kelsier attempts to save them. He is confronted by a Steel Inquisitor, which he eventually manages to defeat by beheading him with the Inquisitor's own obsidian axe. However, Kelsier is then confronted by the Lord Ruler, who backhands him across the face and then stabs him in the chest with a spear, killing him. Kelsier later reveals in his letter to Vin that he had intended to use the Eleventh Metal to destroy the Lord Ruler but could not discover how to use it in his fight. After his death, OreSeur takes his bones and appears before several groups of skaa, making them believe that Kelsier survived somehow. This results in the skaa considering him a god, leading to the founding of the Church of the Survivor, which refers to Kelsier as  \"Lord of the Mists\". Vin also became a major religious figure in the wake of his death, as the Survivorists consider her Kelsier's heir. TenSoon learned the location of his bones from OreSeur, and used them to convince the people of Luthadel to hide in the caverns after King Penrod was corrupted by Ruin.\n",
      "\n",
      " Time in the Cognitive Realm \n",
      "\n",
      "Immediately after his death, Kelsier arrived in the Cognitive Realm and met Preservation. He then asked Preservation if they are God, and after being told yes he promptly punched Preservation in the face. Then he found the power at the Well of Ascension and became trapped there with Ruin, though merging with the power of the Well allowed him to become a Cognitive Shadow and resist the pull of the Beyond. While he was in the Well, Hoid passed by and Kelsier essentially challenges him to a fight that Kelsier ultimately loses. He feels Ruin's presence during his time in the Well.\n",
      "\n",
      "Once he is freed from the Well along with Ruin, he initially travels around through the Cognitive version of Luthadel, seeking out his friends. He finds Vin and Ham near the steps of Keep Venture and also learned that Dockson had died in the Battle of Luthadel. He walks past Luthadel towards the lake of the same name, near which he finds Khriss and Nazh. They question him on Preservation's appearance after learning he has spoken directly with the Shard, and then continue their discussion onto other topics. Khriss mentions the Ire which sets Kelsier onto his next quest of finding their base of operation.\n",
      "\n",
      "During his journey to find the Ire, he runs into Ruin and has a discussion about Ruin's intent. After that, he left the area of the Cognitive Realm surrounding Scadrial and moved closer to finding the Ire. When he reaches their base, he moved past their guards and passed the wall into their chambers. He ultimately only took a glass orb from them after thwarting their plan to take over become the Vessel of Preservation after Leras' death.\n",
      "\n",
      "When he returned to Scadrial he found that Preservation's power was significantly weakened. He also ran into Vin and was shocked to see how far she had come in the time he was away. He stayed with her for a while after that but ultimately had to leave.\n",
      "\n",
      "When Leras died and Ruin began to Splinter the Shard of Preservation, Kelsier used the Ire's orb to Connect with Preservation and Ascend, allowing him to protect the power and hold it until Vin could take it. Despite Preservation not usually being able to speak into the minds of other, due to some combination of Spook being near death, having a broken soul, and believing Kelsier was a god, he was able to talk to Spook. He used this opportunity to tell Spook to send a message to Vin, warning her that any spiked person could potentially be under Ruin's control. Secretly, however, he knew that Ruin would send Marsh to intercept the message, and was hoping that reading the message would give Marsh the information he needed to remove Vin's earring, which was also a Hemalurgic spike that was keeping her from taking up Preservation's power. When Marsh caught Vin in Luthadel, he attacked Ruin with Preservation's power, weakening Ruin's control over Marsh just enough for Marsh to rip out Vin's earring. With the spike removed, Kelsier encouraged her to take up the power, relinquishing it so that she can do so. After she and Elend are killed, Kelsier spoke with them before they moved on to the Beyond.\n",
      "\n",
      "After Sazed's Ascension and Spook's rise to political power, Kelsier began to speak with Spook about finding a way to bring himself back to the Physical Realm. As a Cognitive Shadow tied to Scadrial, it is difficult for him to travel to other planets via Shadesmar. He does not yet know the secret to overcome this limitation. His bones survived the Ascension of Harmony, and may have helped him regain physical form.\n",
      "\n",
      " Continued Worship Post-Catacendre \n",
      "Many years after the Catacendre, the cult which started after Kelsier's deception with OreSeur directly following his death has become a fully-formed religion. The Church of the Survivor, or Survivorism, is possibly the most organized of Scadrial's religions in this period, as well as being the clear favorite among the social elite and downtrodden alike. \n",
      "\n",
      "Steris and Marasi are both members of this religion, though Marasi admits that it is more because she was raised in it.  Its central tenet is simply to survive, by any means, until you cannot survive any longer.  Priests in this religion wear robes with stitching up the arms to emulate Kelsier's scars from the Pits of Hathsin.\n",
      "\n",
      "The \"Survivor's Statemark\" is one of the symbols of the faith. When Bleeder killed Father Bin by nailing him to a wall, it is described as a parody of the Survivor's Statemark, implying that the Statemark depicts the way Kelsier died, impaled by a spear.\n",
      "\n",
      "Aside from the Survivorists, there was also a whole civilization of people that worshiped Kelsier far to the south of Elendel, calling him the Sovereign. Kelsier had traveled there several years after the Catacendre, inhabiting a physical body that was spiked in the right eye, and found the Southern Scadrians slowly dying of an unexplained coldness. He helped the people there survive using his knowledge of the Metallic Arts, showing them how to make unsealed metalminds to store attributes like heat in a way that could be shared with anyone. As the Sovereign, Kelsier ruled the Southern Scadrians for a time and formed another religion that deified Metalborn, and then he left.\n",
      "\n",
      "Before leaving them, he created the Bands of Mourning, a collection of unsealed metalminds forged together and containing all kinds of attributes in extremely large quantities. He hid the artifact away somewhere in the north and then disappeared.\n",
      "\n",
      " Cosmere-wide Activity \n",
      "Kelsier is known as Thaidakar to the Ghostbloods, a secret society that operates on several planets, including Roshar. Kelsier is the leader and presumed founder of the organization, which Mraize calls \"the most powerful organization in all the cosmere.\" He is referred to by Hoid as \"the Lord of Scars.\" Kelsier is Iyatil's master. While he is incapable of leaving Scadrial in person, he uses an \"avatar\" to visit the Ghostbloods on Roshar. He appears to be using the Ghostbloods to find a way for him to leave Scadrial and is very interested in learning from the Heralds, particularly Kalak, as they are subject to a similar restriction. When assassinated by Szeth, Gavilar suspects Thaidakar of ordering his death. He has also worked together with Khriss. The Ghostbloods believe Kelsier to still have his Allomantic abilities, and he appears to be playing into this lie.\n",
      "\n",
      " Kelsier and Wax \n",
      "Waxillium Ladrian was a direct descendant of a close associate of Kelsier, Edgard Ladrian. As a Pathian, Wax did not worship Kelsier, but his life has nonetheless been drastically affected by the Survivor.\n",
      "\n",
      "Marsh decided to give Wax a book explaining Hemalurgy because he believed Wax was doing Kelsier's work. This book proved vital in solving the case of Bleeder. While conversing with Harmony regarding the case, Harmony said that Wax's casual way of talking to him reminded him of Kelsier. Harmony also made vague allusions to the Southern Scadrians that Kelsier once ruled as the Sovereign.\n",
      "\n",
      "Later on, a group of Southern Scadrians traveled north in search of the Sovereign's Bands of Mourning, but were captured by the Set, who decided to seek the Bands as well. Wax and his friends became embroiled in this incident in opposition to the Set, and Wax was almost killed in an encounter with them. After Marasi solved the riddle of the Bands and wielded it to escape the Set, she gave it to Wax, who wielded it and became incredibly powerful. Wax then used the artifact to defeat the Set and save the Southern Scadrian prisoners, using up a lot of the Investiture stored in the Bands. \n",
      "\n",
      "Soon afterwards, Wax accessed a coppermind contained in a coin-like Southern Scadrian medallion that Hoid had given him and saw a vision of what appeared to be Kelsier's memory of discovering the Southern Scadrians hundreds of years prior. The vision, seen from Kelsier's point of view, showed that his spiked right eye viewed the world through Allomantic lines, similar to Steel Inquisitors, while his left eye saw things normally.\n",
      "\n",
      "<div data-nosnippet>\n",
      "\n",
      " Resistance against Trell \n",
      "At some point, Kelsier had the Ghostbloods on Scadrial work in order to resist the oncoming threat of Trell. He worked out of a safehouse in Bilming, alongside Moonlight, TwinSoul, Kaise, and Dao. He was hours away near Southern Scadrian when Telsin planned to send a bomb on Elendel, and tasked Moonlight, TwinSoul, and Marasi to take care of it. He also had Codenames send messages to Steris and the Ghostblood agents in the Elendel Basin, telling them to prepare for an evacuation of Elendel.\n",
      "\n",
      "After Elendel was saved, Kelsier talked with Harmony, asking him to lead Scadrial into a new technological and Metalborn age so they may be better prepared for future threats and Autonomy's return.\n"
     ]
    },
    {
     "data": {
      "text/plain": [
       "(\"The provided context does not explicitly state what happened to the Shard or Shards on Scadrial after the Catacendre. However, it does mention a few key points:\\n\\n* **Kelsier became a Sliver:** After his death, Kelsier became a Cognitive Shadow through the Well of Ascension, and later, a Sliver. This implies he was connected to the Shard of Preservation in some way.\\n* **The Church of the Survivor:** This religion, centered on Kelsier's teachings, became very influential on Scadrial. It suggests that his legacy and the ideas he represented continued to have an impact on the world.\\n* **Kelsier's actions as the Sovereign:** He traveled to the Southern Scadrians and helped them survive using his knowledge of the Metallic Arts. He also created the Bands of Mourning, a powerful artifact containing a large amount of Investiture.\\n\\nBased on these points, we can infer that:\\n\\n* **The Shard of Preservation likely remained on Scadrial:** While Kelsier became a Sliver, he didn't take the Shard with him. He used his connection to the Shard to help Vin ascend and become the new holder.\\n* **The Shard's power may have been weakened:** The text mentions that Preservation's power was significantly weakened after Kelsier's Ascension. This could be due to the Shard being split during the Catacendre.\\n* **The Bands of Mourning may be a remnant of the Shard's power:** The Bands, created by Kelsier, contain a large amount of Investiture. It's possible they were infused with some of the Shard's power, making them a powerful artifact.\\n\\nIn summary, while the text doesn't directly describe what happened to the Shard or Shards on Scadrial after the Catacendre, we can infer that:\\n\\n* The Shard of Preservation remained on Scadrial, likely weakened.\\n* Kelsier's legacy and the Bands of Mourning may be connected to the Shard's power.\\n\\nMore information about the Shard's fate after the Catacendre would require further exploration of the Cosmere.\",\n",
       " [Document(metadata={'heading': 'Sliver', 'order': 4, 'parent_article': 'Kelsier', 'keywords': '', 'relevance_score': 0.99904376}, page_content='Kelsier -  Sliver \\nAfter Kelsier died, he became a Cognitive Shadow through the Well of Ascension, making him able to resist the pull of the Beyond. After Holding and releasing the Shard of Preservation, Kelsier became a Sliver.'),\n",
       "  Document(metadata={'heading': 'Continued Worship Post-Catacendre', 'order': 14, 'parent_article': 'Kelsier', 'keywords': '', 'relevance_score': 0.9990339}, page_content='Kelsier -  Continued Worship Post-Catacendre \\nMany years after the Catacendre, the cult which started after Kelsier\\'s deception with OreSeur directly following his death has become a fully-formed religion. The Church of the Survivor, or Survivorism, is possibly the most organized of Scadrial\\'s religions in this period, as well as being the clear favorite among the social elite and downtrodden alike. \\n\\nSteris and Marasi are both members of this religion, though Marasi admits that it is more because she was raised in it.  Its central tenet is simply to survive, by any means, until you cannot survive any longer.  Priests in this religion wear robes with stitching up the arms to emulate Kelsier\\'s scars from the Pits of Hathsin.\\n\\nThe \"Survivor\\'s Statemark\" is one of the symbols of the faith. When Bleeder killed Father Bin by nailing him to a wall, it is described as a parody of the Survivor\\'s Statemark, implying that the Statemark depicts the way Kelsier died, impaled by a spear.\\n\\nAside from the Survivorists, there was also a whole civilization of people that worshiped Kelsier far to the south of Elendel, calling him the Sovereign. Kelsier had traveled there several years after the Catacendre, inhabiting a physical body that was spiked in the right eye, and found the Southern Scadrians slowly dying of an unexplained coldness. He helped the people there survive using his knowledge of the Metallic Arts, showing them how to make unsealed metalminds to store attributes like heat in a way that could be shared with anyone. As the Sovereign, Kelsier ruled the Southern Scadrians for a time and formed another religion that deified Metalborn, and then he left.\\n\\nBefore leaving them, he created the Bands of Mourning, a collection of unsealed metalminds forged together and containing all kinds of attributes in extremely large quantities. He hid the artifact away somewhere in the north and then disappeared.'),\n",
       "  Document(metadata={'heading': 'History', 'order': 8, 'parent_article': 'Kelsier', 'keywords': '', 'relevance_score': 0.9988724}, page_content='Kelsier -  History \\n\\n Early Life \\n\\nBorn to a noble father and skaa mother, his mother kept both Kelsier and Marsh alive by pretending that she was noble to their father so that their children would be considered merely illegitimate noblemen instead of half-breeds; however, their father eventually found out. Thus Kelsier\\'s mother was killed, and because of this, the brothers have a deep hatred of noblemen. Kelsier then made his living as a thief, becoming famous throughout Luthadel. \\nHe teamed up with the escaped Plantation skaa Dockson and the Tineye Mare, whom he married. They were extremely successful. Kelsier later said that \"he had more Money than he could Spend\" however, after a failed attempt at stealing from the Lord Ruler in his secret room inside Kredik Shaw, he was sent to the atium mines in the Pits of Hathsin. There he spent his time believing that his wife Mare had betrayed him to the Lord Ruler until he witnessed his wife being beaten to death by guards after she gifted her Atium bead to him. He then \"Snapped\", becoming a Mistborn. Using Allomancy he was able to escape the Pits. Kelsier was then trained by a Mistborn named Gemmel and they traveled to the far north of the Western Dominance to a city called Mantiz where Kelsier fought and killed the Mistborn Antillius Shezler. From the skaa in Keep Shezler he heard rumors of the Eleventh metal. Kelsier sought and eventually found the Eleventh metal as he believed it would help him to defeat the Lord Ruler.\\n\\n Recruiting his Crew \\n\\nAfter discovering the Eleventh Metal Kelsier started to prepare his plan by hiring the Kandra OreSeur. Then he killed the noble Lord Renoux and let OreSeur impersonate him. He met with Yeden the leader of the skaa rebellion and made Yeden hire him to bring down the Final Empire. On Kelsier\\'s way back to Luthadel, he made a stop at the farm of Lord Themos Tresting to talk with the farm skaa. When Lord Tresting attempted to rape a skaa girl, Kelsier saved her, killing Tresting and all his servants and soldiers in the process. He burned down the manor and purposely departed in a way that forced the skaa to join the rebellion. When he arrived in Luthadel, he first reunited with his old partner and best friend Dockson.\\n\\nDockson told Kelsier about a young Allomancer girl Marsh had discovered whom he suspected was a Mistborn. Kelsier and Dockson went to see her first hand; they watched Vin Soothe an obligator during Camon\\'s scheme, confirming that she was at least a Soother. After Camon and Vin left, Kelsier realized that the ministry had already discovered that Camon was a thief and only played along to find the crew\\'s hideout. A Steel Inquisitor had been present, discovering Vin\\'s Allomancy. The Inquisitor and some soliders followed Camon to find his hideout to wipe out his crew, but Kelsier lured the Inquisitor away by using his own Allomancy while Dockson took out the soldiers. They went to the hideout themselves just in time to save Vin from Camon. Kelsier knocked out Camon with Steelpushes and gave control over the crew to Milev. He forced the rest of the crew to leave, only leaving Vin. Kelsier\\'s suspicions that Vin was a Mistborn were confirmed when he saw that she was able to burn zinc. Kelsier offered to let her to join his crew. Vin didn\\'t trust him but agreed in order to learn how to use Allomancy. Later, Kelsier invited a team of the best thieves in the city to a gathering in Camon\\'s safe house. He introduced them and Vin to Yeden and explained his plan to destroy the Final Empire and kill the Lord Ruler. Breeze, Ham, Clubs, and Clubs\\' nephew Spook joined his crew. While initially hostile, in the end Kelsier\\'s brother Marsh joined, and together the crew developed a plan to defeat the Final Empire.\\n\\nThe plan was to secretly build up an army of twenty thousand trained skaa soldiers in the Arguois caverns while at the same time causing confusion and distrust in the nobility to cause a house war. Once their army was trained and the houses grew unstable enough, they would send a part of their army to attack the Pits of Hathsin, forcing the garrison of Luthadel to go and defend the Pits. With the garrison gone and the nobility weakened by the war, the rest of the army then could take over Luthadel. Then Yeden would gain control of the city and the crew would receive the Lord Ruler\\'s atium stash as payment. Breeze would recruit men for the rebellion, Ham would train them in the Arguois caverns, Dockson would direct the operation\\'s finances, Clubs would hide the group\\'s Allomancy with copperclouds, OreSeur in the role of Lord Renoux would buy the necessary equipment, Marsh would infiltrate the Steel Ministry posing as an obligator, Kelsier would use his Mistborn power to make attacks on the nobility to create tension between the houses, and Vin would gather information in the noble court posing as Renoux\\'s niece Valette. Kelsier also wanted to try kill the Lord Ruler with the Eleventh Metal as a \"voluntary bonus\".\\n\\n The Skaa Rebellion  \\nTo put the plan in motion, Kelsier first targeted Keep Venture, as House Venture was currently the most powerful house in Luthadel and an attack on it would have the greatest impact. Kelsier killed eight Hazekillers, stole a bag of atium, and made sure that it became known that a Mistborn had attacked a Great House, something forbidden by an unspoken agreement between the houses. He gifted Vin a mistcloak and started to teach her Allomancy. Vin expected that Kelsier would use his knowledge to control her, but to her surprise, he openly explained her the eight basic metals. Kelsier let Vin jump over the city walls as an exercise for steel and iron and was surprised how voluntarily she did it, remembering his own training. Outside the city, they saw a Mistwraith. Back at the city gates Kelsier introduced Vin to Sazed. Realizing Vin didn\\'t trust him, he told her that in his crew they trust each other. He offered to teach her about gold and atium, gave her the money he took from Camon, and allowed her to leave, as he didn\\'t want to force anybody into his crew. Vin decided to stay in order to see if he told the truth about trusting others.\\n\\nIn the following months, Kelsier himself took on many roles to further the plan, acting as a beacon to the repressed skaa, assisting in recruitment, attacking many noblemen to increase the tensions between the Great Houses,, collecting information by purchasing it from informants, and even posing as an informant in order to provide misinformation to noblemen. He continued training Vin and was surprised by her quick progress. Though they suffered many setbacks, Kelsier\\'s leadership allowed the rebellion to attain an army of sufficient size to hold Luthadel.\\n\\n Death \\n\\nWhen several skaa from the rebellion were about to be executed, Kelsier attempts to save them. He is confronted by a Steel Inquisitor, which he eventually manages to defeat by beheading him with the Inquisitor\\'s own obsidian axe. However, Kelsier is then confronted by the Lord Ruler, who backhands him across the face and then stabs him in the chest with a spear, killing him. Kelsier later reveals in his letter to Vin that he had intended to use the Eleventh Metal to destroy the Lord Ruler but could not discover how to use it in his fight. After his death, OreSeur takes his bones and appears before several groups of skaa, making them believe that Kelsier survived somehow. This results in the skaa considering him a god, leading to the founding of the Church of the Survivor, which refers to Kelsier as  \"Lord of the Mists\". Vin also became a major religious figure in the wake of his death, as the Survivorists consider her Kelsier\\'s heir. TenSoon learned the location of his bones from OreSeur, and used them to convince the people of Luthadel to hide in the caverns after King Penrod was corrupted by Ruin.\\n\\n Time in the Cognitive Realm \\n\\nImmediately after his death, Kelsier arrived in the Cognitive Realm and met Preservation. He then asked Preservation if they are God, and after being told yes he promptly punched Preservation in the face. Then he found the power at the Well of Ascension and became trapped there with Ruin, though merging with the power of the Well allowed him to become a Cognitive Shadow and resist the pull of the Beyond. While he was in the Well, Hoid passed by and Kelsier essentially challenges him to a fight that Kelsier ultimately loses. He feels Ruin\\'s presence during his time in the Well.\\n\\nOnce he is freed from the Well along with Ruin, he initially travels around through the Cognitive version of Luthadel, seeking out his friends. He finds Vin and Ham near the steps of Keep Venture and also learned that Dockson had died in the Battle of Luthadel. He walks past Luthadel towards the lake of the same name, near which he finds Khriss and Nazh. They question him on Preservation\\'s appearance after learning he has spoken directly with the Shard, and then continue their discussion onto other topics. Khriss mentions the Ire which sets Kelsier onto his next quest of finding their base of operation.\\n\\nDuring his journey to find the Ire, he runs into Ruin and has a discussion about Ruin\\'s intent. After that, he left the area of the Cognitive Realm surrounding Scadrial and moved closer to finding the Ire. When he reaches their base, he moved past their guards and passed the wall into their chambers. He ultimately only took a glass orb from them after thwarting their plan to take over become the Vessel of Preservation after Leras\\' death.\\n\\nWhen he returned to Scadrial he found that Preservation\\'s power was significantly weakened. He also ran into Vin and was shocked to see how far she had come in the time he was away. He stayed with her for a while after that but ultimately had to leave.\\n\\nWhen Leras died and Ruin began to Splinter the Shard of Preservation, Kelsier used the Ire\\'s orb to Connect with Preservation and Ascend, allowing him to protect the power and hold it until Vin could take it. Despite Preservation not usually being able to speak into the minds of other, due to some combination of Spook being near death, having a broken soul, and believing Kelsier was a god, he was able to talk to Spook. He used this opportunity to tell Spook to send a message to Vin, warning her that any spiked person could potentially be under Ruin\\'s control. Secretly, however, he knew that Ruin would send Marsh to intercept the message, and was hoping that reading the message would give Marsh the information he needed to remove Vin\\'s earring, which was also a Hemalurgic spike that was keeping her from taking up Preservation\\'s power. When Marsh caught Vin in Luthadel, he attacked Ruin with Preservation\\'s power, weakening Ruin\\'s control over Marsh just enough for Marsh to rip out Vin\\'s earring. With the spike removed, Kelsier encouraged her to take up the power, relinquishing it so that she can do so. After she and Elend are killed, Kelsier spoke with them before they moved on to the Beyond.\\n\\nAfter Sazed\\'s Ascension and Spook\\'s rise to political power, Kelsier began to speak with Spook about finding a way to bring himself back to the Physical Realm. As a Cognitive Shadow tied to Scadrial, it is difficult for him to travel to other planets via Shadesmar. He does not yet know the secret to overcome this limitation. His bones survived the Ascension of Harmony, and may have helped him regain physical form.\\n\\n Continued Worship Post-Catacendre \\nMany years after the Catacendre, the cult which started after Kelsier\\'s deception with OreSeur directly following his death has become a fully-formed religion. The Church of the Survivor, or Survivorism, is possibly the most organized of Scadrial\\'s religions in this period, as well as being the clear favorite among the social elite and downtrodden alike. \\n\\nSteris and Marasi are both members of this religion, though Marasi admits that it is more because she was raised in it.  Its central tenet is simply to survive, by any means, until you cannot survive any longer.  Priests in this religion wear robes with stitching up the arms to emulate Kelsier\\'s scars from the Pits of Hathsin.\\n\\nThe \"Survivor\\'s Statemark\" is one of the symbols of the faith. When Bleeder killed Father Bin by nailing him to a wall, it is described as a parody of the Survivor\\'s Statemark, implying that the Statemark depicts the way Kelsier died, impaled by a spear.\\n\\nAside from the Survivorists, there was also a whole civilization of people that worshiped Kelsier far to the south of Elendel, calling him the Sovereign. Kelsier had traveled there several years after the Catacendre, inhabiting a physical body that was spiked in the right eye, and found the Southern Scadrians slowly dying of an unexplained coldness. He helped the people there survive using his knowledge of the Metallic Arts, showing them how to make unsealed metalminds to store attributes like heat in a way that could be shared with anyone. As the Sovereign, Kelsier ruled the Southern Scadrians for a time and formed another religion that deified Metalborn, and then he left.\\n\\nBefore leaving them, he created the Bands of Mourning, a collection of unsealed metalminds forged together and containing all kinds of attributes in extremely large quantities. He hid the artifact away somewhere in the north and then disappeared.\\n\\n Cosmere-wide Activity \\nKelsier is known as Thaidakar to the Ghostbloods, a secret society that operates on several planets, including Roshar. Kelsier is the leader and presumed founder of the organization, which Mraize calls \"the most powerful organization in all the cosmere.\" He is referred to by Hoid as \"the Lord of Scars.\" Kelsier is Iyatil\\'s master. While he is incapable of leaving Scadrial in person, he uses an \"avatar\" to visit the Ghostbloods on Roshar. He appears to be using the Ghostbloods to find a way for him to leave Scadrial and is very interested in learning from the Heralds, particularly Kalak, as they are subject to a similar restriction. When assassinated by Szeth, Gavilar suspects Thaidakar of ordering his death. He has also worked together with Khriss. The Ghostbloods believe Kelsier to still have his Allomantic abilities, and he appears to be playing into this lie.\\n\\n Kelsier and Wax \\nWaxillium Ladrian was a direct descendant of a close associate of Kelsier, Edgard Ladrian. As a Pathian, Wax did not worship Kelsier, but his life has nonetheless been drastically affected by the Survivor.\\n\\nMarsh decided to give Wax a book explaining Hemalurgy because he believed Wax was doing Kelsier\\'s work. This book proved vital in solving the case of Bleeder. While conversing with Harmony regarding the case, Harmony said that Wax\\'s casual way of talking to him reminded him of Kelsier. Harmony also made vague allusions to the Southern Scadrians that Kelsier once ruled as the Sovereign.\\n\\nLater on, a group of Southern Scadrians traveled north in search of the Sovereign\\'s Bands of Mourning, but were captured by the Set, who decided to seek the Bands as well. Wax and his friends became embroiled in this incident in opposition to the Set, and Wax was almost killed in an encounter with them. After Marasi solved the riddle of the Bands and wielded it to escape the Set, she gave it to Wax, who wielded it and became incredibly powerful. Wax then used the artifact to defeat the Set and save the Southern Scadrian prisoners, using up a lot of the Investiture stored in the Bands. \\n\\nSoon afterwards, Wax accessed a coppermind contained in a coin-like Southern Scadrian medallion that Hoid had given him and saw a vision of what appeared to be Kelsier\\'s memory of discovering the Southern Scadrians hundreds of years prior. The vision, seen from Kelsier\\'s point of view, showed that his spiked right eye viewed the world through Allomantic lines, similar to Steel Inquisitors, while his left eye saw things normally.\\n\\n<div data-nosnippet>\\n\\n Resistance against Trell \\nAt some point, Kelsier had the Ghostbloods on Scadrial work in order to resist the oncoming threat of Trell. He worked out of a safehouse in Bilming, alongside Moonlight, TwinSoul, Kaise, and Dao. He was hours away near Southern Scadrian when Telsin planned to send a bomb on Elendel, and tasked Moonlight, TwinSoul, and Marasi to take care of it. He also had Codenames send messages to Steris and the Ghostblood agents in the Elendel Basin, telling them to prepare for an evacuation of Elendel.\\n\\nAfter Elendel was saved, Kelsier talked with Harmony, asking him to lead Scadrial into a new technological and Metalborn age so they may be better prepared for future threats and Autonomy\\'s return.')])"
      ]
     },
     "execution_count": 11,
     "metadata": {},
     "output_type": "execute_result"
    }
   ],
   "source": [
    "query = \"What happened to the Shard or Shards that were on the world where Kelsier died after the catacondre\"\n",
    "pipe.perform_rag(query)"
   ]
  },
  {
   "cell_type": "code",
   "execution_count": 12,
   "metadata": {},
   "outputs": [
    {
     "name": "stdout",
     "output_type": "stream",
     "text": [
      "\n",
      "The provided context does not contain information about who made the Bands of Mourning. \n",
      "\n",
      "The context primarily focuses on Hoid, his history, and his relationships within the Cosmere. It does not mention anything about the creation of the Bands of Mourning. \n",
      "\n",
      "To find information about who made the Bands of Mourning, you would need to refer to the relevant books or other sources within the Cosmere, such as the Mistborn series.\n",
      "\n",
      "Sources:\n",
      "1 - Hoid -  Trivia \n",
      " The character of Hoid existed before the concept of Adonalsium was developed. He first appeared in a short story Brandon wrote long ago, going by the name Kamp. He was on a planet trying to figure out how the magical system of the area worked.\n",
      " Brandon has stated that Hoid is one of his favorite characters, alongside Dalinar, by the virtue of being one of the oldest.\n",
      " Brandon may eventually write a parallel novel to the Mistborn series that chronicles what Hoid was up to behind the scenes.\n",
      " In 2018, Brandon did a reading of an uncanonical scene he had written several years prior, called \"The Traveler.\" In it, two men, likely Hoid and Frost, have a conversation shortly after the deaths of Leras and Ati. A recording and a transcription of the reading can be found here.\n",
      " Hoid, under the name Topaz, was Brandon's first Dungeons & Dragons character.\n",
      " Brandon does not believe he would aid Hoid's cause if he were in the cosmere.\n",
      "\n",
      " Hoid fears the Beyond.\n",
      " He has a good opinion of Khriss, and they have met at least once.\n",
      " Hoid has spoken with the Nightwatcher.\n",
      " For several books, Hoid's best friend was somebody named Bat'Chor. This may no longer be the case as of Mistborn Era 2.\n",
      " Hoid has had a romantic interest in the past. In fact, there were several.\n",
      " He is the happiest when \"getting away with something\". When asked in what published book that was, Brandon responded with The Bands of Mourning.\n",
      " Hoid's quest may be \"To make that which once was.\"\n",
      " Hoid is unimpressed with the Ghostbloods.\n",
      " Hoid loathes the Set, and the members who know of him loathe him in return.\n",
      " Though he once (extremely accurately) said to Kaladin that he began life as words on a page, this was not in fact a break of the fourth wall.\n",
      "\n",
      " He has dressed in drag before, \"multiple times.\"\n",
      " Prior to the events of Words of Radiance, Hoid had not been hugged in \"a long time.\"\n",
      " His favorite type of spren is a Cryptic.\n",
      " Hoid does not pay taxes.\n",
      " Hoid's favorite color is black.\n",
      " Hoid loves bacon.\n",
      " Hoid likes milkshakes.\n",
      " Hoid is interested in having a nose that can't smell cheese.\n",
      " Hoid is a fan of ramen. and co-owned a restaurant called the Noodle Pupil on Komashi with Design before Design gave it away to Yumi and Nikaro.\n",
      "2 - Hoid -  The Desolations \n",
      "At some point after the Shattering, Hoid visited Roshar and mingled with the original inhabitants of the world, even dancing with the ancient singers. He grew to be close with one singer known as Vatwha.\n",
      "\n",
      "He knew the Heralds, and they recognize him by the name Midius. He was the one that taught them how they could use Investiture to enhance their memories. Whether he knew them before or after the Oathpact, or the exact nature of their relationship, is unclear.\n",
      "\n",
      "Hoid came to be worshipped by the Unkalaki as Lunu'anaki, the god of travel and mischief who cannot hurt man. \n",
      "\n",
      "Hoid founded the Worldsingers, and has the rank of Master Worldsinger, and at some point in the early Sixth Epoch, he took Senne Khald as his apprentice, and assigned her with the task of writing a treatise on all the Radiant Orders.\n",
      "\n",
      "He has been to Aimia at some point.\n",
      "\n",
      "Hoid attempted to bond a Nahel spren at some point before the Recreance, possibly during a Desolation, but presumably failed.\n",
      "3 - Hoid -  Worldsingers & Worldbringers \n",
      "The names of the Worldsingers, a group of storytellers on Roshar, and the Conclave of Worldbringers, the leading body of the original Terris religion, are strikingly similar. Brandon has stated that this is not a coincidence. Some believe that Hoid is a common root to both of these organizations, one of which, the Worldbringers, was very Realmatically aware. In addition to this he is known to be a founder of the Worldsingers and a member of the Worldbringers.\n"
     ]
    },
    {
     "data": {
      "text/plain": [
       "('The provided context does not contain information about who made the Bands of Mourning. \\n\\nThe context primarily focuses on Hoid, his history, and his relationships within the Cosmere. It does not mention anything about the creation of the Bands of Mourning. \\n\\nTo find information about who made the Bands of Mourning, you would need to refer to the relevant books or other sources within the Cosmere, such as the Mistborn series.',\n",
       " [Document(metadata={'heading': 'Trivia', 'order': 52, 'parent_article': 'Hoid', 'keywords': '', 'relevance_score': 0.9947664}, page_content='Hoid -  Trivia \\n The character of Hoid existed before the concept of Adonalsium was developed. He first appeared in a short story Brandon wrote long ago, going by the name Kamp. He was on a planet trying to figure out how the magical system of the area worked.\\n Brandon has stated that Hoid is one of his favorite characters, alongside Dalinar, by the virtue of being one of the oldest.\\n Brandon may eventually write a parallel novel to the Mistborn series that chronicles what Hoid was up to behind the scenes.\\n In 2018, Brandon did a reading of an uncanonical scene he had written several years prior, called \"The Traveler.\" In it, two men, likely Hoid and Frost, have a conversation shortly after the deaths of Leras and Ati. A recording and a transcription of the reading can be found here.\\n Hoid, under the name Topaz, was Brandon\\'s first Dungeons & Dragons character.\\n Brandon does not believe he would aid Hoid\\'s cause if he were in the cosmere.\\n\\n Hoid fears the Beyond.\\n He has a good opinion of Khriss, and they have met at least once.\\n Hoid has spoken with the Nightwatcher.\\n For several books, Hoid\\'s best friend was somebody named Bat\\'Chor. This may no longer be the case as of Mistborn Era 2.\\n Hoid has had a romantic interest in the past. In fact, there were several.\\n He is the happiest when \"getting away with something\". When asked in what published book that was, Brandon responded with The Bands of Mourning.\\n Hoid\\'s quest may be \"To make that which once was.\"\\n Hoid is unimpressed with the Ghostbloods.\\n Hoid loathes the Set, and the members who know of him loathe him in return.\\n Though he once (extremely accurately) said to Kaladin that he began life as words on a page, this was not in fact a break of the fourth wall.\\n\\n He has dressed in drag before, \"multiple times.\"\\n Prior to the events of Words of Radiance, Hoid had not been hugged in \"a long time.\"\\n His favorite type of spren is a Cryptic.\\n Hoid does not pay taxes.\\n Hoid\\'s favorite color is black.\\n Hoid loves bacon.\\n Hoid likes milkshakes.\\n Hoid is interested in having a nose that can\\'t smell cheese.\\n Hoid is a fan of ramen. and co-owned a restaurant called the Noodle Pupil on Komashi with Design before Design gave it away to Yumi and Nikaro.'),\n",
       "  Document(metadata={'heading': 'The Desolations', 'order': 23, 'parent_article': 'Hoid', 'keywords': '', 'relevance_score': 0.005590834}, page_content=\"Hoid -  The Desolations \\nAt some point after the Shattering, Hoid visited Roshar and mingled with the original inhabitants of the world, even dancing with the ancient singers. He grew to be close with one singer known as Vatwha.\\n\\nHe knew the Heralds, and they recognize him by the name Midius. He was the one that taught them how they could use Investiture to enhance their memories. Whether he knew them before or after the Oathpact, or the exact nature of their relationship, is unclear.\\n\\nHoid came to be worshipped by the Unkalaki as Lunu'anaki, the god of travel and mischief who cannot hurt man. \\n\\nHoid founded the Worldsingers, and has the rank of Master Worldsinger, and at some point in the early Sixth Epoch, he took Senne Khald as his apprentice, and assigned her with the task of writing a treatise on all the Radiant Orders.\\n\\nHe has been to Aimia at some point.\\n\\nHoid attempted to bond a Nahel spren at some point before the Recreance, possibly during a Desolation, but presumably failed.\"),\n",
       "  Document(metadata={'heading': 'Worldsingers & Worldbringers', 'order': 50, 'parent_article': 'Hoid', 'keywords': '', 'relevance_score': 0.0035657412}, page_content='Hoid -  Worldsingers & Worldbringers \\nThe names of the Worldsingers, a group of storytellers on Roshar, and the Conclave of Worldbringers, the leading body of the original Terris religion, are strikingly similar. Brandon has stated that this is not a coincidence. Some believe that Hoid is a common root to both of these organizations, one of which, the Worldbringers, was very Realmatically aware. In addition to this he is known to be a founder of the Worldsingers and a member of the Worldbringers.')])"
      ]
     },
     "execution_count": 12,
     "metadata": {},
     "output_type": "execute_result"
    }
   ],
   "source": [
    "query = \"WWho made the Bands of Mourning?\"\n",
    "pipe.perform_rag(query)"
   ]
  },
  {
   "cell_type": "code",
   "execution_count": null,
   "metadata": {},
   "outputs": [],
   "source": [
    "    "
   ]
  }
 ],
 "metadata": {
  "kernelspec": {
   "display_name": "Python 3",
   "language": "python",
   "name": "python3"
  },
  "language_info": {
   "codemirror_mode": {
    "name": "ipython",
    "version": 3
   },
   "file_extension": ".py",
   "mimetype": "text/x-python",
   "name": "python",
   "nbconvert_exporter": "python",
   "pygments_lexer": "ipython3",
   "version": "3.12.1"
  }
 },
 "nbformat": 4,
 "nbformat_minor": 2
}
