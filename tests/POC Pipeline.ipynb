{
 "cells": [
  {
   "cell_type": "code",
   "execution_count": 1,
   "metadata": {},
   "outputs": [
    {
     "name": "stderr",
     "output_type": "stream",
     "text": [
      "<frozen importlib._bootstrap>:488: DeprecationWarning: Type google._upb._message.MessageMapContainer uses PyType_Spec with a metaclass that has custom tp_new. This is deprecated and will no longer be allowed in Python 3.14.\n",
      "<frozen importlib._bootstrap>:488: DeprecationWarning: Type google._upb._message.ScalarMapContainer uses PyType_Spec with a metaclass that has custom tp_new. This is deprecated and will no longer be allowed in Python 3.14.\n",
      "c:\\Python312\\Lib\\site-packages\\tqdm\\auto.py:21: TqdmWarning: IProgress not found. Please update jupyter and ipywidgets. See https://ipywidgets.readthedocs.io/en/stable/user_install.html\n",
      "  from .autonotebook import tqdm as notebook_tqdm\n"
     ]
    }
   ],
   "source": [
    "from sys import path\n",
    "path.append(r'C:\\Users\\Izogie\\Desktop\\Folders\\Projects\\Python\\KB Chat\\src')\n",
    "from modules.SourceManager import SourceManager\n",
    "from modules.VectorDBManager import VectorDBManager\n",
    "from Pipeline import RAGPipeline"
   ]
  },
  {
   "cell_type": "markdown",
   "metadata": {},
   "source": [
    "# Testing VectorDBManager"
   ]
  },
  {
   "cell_type": "code",
   "execution_count": 2,
   "metadata": {},
   "outputs": [],
   "source": [
    "data_manager = SourceManager()"
   ]
  },
  {
   "cell_type": "code",
   "execution_count": 3,
   "metadata": {},
   "outputs": [],
   "source": [
    "page_titles = [\n",
    "    \"Kaladin\",\n",
    "    \"Pits of Hathsin\",\n",
    "    \"Allomancy\",\n",
    "    \"Cosmere\",\n",
    "    \"Honor's Perpendicularity\",\n",
    "    \"Cephandrius\",\n",
    "    \"Hoid\",\n",
    "    \"Odium\",\n",
    "    \"Realmatic Theory\",\n",
    "    \"Knights Radiant\",\n",
    "    \"Kelsier\",\n",
    "    \"Stormfather\",\n",
    "    \"Cognitive Shadow\",\n",
    "    \"Dalinar Kholin\",\n",
    "    \"Surgebinder\",\n",
    "    \"Shadesmar\",\n",
    "    \"Awakening\",\n",
    "    \"Tanavast\",\n",
    "    \"Urithiru\",\n",
    "    \"Fused\"\n",
    "]\n"
   ]
  },
  {
   "cell_type": "code",
   "execution_count": 4,
   "metadata": {},
   "outputs": [],
   "source": [
    "# data = data_manager.prep_data_graph(page_titles)\n",
    "data = data_manager.load_json(\"processed_articles.jsonl\")"
   ]
  },
  {
   "cell_type": "code",
   "execution_count": 5,
   "metadata": {},
   "outputs": [
    {
     "name": "stderr",
     "output_type": "stream",
     "text": [
      "c:\\Python312\\Lib\\site-packages\\posthog\\client.py:345: DeprecationWarning: datetime.datetime.utcnow() is deprecated and scheduled for removal in a future version. Use timezone-aware objects to represent datetimes in UTC: datetime.datetime.now(datetime.UTC).\n",
      "  timestamp = datetime.utcnow().replace(tzinfo=tzutc())\n",
      "c:\\Python312\\Lib\\site-packages\\posthog\\client.py:345: DeprecationWarning: datetime.datetime.utcnow() is deprecated and scheduled for removal in a future version. Use timezone-aware objects to represent datetimes in UTC: datetime.datetime.now(datetime.UTC).\n",
      "  timestamp = datetime.utcnow().replace(tzinfo=tzutc())\n"
     ]
    }
   ],
   "source": [
    "vectorManager = VectorDBManager()"
   ]
  },
  {
   "cell_type": "code",
   "execution_count": 6,
   "metadata": {},
   "outputs": [
    {
     "name": "stderr",
     "output_type": "stream",
     "text": [
      "c:\\Python312\\Lib\\site-packages\\posthog\\request.py:40: DeprecationWarning: datetime.datetime.utcnow() is deprecated and scheduled for removal in a future version. Use timezone-aware objects to represent datetimes in UTC: datetime.datetime.now(datetime.UTC).\n",
      "  body[\"sentAt\"] = datetime.utcnow().replace(tzinfo=tzutc()).isoformat()\n",
      "c:\\Python312\\Lib\\site-packages\\posthog\\client.py:345: DeprecationWarning: datetime.datetime.utcnow() is deprecated and scheduled for removal in a future version. Use timezone-aware objects to represent datetimes in UTC: datetime.datetime.now(datetime.UTC).\n",
      "  timestamp = datetime.utcnow().replace(tzinfo=tzutc())\n"
     ]
    }
   ],
   "source": [
    "vectorManager.ingest_articles(data)"
   ]
  },
  {
   "cell_type": "code",
   "execution_count": 7,
   "metadata": {},
   "outputs": [
    {
     "name": "stderr",
     "output_type": "stream",
     "text": [
      "c:\\Python312\\Lib\\site-packages\\posthog\\request.py:40: DeprecationWarning: datetime.datetime.utcnow() is deprecated and scheduled for removal in a future version. Use timezone-aware objects to represent datetimes in UTC: datetime.datetime.now(datetime.UTC).\n",
      "  body[\"sentAt\"] = datetime.utcnow().replace(tzinfo=tzutc()).isoformat()\n",
      "c:\\Python312\\Lib\\site-packages\\posthog\\client.py:345: DeprecationWarning: datetime.datetime.utcnow() is deprecated and scheduled for removal in a future version. Use timezone-aware objects to represent datetimes in UTC: datetime.datetime.now(datetime.UTC).\n",
      "  timestamp = datetime.utcnow().replace(tzinfo=tzutc())\n"
     ]
    }
   ],
   "source": [
    "# from langchain.chains.query_constructor.base import AttributeInfo\n",
    "from langchain_google_genai import ChatGoogleGenerativeAI\n",
    "from langchain.retrievers.self_query.base import SelfQueryRetriever\n",
    "from langchain.retrievers.self_query.chroma import ChromaTranslator\n",
    "\n",
    "vectorManager._init_langchaindb()\n",
    "vectorManager._init_metadata_field_info()\n",
    "llm = ChatGoogleGenerativeAI(\n",
    "    model=\"gemini-1.5-pro\"\n",
    ")\n",
    "retriever = SelfQueryRetriever.from_llm(\n",
    "    llm,\n",
    "    vectorstore=vectorManager.langdb,\n",
    "    document_contents=vectorManager.doc_content_description,\n",
    "    metadata_field_info=vectorManager.metadata_field_info,\n",
    "    structured_query_translator=ChromaTranslator()\n",
    ")"
   ]
  },
  {
   "cell_type": "code",
   "execution_count": 8,
   "metadata": {},
   "outputs": [
    {
     "name": "stderr",
     "output_type": "stream",
     "text": [
      "c:\\Python312\\Lib\\site-packages\\posthog\\request.py:40: DeprecationWarning: datetime.datetime.utcnow() is deprecated and scheduled for removal in a future version. Use timezone-aware objects to represent datetimes in UTC: datetime.datetime.now(datetime.UTC).\n",
      "  body[\"sentAt\"] = datetime.utcnow().replace(tzinfo=tzutc()).isoformat()\n"
     ]
    }
   ],
   "source": [
    "from langchain.retrievers import ContextualCompressionRetriever\n",
    "from langchain.retrievers.document_compressors import FlashrankRerank\n",
    "compressor = FlashrankRerank()\n",
    "rerank_retriever = ContextualCompressionRetriever(base_compressor=compressor, base_retriever=retriever)"
   ]
  },
  {
   "cell_type": "code",
   "execution_count": 9,
   "metadata": {},
   "outputs": [],
   "source": [
    "from langchain_google_genai import GoogleGenerativeAI\n",
    "from google.generativeai import configure\n",
    "from os import environ\n",
    "configure(api_key=environ[\"GOOGLE_API_KEY\"])\n",
    "gemini = GoogleGenerativeAI(model=\"gemini-1.5-flash\")"
   ]
  },
  {
   "cell_type": "code",
   "execution_count": 21,
   "metadata": {},
   "outputs": [],
   "source": [
    "query = \"What is the difference between the fused and the singers?\""
   ]
  },
  {
   "cell_type": "code",
   "execution_count": 22,
   "metadata": {},
   "outputs": [
    {
     "name": "stderr",
     "output_type": "stream",
     "text": [
      "WARNING:langchain_google_genai.chat_models:Retrying langchain_google_genai.chat_models._chat_with_retry.<locals>._chat_with_retry in 2.0 seconds as it raised InternalServerError: 500 An internal error has occurred. Please retry or report in https://developers.generativeai.google/guide/troubleshooting.\n",
      "INFO:httpx:HTTP Request: POST https://api.openai.com/v1/embeddings \"HTTP/1.1 200 OK\"\n"
     ]
    },
    {
     "name": "stdout",
     "output_type": "stream",
     "text": [
      "[Document(metadata={'id': 2, 'relevance_score': 0.99887574}, page_content='The Fused are the souls of ancient singers that are able to be reborn by possessing the bodies of living singers. They are considered to be higher in singer society than Regals and common singers. They are Surgebinders; however, unlike the Knights Radiant, there are only nine \"brands\" of them, rather than ten, and each brand has access to a single Surge, with none accessing Adhesion.'), Document(metadata={'id': 3, 'relevance_score': 0.99887574}, page_content='The Fused are the souls of ancient singers that are able to be reborn by possessing the bodies of living singers. They are considered to be higher in singer society than Regals and common singers. They are Surgebinders; however, unlike the Knights Radiant, there are only nine \"brands\" of them, rather than ten, and each brand has access to a single Surge, with none accessing Adhesion.'), Document(metadata={'id': 0, 'relevance_score': 0.99875003}, page_content='The Fused have an extremely complex political and social hierarchy even though their actions are generally governed by Odium. Generally, they have hatred and contempt for humans and place common singers above them in status. Among common singers, those chosen to be elevated are granted forms of power and become Regals. The Fused tend to defer to thunderclasts and Unmade. However, even within the singers there are delineations of status and authority. There are nine brands of Fused with different powers and specialties. Other factors such as reputation, history, and capacity also matter a great deal, and how well individual Fused have retained their sanity. Many of the important Fused have a Voice, an envoyform singer who represents their Fused and helps manage their affairs; Voices are generally accorded respect beyond that given to ordinary Regals, especially if the Fused they serve is particularly important.')]\n"
     ]
    }
   ],
   "source": [
    "gemini_docs = rerank_retriever.invoke(query)\n",
    "print(gemini_docs)"
   ]
  },
  {
   "cell_type": "code",
   "execution_count": 23,
   "metadata": {},
   "outputs": [],
   "source": [
    "\n",
    "prompt = f\"\"\"\n",
    "Use the below context to assist in answering this question: {query}\n",
    "\n",
    "context\n",
    "```\n",
    "{gemini_docs}\n",
    "```\n",
    "\"\"\"\n",
    "gem_response = gemini.invoke(prompt)"
   ]
  },
  {
   "cell_type": "code",
   "execution_count": 24,
   "metadata": {},
   "outputs": [
    {
     "name": "stdout",
     "output_type": "stream",
     "text": [
      "The provided context describes two types of singers: **Fused** and **common singers**. Here's the breakdown of their differences:\n",
      "\n",
      "* **Fused:**\n",
      "    * **Origin:** Souls of ancient singers reborn by possessing the bodies of living singers.\n",
      "    * **Status:** Higher in singer society than Regals and common singers.\n",
      "    * **Powers:** Surgebinders with access to nine \"brands,\" each wielding a single Surge (no Adhesion).\n",
      "    * **Hierarchy:** Have a complex political and social hierarchy within their ranks, with different brands, reputations, and levels of sanity impacting their standing.\n",
      "    * **Attitude towards humans:** Generally harbor hatred and contempt for humans.\n",
      "\n",
      "* **Common singers:**\n",
      "    * **Origin:** Ordinary singers who are not Fused.\n",
      "    * **Status:** Lower than Fused and Regals in singer society.\n",
      "    * **Powers:** Some common singers are chosen to be elevated and become Regals, granting them forms of power.\n",
      "    * **Hierarchy:**  The context mentions a hierarchy among common singers, with Regals holding a higher status than ordinary common singers.\n",
      "\n",
      "**In essence, the primary difference between Fused and common singers is their origin, powers, and status within singer society. Fused are reborn ancient singers with unique abilities and a higher standing, while common singers are ordinary individuals with varying degrees of power and influence.** \n",
      "\n"
     ]
    }
   ],
   "source": [
    "print(gem_response)"
   ]
  },
  {
   "cell_type": "markdown",
   "metadata": {},
   "source": [
    "# RAG Pipeline v1 class test"
   ]
  },
  {
   "cell_type": "code",
   "execution_count": 2,
   "metadata": {},
   "outputs": [
    {
     "name": "stderr",
     "output_type": "stream",
     "text": [
      "c:\\Python312\\Lib\\site-packages\\posthog\\client.py:345: DeprecationWarning: datetime.datetime.utcnow() is deprecated and scheduled for removal in a future version. Use timezone-aware objects to represent datetimes in UTC: datetime.datetime.now(datetime.UTC).\n",
      "  timestamp = datetime.utcnow().replace(tzinfo=tzutc())\n",
      "c:\\Python312\\Lib\\site-packages\\posthog\\client.py:345: DeprecationWarning: datetime.datetime.utcnow() is deprecated and scheduled for removal in a future version. Use timezone-aware objects to represent datetimes in UTC: datetime.datetime.now(datetime.UTC).\n",
      "  timestamp = datetime.utcnow().replace(tzinfo=tzutc())\n"
     ]
    }
   ],
   "source": [
    "pipe = RAGPipeline()"
   ]
  },
  {
   "cell_type": "code",
   "execution_count": 3,
   "metadata": {},
   "outputs": [
    {
     "name": "stderr",
     "output_type": "stream",
     "text": [
      "c:\\Python312\\Lib\\site-packages\\posthog\\request.py:40: DeprecationWarning: datetime.datetime.utcnow() is deprecated and scheduled for removal in a future version. Use timezone-aware objects to represent datetimes in UTC: datetime.datetime.now(datetime.UTC).\n",
      "  body[\"sentAt\"] = datetime.utcnow().replace(tzinfo=tzutc()).isoformat()\n",
      "c:\\Python312\\Lib\\site-packages\\posthog\\client.py:345: DeprecationWarning: datetime.datetime.utcnow() is deprecated and scheduled for removal in a future version. Use timezone-aware objects to represent datetimes in UTC: datetime.datetime.now(datetime.UTC).\n",
      "  timestamp = datetime.utcnow().replace(tzinfo=tzutc())\n"
     ]
    }
   ],
   "source": [
    "# pipe.load_processed_pages()\n",
    "pipe.init_retriever()\n",
    "pipe.init_compressor()"
   ]
  },
  {
   "cell_type": "code",
   "execution_count": 4,
   "metadata": {},
   "outputs": [],
   "source": [
    "query = \"What is the difference between the fused and the singers?\""
   ]
  },
  {
   "cell_type": "code",
   "execution_count": 5,
   "metadata": {},
   "outputs": [
    {
     "name": "stderr",
     "output_type": "stream",
     "text": [
      "c:\\Python312\\Lib\\site-packages\\posthog\\request.py:40: DeprecationWarning: datetime.datetime.utcnow() is deprecated and scheduled for removal in a future version. Use timezone-aware objects to represent datetimes in UTC: datetime.datetime.now(datetime.UTC).\n",
      "  body[\"sentAt\"] = datetime.utcnow().replace(tzinfo=tzutc()).isoformat()\n",
      "INFO:httpx:HTTP Request: POST https://api.openai.com/v1/embeddings \"HTTP/1.1 200 OK\"\n",
      "c:\\Python312\\Lib\\site-packages\\posthog\\client.py:345: DeprecationWarning: datetime.datetime.utcnow() is deprecated and scheduled for removal in a future version. Use timezone-aware objects to represent datetimes in UTC: datetime.datetime.now(datetime.UTC).\n",
      "  timestamp = datetime.utcnow().replace(tzinfo=tzutc())\n",
      "c:\\Python312\\Lib\\site-packages\\posthog\\request.py:40: DeprecationWarning: datetime.datetime.utcnow() is deprecated and scheduled for removal in a future version. Use timezone-aware objects to represent datetimes in UTC: datetime.datetime.now(datetime.UTC).\n",
      "  body[\"sentAt\"] = datetime.utcnow().replace(tzinfo=tzutc()).isoformat()\n"
     ]
    },
    {
     "name": "stdout",
     "output_type": "stream",
     "text": [
      "\n",
      "The main difference between the Fused and the singers is that **singers are a subset of the Fused**. \n",
      "\n",
      "Here's the breakdown:\n",
      "\n",
      "* **Fused:** This is the overarching category, encompassing beings who have been \"fused\" with shards of a powerful entity called Odium. They are generally hostile to humans and have a complex social hierarchy.\n",
      "* **Singers:** These are a specific type of Fused who possess certain abilities and are more aligned with Odium's will. They are considered higher in status than regular humans. \n",
      "* **Regals:** These are singers who have been elevated to positions of power.\n",
      "* **Voices:** These are singers who represent and manage the affairs of important Fused. They are often respected more than even Regals.\n",
      "\n",
      "The text highlights that even within the singers, there are distinctions of status and authority based on factors like their brand, reputation, history, and sanity.\n",
      "\n",
      "Sources:\n",
      "1 - The Fused have an extremely complex political and social hierarchy even though their actions are generally governed by Odium. Generally, they have hatred and contempt for humans and place common singers above them in status. Among common singers, those chosen to be elevated are granted forms of power and become Regals. The Fused tend to defer to thunderclasts and Unmade. However, even within the singers there are delineations of status and authority. There are nine brands of Fused with different powers and specialties. Other factors such as reputation, history, and capacity also matter a great deal, and how well individual Fused have retained their sanity. Many of the important Fused have a Voice, an envoyform singer who represents their Fused and helps manage their affairs; Voices are generally accorded respect beyond that given to ordinary Regals, especially if the Fused they serve is particularly important.\n",
      "2 - Fused\n",
      "3 - Fused\n"
     ]
    }
   ],
   "source": [
    "response = pipe.perform_rag(query)"
   ]
  },
  {
   "cell_type": "code",
   "execution_count": 6,
   "metadata": {},
   "outputs": [
    {
     "name": "stdout",
     "output_type": "stream",
     "text": [
      "('The main difference between the Fused and the singers is that **singers are a subset of the Fused**. \\n\\nHere\\'s the breakdown:\\n\\n* **Fused:** This is the overarching category, encompassing beings who have been \"fused\" with shards of a powerful entity called Odium. They are generally hostile to humans and have a complex social hierarchy.\\n* **Singers:** These are a specific type of Fused who possess certain abilities and are more aligned with Odium\\'s will. They are considered higher in status than regular humans. \\n* **Regals:** These are singers who have been elevated to positions of power.\\n* **Voices:** These are singers who represent and manage the affairs of important Fused. They are often respected more than even Regals.\\n\\nThe text highlights that even within the singers, there are distinctions of status and authority based on factors like their brand, reputation, history, and sanity.', [Document(metadata={'id': 3, 'relevance_score': 0.9986379}, page_content='The Fused have an extremely complex political and social hierarchy even though their actions are generally governed by Odium. Generally, they have hatred and contempt for humans and place common singers above them in status. Among common singers, those chosen to be elevated are granted forms of power and become Regals. The Fused tend to defer to thunderclasts and Unmade. However, even within the singers there are delineations of status and authority. There are nine brands of Fused with different powers and specialties. Other factors such as reputation, history, and capacity also matter a great deal, and how well individual Fused have retained their sanity. Many of the important Fused have a Voice, an envoyform singer who represents their Fused and helps manage their affairs; Voices are generally accorded respect beyond that given to ordinary Regals, especially if the Fused they serve is particularly important.'), Document(metadata={'id': 0, 'relevance_score': 0.0041871755}, page_content='Fused'), Document(metadata={'id': 1, 'relevance_score': 0.0041871755}, page_content='Fused')])\n"
     ]
    }
   ],
   "source": [
    "print(response)"
   ]
  },
  {
   "cell_type": "markdown",
   "metadata": {},
   "source": [
    "# RAG Pipeline v2 class test"
   ]
  },
  {
   "cell_type": "code",
   "execution_count": 2,
   "metadata": {},
   "outputs": [
    {
     "name": "stderr",
     "output_type": "stream",
     "text": [
      "c:\\Python312\\Lib\\site-packages\\posthog\\client.py:345: DeprecationWarning: datetime.datetime.utcnow() is deprecated and scheduled for removal in a future version. Use timezone-aware objects to represent datetimes in UTC: datetime.datetime.now(datetime.UTC).\n",
      "  timestamp = datetime.utcnow().replace(tzinfo=tzutc())\n",
      "c:\\Python312\\Lib\\site-packages\\posthog\\request.py:40: DeprecationWarning: datetime.datetime.utcnow() is deprecated and scheduled for removal in a future version. Use timezone-aware objects to represent datetimes in UTC: datetime.datetime.now(datetime.UTC).\n",
      "  body[\"sentAt\"] = datetime.utcnow().replace(tzinfo=tzutc()).isoformat()\n",
      "c:\\Python312\\Lib\\site-packages\\posthog\\client.py:345: DeprecationWarning: datetime.datetime.utcnow() is deprecated and scheduled for removal in a future version. Use timezone-aware objects to represent datetimes in UTC: datetime.datetime.now(datetime.UTC).\n",
      "  timestamp = datetime.utcnow().replace(tzinfo=tzutc())\n",
      "c:\\Python312\\Lib\\site-packages\\posthog\\client.py:345: DeprecationWarning: datetime.datetime.utcnow() is deprecated and scheduled for removal in a future version. Use timezone-aware objects to represent datetimes in UTC: datetime.datetime.now(datetime.UTC).\n",
      "  timestamp = datetime.utcnow().replace(tzinfo=tzutc())\n",
      "c:\\Python312\\Lib\\site-packages\\posthog\\request.py:40: DeprecationWarning: datetime.datetime.utcnow() is deprecated and scheduled for removal in a future version. Use timezone-aware objects to represent datetimes in UTC: datetime.datetime.now(datetime.UTC).\n",
      "  body[\"sentAt\"] = datetime.utcnow().replace(tzinfo=tzutc()).isoformat()\n",
      "c:\\Python312\\Lib\\site-packages\\huggingface_hub\\file_download.py:1150: FutureWarning: `resume_download` is deprecated and will be removed in version 1.0.0. Downloads always resume when possible. If you want to force a new download, use `force_download=True`.\n",
      "  warnings.warn(\n"
     ]
    }
   ],
   "source": [
    "pipe = RAGPipeline()"
   ]
  },
  {
   "cell_type": "code",
   "execution_count": 3,
   "metadata": {},
   "outputs": [],
   "source": [
    "pipe.retriever.load_processed()"
   ]
  },
  {
   "cell_type": "code",
   "execution_count": 5,
   "metadata": {},
   "outputs": [
    {
     "name": "stdout",
     "output_type": "stream",
     "text": [
      "\n",
      "The provided text focuses on Urithiru, a tower city in the world of Roshar, and does not mention the Alethi armies' sustenance. Therefore, the context does not provide an answer to the question of how the Alethi armies sustain themselves. \n",
      "\n",
      "To answer this question, you would need to consult other sources about the Alethi culture and military in the Cosmere, the fictional universe in which the story takes place.\n",
      "\n",
      "Sources:\n",
      "1 - Urithiru -  Culture \n",
      "\n",
      "Though massively important in the past, prior to the coming of the Everstorm Urithiru was all but unknown to Vorins who didn't study the Knights Radiant, with Shallan being unfamiliar even with its name. This could be the result of the Hierocracy working to suppress all knowledge of Radiants, similar to how they discredited Surgebinding.\n",
      "\n",
      "In contrast, Shinovar is familiar with Urithiru, at least insofar as the traditions surrounding it are concerned. According to the Shin, the stones in Urithiru are unhallowed, making them fine to walk on, as opposed to the rest of non-soil-covered Roshar. Szeth also has no problem recognizing Urithiru for what it is, and made it one of his first destinations after becoming Truthless, suggesting that the Shin - or at least their leaders - had known its location all along.\n",
      "\n",
      "Economy\n",
      "Back before the tower was abandoned, the Knights Radiant would extract payment for the use of Oathgates. Shortly before the Recreance, the tariffs began to increase to the degree that some of their contemporaries found unreasonable. After the Alethi arrive at Urithiru, Dalinar designates Sebarial as Highprince of Commerce there. As has been done before, Sebarial plans to tax passage through the Oathgates in order to provide revenue for the tower city, as it produces little else. \n",
      "\n",
      "Most trade in Urithiru takes place at the Breakaway. Though Navani had plans for a carefully regulated market, Sebarial has instituted looser controls, resulting in a chaotic marketplace with several black markets and room for illicit goods. \n",
      "\n",
      " Problems \n",
      "\n",
      "The tower city's economy suffers from three main difficulties: a lack of labor, a lack of supplies, and a lack of infrastructure.\n",
      "\n",
      "Following the healing of all parshmen during the first Everstorm, the Alethi have suffered from the loss of their menial labor class that carried over as they relocated to Urithiru. To alleviate that, darkeyes of low nahn, as well as soldiers and caravan workers, have been pressed into service doing tasks such as hauling water, to their dismay. In an effort to reduce labor tensions, Adolin encourages these men to form a water haulers' guild to bargain for wages. The lack of parshmen will no doubt result in increased consumer costs as slavery is replaced by paid labor, the wages of which are based on social rank and not very negotiable.\n",
      "\n",
      "Since Urithiru's crop growing system is non-functional, the city depends on trade to provide supplies. At first, goods flowing into Urithiru through the Oathgates are mostly salvage from the warcamps abandoned during the flight from the Everstorm, harvested by enterprising merchants backed by the highprinces. Dalinar has considered trying to resettle the war camps, but the area has been quietly claimed by those highprinces who stayed behind. Though Sebarial has forests near the camps that could be used to supply the city, harvesting the lumber isn't economical without parshmen. Emeralds for Soulcasting food are also in short supply, despite continued hunting for gemhearts on the Shattered Plains. Later, after King Taravangian joins the alliance, regular shipments begin to come from Jah Keved. Still, there is not enough trade to support the city, leading Bethab to speculate that without a deal with Azir, Urithiru may not be able to support its current population.\n",
      "\n",
      "Urithiru's non-functional mechanisms have left it with a lack of infrastructure. Waste management has been a particularly notable issue. Communal privies have been set up over former bathing rooms, but these are plagued with long lines. The plumbing of Urithiru keeps clogging, and Soulcasters are constantly working to eliminate the waste. Additionally, at this altitude, heating is a constant problem without magical enhancements.\n",
      "\n",
      "Another minor issue affecting Urithiru's early economy is the lack of Stormlight to infuse spheres. The need for Stormlight to power the Oathgates means that in the period immediately following Urithiru's discovery, when the highstorms disappeared, infused spheres were worth considerably more than face value. After the highstorms return, spheres can be re-infused by lowering them in large cages down into the storm.\n",
      "2 - Urithiru - Economy\n",
      "Back before the tower was abandoned, the Knights Radiant would extract payment for the use of Oathgates. Shortly before the Recreance, the tariffs began to increase to the degree that some of their contemporaries found unreasonable. After the Alethi arrive at Urithiru, Dalinar designates Sebarial as Highprince of Commerce there. As has been done before, Sebarial plans to tax passage through the Oathgates in order to provide revenue for the tower city, as it produces little else. \n",
      "\n",
      "Most trade in Urithiru takes place at the Breakaway. Though Navani had plans for a carefully regulated market, Sebarial has instituted looser controls, resulting in a chaotic marketplace with several black markets and room for illicit goods. \n",
      "\n",
      " Problems \n",
      "\n",
      "The tower city's economy suffers from three main difficulties: a lack of labor, a lack of supplies, and a lack of infrastructure.\n",
      "\n",
      "Following the healing of all parshmen during the first Everstorm, the Alethi have suffered from the loss of their menial labor class that carried over as they relocated to Urithiru. To alleviate that, darkeyes of low nahn, as well as soldiers and caravan workers, have been pressed into service doing tasks such as hauling water, to their dismay. In an effort to reduce labor tensions, Adolin encourages these men to form a water haulers' guild to bargain for wages. The lack of parshmen will no doubt result in increased consumer costs as slavery is replaced by paid labor, the wages of which are based on social rank and not very negotiable.\n",
      "\n",
      "Since Urithiru's crop growing system is non-functional, the city depends on trade to provide supplies. At first, goods flowing into Urithiru through the Oathgates are mostly salvage from the warcamps abandoned during the flight from the Everstorm, harvested by enterprising merchants backed by the highprinces. Dalinar has considered trying to resettle the war camps, but the area has been quietly claimed by those highprinces who stayed behind. Though Sebarial has forests near the camps that could be used to supply the city, harvesting the lumber isn't economical without parshmen. Emeralds for Soulcasting food are also in short supply, despite continued hunting for gemhearts on the Shattered Plains. Later, after King Taravangian joins the alliance, regular shipments begin to come from Jah Keved. Still, there is not enough trade to support the city, leading Bethab to speculate that without a deal with Azir, Urithiru may not be able to support its current population.\n",
      "\n",
      "Urithiru's non-functional mechanisms have left it with a lack of infrastructure. Waste management has been a particularly notable issue. Communal privies have been set up over former bathing rooms, but these are plagued with long lines. The plumbing of Urithiru keeps clogging, and Soulcasters are constantly working to eliminate the waste. Additionally, at this altitude, heating is a constant problem without magical enhancements.\n",
      "\n",
      "Another minor issue affecting Urithiru's early economy is the lack of Stormlight to infuse spheres. The need for Stormlight to power the Oathgates means that in the period immediately following Urithiru's discovery, when the highstorms disappeared, infused spheres were worth considerably more than face value. After the highstorms return, spheres can be re-infused by lowering them in large cages down into the storm.\n",
      "3 - Kelsier -  Recruiting his Crew \n",
      "\n",
      "After discovering the Eleventh Metal Kelsier started to prepare his plan by hiring the Kandra OreSeur. Then he killed the noble Lord Renoux and let OreSeur impersonate him. He met with Yeden the leader of the skaa rebellion and made Yeden hire him to bring down the Final Empire. On Kelsier's way back to Luthadel, he made a stop at the farm of Lord Themos Tresting to talk with the farm skaa. When Lord Tresting attempted to rape a skaa girl, Kelsier saved her, killing Tresting and all his servants and soldiers in the process. He burned down the manor and purposely departed in a way that forced the skaa to join the rebellion. When he arrived in Luthadel, he first reunited with his old partner and best friend Dockson.\n",
      "\n",
      "Dockson told Kelsier about a young Allomancer girl Marsh had discovered whom he suspected was a Mistborn. Kelsier and Dockson went to see her first hand; they watched Vin Soothe an obligator during Camon's scheme, confirming that she was at least a Soother. After Camon and Vin left, Kelsier realized that the ministry had already discovered that Camon was a thief and only played along to find the crew's hideout. A Steel Inquisitor had been present, discovering Vin's Allomancy. The Inquisitor and some soliders followed Camon to find his hideout to wipe out his crew, but Kelsier lured the Inquisitor away by using his own Allomancy while Dockson took out the soldiers. They went to the hideout themselves just in time to save Vin from Camon. Kelsier knocked out Camon with Steelpushes and gave control over the crew to Milev. He forced the rest of the crew to leave, only leaving Vin. Kelsier's suspicions that Vin was a Mistborn were confirmed when he saw that she was able to burn zinc. Kelsier offered to let her to join his crew. Vin didn't trust him but agreed in order to learn how to use Allomancy. Later, Kelsier invited a team of the best thieves in the city to a gathering in Camon's safe house. He introduced them and Vin to Yeden and explained his plan to destroy the Final Empire and kill the Lord Ruler. Breeze, Ham, Clubs, and Clubs' nephew Spook joined his crew. While initially hostile, in the end Kelsier's brother Marsh joined, and together the crew developed a plan to defeat the Final Empire.\n",
      "\n",
      "The plan was to secretly build up an army of twenty thousand trained skaa soldiers in the Arguois caverns while at the same time causing confusion and distrust in the nobility to cause a house war. Once their army was trained and the houses grew unstable enough, they would send a part of their army to attack the Pits of Hathsin, forcing the garrison of Luthadel to go and defend the Pits. With the garrison gone and the nobility weakened by the war, the rest of the army then could take over Luthadel. Then Yeden would gain control of the city and the crew would receive the Lord Ruler's atium stash as payment. Breeze would recruit men for the rebellion, Ham would train them in the Arguois caverns, Dockson would direct the operation's finances, Clubs would hide the group's Allomancy with copperclouds, OreSeur in the role of Lord Renoux would buy the necessary equipment, Marsh would infiltrate the Steel Ministry posing as an obligator, Kelsier would use his Mistborn power to make attacks on the nobility to create tension between the houses, and Vin would gather information in the noble court posing as Renoux's niece Valette. Kelsier also wanted to try kill the Lord Ruler with the Eleventh Metal as a \"voluntary bonus\".\n"
     ]
    },
    {
     "data": {
      "text/plain": [
       "(\"The provided text focuses on Urithiru, a tower city in the world of Roshar, and does not mention the Alethi armies' sustenance. Therefore, the context does not provide an answer to the question of how the Alethi armies sustain themselves. \\n\\nTo answer this question, you would need to consult other sources about the Alethi culture and military in the Cosmere, the fictional universe in which the story takes place.\",\n",
       " [Document(metadata={'heading': 'Culture', 'order': 19, 'parent_article': 'Urithiru', 'keywords': '', 'relevance_score': 0.99491054}, page_content=\"Urithiru -  Culture \\n\\nThough massively important in the past, prior to the coming of the Everstorm Urithiru was all but unknown to Vorins who didn't study the Knights Radiant, with Shallan being unfamiliar even with its name. This could be the result of the Hierocracy working to suppress all knowledge of Radiants, similar to how they discredited Surgebinding.\\n\\nIn contrast, Shinovar is familiar with Urithiru, at least insofar as the traditions surrounding it are concerned. According to the Shin, the stones in Urithiru are unhallowed, making them fine to walk on, as opposed to the rest of non-soil-covered Roshar. Szeth also has no problem recognizing Urithiru for what it is, and made it one of his first destinations after becoming Truthless, suggesting that the Shin - or at least their leaders - had known its location all along.\\n\\nEconomy\\nBack before the tower was abandoned, the Knights Radiant would extract payment for the use of Oathgates. Shortly before the Recreance, the tariffs began to increase to the degree that some of their contemporaries found unreasonable. After the Alethi arrive at Urithiru, Dalinar designates Sebarial as Highprince of Commerce there. As has been done before, Sebarial plans to tax passage through the Oathgates in order to provide revenue for the tower city, as it produces little else. \\n\\nMost trade in Urithiru takes place at the Breakaway. Though Navani had plans for a carefully regulated market, Sebarial has instituted looser controls, resulting in a chaotic marketplace with several black markets and room for illicit goods. \\n\\n Problems \\n\\nThe tower city's economy suffers from three main difficulties: a lack of labor, a lack of supplies, and a lack of infrastructure.\\n\\nFollowing the healing of all parshmen during the first Everstorm, the Alethi have suffered from the loss of their menial labor class that carried over as they relocated to Urithiru. To alleviate that, darkeyes of low nahn, as well as soldiers and caravan workers, have been pressed into service doing tasks such as hauling water, to their dismay. In an effort to reduce labor tensions, Adolin encourages these men to form a water haulers' guild to bargain for wages. The lack of parshmen will no doubt result in increased consumer costs as slavery is replaced by paid labor, the wages of which are based on social rank and not very negotiable.\\n\\nSince Urithiru's crop growing system is non-functional, the city depends on trade to provide supplies. At first, goods flowing into Urithiru through the Oathgates are mostly salvage from the warcamps abandoned during the flight from the Everstorm, harvested by enterprising merchants backed by the highprinces. Dalinar has considered trying to resettle the war camps, but the area has been quietly claimed by those highprinces who stayed behind. Though Sebarial has forests near the camps that could be used to supply the city, harvesting the lumber isn't economical without parshmen. Emeralds for Soulcasting food are also in short supply, despite continued hunting for gemhearts on the Shattered Plains. Later, after King Taravangian joins the alliance, regular shipments begin to come from Jah Keved. Still, there is not enough trade to support the city, leading Bethab to speculate that without a deal with Azir, Urithiru may not be able to support its current population.\\n\\nUrithiru's non-functional mechanisms have left it with a lack of infrastructure. Waste management has been a particularly notable issue. Communal privies have been set up over former bathing rooms, but these are plagued with long lines. The plumbing of Urithiru keeps clogging, and Soulcasters are constantly working to eliminate the waste. Additionally, at this altitude, heating is a constant problem without magical enhancements.\\n\\nAnother minor issue affecting Urithiru's early economy is the lack of Stormlight to infuse spheres. The need for Stormlight to power the Oathgates means that in the period immediately following Urithiru's discovery, when the highstorms disappeared, infused spheres were worth considerably more than face value. After the highstorms return, spheres can be re-infused by lowering them in large cages down into the storm.\"),\n",
       "  Document(metadata={'heading': 'Economy', 'order': 20, 'parent_article': 'Urithiru', 'keywords': '', 'relevance_score': 0.99277574}, page_content=\"Urithiru - Economy\\nBack before the tower was abandoned, the Knights Radiant would extract payment for the use of Oathgates. Shortly before the Recreance, the tariffs began to increase to the degree that some of their contemporaries found unreasonable. After the Alethi arrive at Urithiru, Dalinar designates Sebarial as Highprince of Commerce there. As has been done before, Sebarial plans to tax passage through the Oathgates in order to provide revenue for the tower city, as it produces little else. \\n\\nMost trade in Urithiru takes place at the Breakaway. Though Navani had plans for a carefully regulated market, Sebarial has instituted looser controls, resulting in a chaotic marketplace with several black markets and room for illicit goods. \\n\\n Problems \\n\\nThe tower city's economy suffers from three main difficulties: a lack of labor, a lack of supplies, and a lack of infrastructure.\\n\\nFollowing the healing of all parshmen during the first Everstorm, the Alethi have suffered from the loss of their menial labor class that carried over as they relocated to Urithiru. To alleviate that, darkeyes of low nahn, as well as soldiers and caravan workers, have been pressed into service doing tasks such as hauling water, to their dismay. In an effort to reduce labor tensions, Adolin encourages these men to form a water haulers' guild to bargain for wages. The lack of parshmen will no doubt result in increased consumer costs as slavery is replaced by paid labor, the wages of which are based on social rank and not very negotiable.\\n\\nSince Urithiru's crop growing system is non-functional, the city depends on trade to provide supplies. At first, goods flowing into Urithiru through the Oathgates are mostly salvage from the warcamps abandoned during the flight from the Everstorm, harvested by enterprising merchants backed by the highprinces. Dalinar has considered trying to resettle the war camps, but the area has been quietly claimed by those highprinces who stayed behind. Though Sebarial has forests near the camps that could be used to supply the city, harvesting the lumber isn't economical without parshmen. Emeralds for Soulcasting food are also in short supply, despite continued hunting for gemhearts on the Shattered Plains. Later, after King Taravangian joins the alliance, regular shipments begin to come from Jah Keved. Still, there is not enough trade to support the city, leading Bethab to speculate that without a deal with Azir, Urithiru may not be able to support its current population.\\n\\nUrithiru's non-functional mechanisms have left it with a lack of infrastructure. Waste management has been a particularly notable issue. Communal privies have been set up over former bathing rooms, but these are plagued with long lines. The plumbing of Urithiru keeps clogging, and Soulcasters are constantly working to eliminate the waste. Additionally, at this altitude, heating is a constant problem without magical enhancements.\\n\\nAnother minor issue affecting Urithiru's early economy is the lack of Stormlight to infuse spheres. The need for Stormlight to power the Oathgates means that in the period immediately following Urithiru's discovery, when the highstorms disappeared, infused spheres were worth considerably more than face value. After the highstorms return, spheres can be re-infused by lowering them in large cages down into the storm.\"),\n",
       "  Document(metadata={'heading': 'Recruiting his Crew', 'order': 10, 'parent_article': 'Kelsier', 'keywords': '', 'relevance_score': 0.034113113}, page_content='Kelsier -  Recruiting his Crew \\n\\nAfter discovering the Eleventh Metal Kelsier started to prepare his plan by hiring the Kandra OreSeur. Then he killed the noble Lord Renoux and let OreSeur impersonate him. He met with Yeden the leader of the skaa rebellion and made Yeden hire him to bring down the Final Empire. On Kelsier\\'s way back to Luthadel, he made a stop at the farm of Lord Themos Tresting to talk with the farm skaa. When Lord Tresting attempted to rape a skaa girl, Kelsier saved her, killing Tresting and all his servants and soldiers in the process. He burned down the manor and purposely departed in a way that forced the skaa to join the rebellion. When he arrived in Luthadel, he first reunited with his old partner and best friend Dockson.\\n\\nDockson told Kelsier about a young Allomancer girl Marsh had discovered whom he suspected was a Mistborn. Kelsier and Dockson went to see her first hand; they watched Vin Soothe an obligator during Camon\\'s scheme, confirming that she was at least a Soother. After Camon and Vin left, Kelsier realized that the ministry had already discovered that Camon was a thief and only played along to find the crew\\'s hideout. A Steel Inquisitor had been present, discovering Vin\\'s Allomancy. The Inquisitor and some soliders followed Camon to find his hideout to wipe out his crew, but Kelsier lured the Inquisitor away by using his own Allomancy while Dockson took out the soldiers. They went to the hideout themselves just in time to save Vin from Camon. Kelsier knocked out Camon with Steelpushes and gave control over the crew to Milev. He forced the rest of the crew to leave, only leaving Vin. Kelsier\\'s suspicions that Vin was a Mistborn were confirmed when he saw that she was able to burn zinc. Kelsier offered to let her to join his crew. Vin didn\\'t trust him but agreed in order to learn how to use Allomancy. Later, Kelsier invited a team of the best thieves in the city to a gathering in Camon\\'s safe house. He introduced them and Vin to Yeden and explained his plan to destroy the Final Empire and kill the Lord Ruler. Breeze, Ham, Clubs, and Clubs\\' nephew Spook joined his crew. While initially hostile, in the end Kelsier\\'s brother Marsh joined, and together the crew developed a plan to defeat the Final Empire.\\n\\nThe plan was to secretly build up an army of twenty thousand trained skaa soldiers in the Arguois caverns while at the same time causing confusion and distrust in the nobility to cause a house war. Once their army was trained and the houses grew unstable enough, they would send a part of their army to attack the Pits of Hathsin, forcing the garrison of Luthadel to go and defend the Pits. With the garrison gone and the nobility weakened by the war, the rest of the army then could take over Luthadel. Then Yeden would gain control of the city and the crew would receive the Lord Ruler\\'s atium stash as payment. Breeze would recruit men for the rebellion, Ham would train them in the Arguois caverns, Dockson would direct the operation\\'s finances, Clubs would hide the group\\'s Allomancy with copperclouds, OreSeur in the role of Lord Renoux would buy the necessary equipment, Marsh would infiltrate the Steel Ministry posing as an obligator, Kelsier would use his Mistborn power to make attacks on the nobility to create tension between the houses, and Vin would gather information in the noble court posing as Renoux\\'s niece Valette. Kelsier also wanted to try kill the Lord Ruler with the Eleventh Metal as a \"voluntary bonus\".')])"
      ]
     },
     "execution_count": 5,
     "metadata": {},
     "output_type": "execute_result"
    }
   ],
   "source": [
    "pipe.perform_rag(\"How do the Alethi armies sustain themselves?\")"
   ]
  },
  {
   "cell_type": "code",
   "execution_count": null,
   "metadata": {},
   "outputs": [],
   "source": []
  }
 ],
 "metadata": {
  "kernelspec": {
   "display_name": "Python 3",
   "language": "python",
   "name": "python3"
  },
  "language_info": {
   "codemirror_mode": {
    "name": "ipython",
    "version": 3
   },
   "file_extension": ".py",
   "mimetype": "text/x-python",
   "name": "python",
   "nbconvert_exporter": "python",
   "pygments_lexer": "ipython3",
   "version": "3.12.1"
  }
 },
 "nbformat": 4,
 "nbformat_minor": 2
}
