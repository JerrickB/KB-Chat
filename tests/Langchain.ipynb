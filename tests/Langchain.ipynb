{
 "cells": [
  {
   "cell_type": "code",
   "execution_count": 1,
   "metadata": {},
   "outputs": [],
   "source": [
    "import chromadb\n",
    "from chromadb.config import Settings\n",
    "from langchain_chroma import Chroma\n",
    "from langchain.document_loaders import TextLoader\n",
    "from langchain.text_splitter import RecursiveCharacterTextSplitter\n",
    "from langchain.retrievers import ParentDocumentRetriever\n",
    "from langchain.storage import InMemoryStore\n",
    "from langchain.embeddings import HuggingFaceEmbeddings\n",
    "from os import getcwd, environ, listdir\n",
    "from pathlib import Path\n",
    "from sys import path\n",
    "\n",
    "path.append(r'C:\\Users\\Izogie\\Desktop\\Folders\\Projects\\Python\\KB Chat\\src')\n",
    "from modules.SourceManager import SourceManager"
   ]
  },
  {
   "cell_type": "code",
   "execution_count": 2,
   "metadata": {},
   "outputs": [],
   "source": [
    "from yaml import safe_load\n",
    "\n",
    "def load_config(file_path=\"./config.yml\"):\n",
    "    with open(file_path, 'r') as file:\n",
    "        config = safe_load(file)\n",
    "        for key, value in config.items():\n",
    "            environ[key] = value\n",
    "load_config()"
   ]
  },
  {
   "cell_type": "code",
   "execution_count": 3,
   "metadata": {},
   "outputs": [],
   "source": [
    "TST_DIR = Path(getcwd())\n",
    "PROJ_DIR = TST_DIR.parent\n",
    "DB_DIR = TST_DIR / \"chroma_test\"\n",
    "DATA_DIR = PROJ_DIR / \"data\""
   ]
  },
  {
   "cell_type": "markdown",
   "metadata": {},
   "source": [
    "## Load docs"
   ]
  },
  {
   "cell_type": "code",
   "execution_count": 4,
   "metadata": {},
   "outputs": [
    {
     "name": "stderr",
     "output_type": "stream",
     "text": [
      "c:\\Python312\\Lib\\site-packages\\sentence_transformers\\cross_encoder\\CrossEncoder.py:11: TqdmWarning: IProgress not found. Please update jupyter and ipywidgets. See https://ipywidgets.readthedocs.io/en/stable/user_install.html\n",
      "  from tqdm.autonotebook import tqdm, trange\n",
      "c:\\Python312\\Lib\\site-packages\\huggingface_hub\\file_download.py:1150: FutureWarning: `resume_download` is deprecated and will be removed in version 1.0.0. Downloads always resume when possible. If you want to force a new download, use `force_download=True`.\n",
      "  warnings.warn(\n"
     ]
    }
   ],
   "source": [
    "embedding_function = HuggingFaceEmbeddings()"
   ]
  },
  {
   "cell_type": "code",
   "execution_count": 5,
   "metadata": {},
   "outputs": [
    {
     "name": "stdout",
     "output_type": "stream",
     "text": [
      "1225\n"
     ]
    }
   ],
   "source": [
    "docs = []\n",
    "for file in listdir(str(DATA_DIR)):\n",
    "    loader = TextLoader(str(DATA_DIR / file))\n",
    "    docs.extend(loader.load())\n"
   ]
  },
  {
   "cell_type": "code",
   "execution_count": 27,
   "metadata": {},
   "outputs": [
    {
     "name": "stdout",
     "output_type": "stream",
     "text": [
      "There are 0 in the collection\n"
     ]
    },
    {
     "name": "stderr",
     "output_type": "stream",
     "text": [
      "c:\\Python312\\Lib\\site-packages\\posthog\\client.py:345: DeprecationWarning: datetime.datetime.utcnow() is deprecated and scheduled for removal in a future version. Use timezone-aware objects to represent datetimes in UTC: datetime.datetime.now(datetime.UTC).\n",
      "  timestamp = datetime.utcnow().replace(tzinfo=tzutc())\n",
      "c:\\Python312\\Lib\\site-packages\\posthog\\client.py:345: DeprecationWarning: datetime.datetime.utcnow() is deprecated and scheduled for removal in a future version. Use timezone-aware objects to represent datetimes in UTC: datetime.datetime.now(datetime.UTC).\n",
      "  timestamp = datetime.utcnow().replace(tzinfo=tzutc())\n",
      "c:\\Python312\\Lib\\site-packages\\posthog\\client.py:345: DeprecationWarning: datetime.datetime.utcnow() is deprecated and scheduled for removal in a future version. Use timezone-aware objects to represent datetimes in UTC: datetime.datetime.now(datetime.UTC).\n",
      "  timestamp = datetime.utcnow().replace(tzinfo=tzutc())\n"
     ]
    },
    {
     "name": "stderr",
     "output_type": "stream",
     "text": [
      "c:\\Python312\\Lib\\site-packages\\posthog\\request.py:40: DeprecationWarning: datetime.datetime.utcnow() is deprecated and scheduled for removal in a future version. Use timezone-aware objects to represent datetimes in UTC: datetime.datetime.now(datetime.UTC).\n",
      "  body[\"sentAt\"] = datetime.utcnow().replace(tzinfo=tzutc()).isoformat()\n"
     ]
    }
   ],
   "source": [
    "vectordb = Chroma('parent_docs',\n",
    "                embedding_function=embedding_function, \n",
    "                persist_directory=str(DB_DIR),\n",
    "                client_settings=Settings(allow_reset=True))\n",
    "vectordb.reset_collection()\n",
    "print(\"There are\", vectordb._collection.count(), \"in the collection\")"
   ]
  },
  {
   "cell_type": "code",
   "execution_count": 28,
   "metadata": {},
   "outputs": [],
   "source": [
    "child_splitter = RecursiveCharacterTextSplitter(chunk_size=100, chunk_overlap=50)\n",
    "parent_splitter = RecursiveCharacterTextSplitter(chunk_size = 800, chunk_overlap=200)\n",
    "store = InMemoryStore()\n",
    "retriever = ParentDocumentRetriever(\n",
    "    vectorstore=vectordb, \n",
    "    docstore=store,\n",
    "    parent_splitter=parent_splitter,\n",
    "    child_splitter=child_splitter)"
   ]
  },
  {
   "cell_type": "code",
   "execution_count": 29,
   "metadata": {},
   "outputs": [],
   "source": [
    "retriever.add_documents(docs)"
   ]
  },
  {
   "cell_type": "code",
   "execution_count": 22,
   "metadata": {},
   "outputs": [],
   "source": [
    "query = \"Who are the shards on Roshar?\""
   ]
  },
  {
   "cell_type": "code",
   "execution_count": 23,
   "metadata": {},
   "outputs": [],
   "source": [
    "response = retriever.invoke(query)"
   ]
  },
  {
   "cell_type": "code",
   "execution_count": 24,
   "metadata": {},
   "outputs": [
    {
     "data": {
      "text/plain": [
       "[Document(metadata={'source': 'c:\\\\Users\\\\Izogie\\\\Desktop\\\\Folders\\\\Projects\\\\Python\\\\KB Chat\\\\data\\\\Realmatic Theory.txt'}, page_content='Shards \\n\\nWhile the Shards of Adonalsium exist primarily in the Spiritual Realm, their immense power has notable effects on all three of the Realms. Perhaps most significantly, Realmatic interactions between a Shard and a planet are what define the structure of any Invested Arts associated with that Shard on that planet. Shards can consciously make some changes to this structure, but the extent to which they can interfere is limited. If a Shard used their power to create the planet in the first place (as Preservation and Ruin did with Scadrial), they will be able to exercise more control.'),\n",
       " Document(metadata={'source': 'c:\\\\Users\\\\Izogie\\\\Desktop\\\\Folders\\\\Projects\\\\Python\\\\KB Chat\\\\data\\\\Realmatic Theory.txt'}, page_content='While most perpendicularities are created by Shards, they can also be created by other methods. Some Invested Arts, like the Surge of Transportation, are particularly built to accomplish this. Other methods of creating a perpendicularity include storing a sufficient amount of Investiture in a nicrosilmind, an unknown method of \"morbid origin\" used on Threnody that creates predictably unstable and hard to predict perpendicularities, and an unspecified ability of Bondsmiths bonded to the Stormfather after Honor\\'s death.\\n\\n Shards'),\n",
       " Document(metadata={'source': 'c:\\\\Users\\\\Izogie\\\\Desktop\\\\Folders\\\\Projects\\\\Python\\\\KB Chat\\\\data\\\\Cosmere.txt'}, page_content='Despite these restrictions, however, the Shards are generally capable of both subtle and incredible changes. Among other things, they can change the orbit of entire planets, make changes to individuals and entire species on a genetic level, and alter some of the mechanics of an Invested Art resulting from their presence on a planet. Since Shards exist primarily in the Spiritual Realm, they also have some ability to look into the future, though not all Shards are equally good at this and it fragments into more and more possibilities the further they look.'),\n",
       " Document(metadata={'source': 'c:\\\\Users\\\\Izogie\\\\Desktop\\\\Folders\\\\Projects\\\\Python\\\\KB Chat\\\\data\\\\Cosmere.txt'}, page_content='Worldhopping Groups \\n The Seventeenth Shard \\n\\nThe Seventeenth Shard is a group of worldhoppers that seeks to research and study the various worlds of the cosmere without interfering in existing cultures. They believe the Shards separated for a reason and want to minimize the risk of conflict between the Shards. Frost may have some influence over them, either formally or informally. They are worried about Hoid, as they fear his actions on planets will exacerbate Shardic conflict and, from at least  to  on the Rosharan calendar, unsuccessfully tried to hunt him down, though they have larger objectives as well.\\n\\n Silverlight')]"
      ]
     },
     "execution_count": 24,
     "metadata": {},
     "output_type": "execute_result"
    }
   ],
   "source": [
    "\n",
    "response\n",
    "# print(response[1].page_content)"
   ]
  },
  {
   "cell_type": "code",
   "execution_count": 21,
   "metadata": {},
   "outputs": [],
   "source": [
    "# client = chromadb.PersistentClient(path=str(DB_DIR), settings=Settings(allow_reset=True))\n",
    "# langchain_chroma = Chroma(\n",
    "#     client=client,\n",
    "#     collection_name=\"Full_docs\",\n",
    "#     embedding_function=\n",
    "# )"
   ]
  },
  {
   "cell_type": "code",
   "execution_count": null,
   "metadata": {},
   "outputs": [],
   "source": [
    "import chromadb\n",
    "from chromadb.config import Settings\n",
    "from langchain_chroma import Chroma\n",
    "from os import getcwd, environ, listdir\n",
    "from pathlib import Path\n",
    "from langchain.retrievers import ParentDocumentRetriever\n",
    "from langchain_text_splitters import RecursiveCharacterTextSplitter\n",
    "from langchain.storage import InMemoryStore\n",
    "from langchain_community.document_loaders import TextLoader\n",
    "from sys import path\n",
    "path.append(r'C:\\Users\\Izogie\\Desktop\\Folders\\Projects\\Python\\KB Chat\\src')\n",
    "from modules.SourceManager import SourceManager\n",
    "\n",
    "\n",
    "PROJ_DIR = Path(getcwd()).parent\n",
    "DB_DIR = PROJ_DIR / \"chroma\"\n",
    "\n",
    "from langchain_huggingface import HuggingFaceEmbeddings\n",
    "embedding_function = HuggingFaceEmbeddings(model_name=\"all-MiniLM-L6-v2\")\n",
    "\n",
    "query = \"what does steel do\"\n",
    "\n",
    "docs = []\n",
    "for filename in listdir(str(PROJ_DIR / \"data\")):\n",
    "    loader = TextLoader(str(PROJ_DIR / f\"data/{filename}\"))\n",
    "    docs.extend(loader.load())\n",
    "\n",
    "vectorstore = Chroma.from_documents(\n",
    "    docs, \n",
    "    embedding_function,\n",
    "    collection_name=\"full_documents\", \n",
    "    persist_directory=str(DB_DIR))\n",
    "print(\"There are\", vectorstore._collection.count(), \"in the collection\")\n",
    "\n",
    "child_splitter = RecursiveCharacterTextSplitter(chunk_size=400)\n",
    "parent_splitter = RecursiveCharacterTextSplitter(chunk_size=2000)\n",
    "store = InMemoryStore()\n",
    "retriever = ParentDocumentRetriever(\n",
    "    vectorstore=vectorstore, \n",
    "    docstore=store,\n",
    "    parent_splitter=parent_splitter,\n",
    "    child_splitter=child_splitter)\n",
    "retrieved_docs = retriever.invoke(\"steel\")\n",
    "print(len(list(store.yield_keys())))\n",
    "print(retrieved_docs)"
   ]
  }
 ],
 "metadata": {
  "kernelspec": {
   "display_name": "Python 3",
   "language": "python",
   "name": "python3"
  },
  "language_info": {
   "codemirror_mode": {
    "name": "ipython",
    "version": 3
   },
   "file_extension": ".py",
   "mimetype": "text/x-python",
   "name": "python",
   "nbconvert_exporter": "python",
   "pygments_lexer": "ipython3",
   "version": "3.12.1"
  }
 },
 "nbformat": 4,
 "nbformat_minor": 2
}
