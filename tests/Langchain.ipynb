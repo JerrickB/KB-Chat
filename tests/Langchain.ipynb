{
 "cells": [
  {
   "cell_type": "code",
   "execution_count": 4,
   "metadata": {},
   "outputs": [],
   "source": [
    "import chromadb\n",
    "from chromadb.config import Settings\n",
    "from langchain.document_loaders import TextLoader\n",
    "from langchain.text_splitter import RecursiveCharacterTextSplitter\n",
    "from langchain.retrievers import ParentDocumentRetriever\n",
    "from langchain.storage import InMemoryStore\n",
    "from langchain.embeddings import HuggingFaceEmbeddings\n",
    "from os import getcwd, environ, listdir\n",
    "from pathlib import Path\n",
    "from sys import path\n",
    "\n",
    "path.append(r'C:\\Users\\Izogie\\Desktop\\Folders\\Projects\\Python\\KB Chat\\src')\n",
    "from modules.SourceManager import SourceManager"
   ]
  },
  {
   "cell_type": "code",
   "execution_count": 5,
   "metadata": {},
   "outputs": [],
   "source": [
    "from yaml import safe_load\n",
    "\n",
    "def load_config(file_path=\"./config.yml\"):\n",
    "    with open(file_path, 'r') as file:\n",
    "        config = safe_load(file)\n",
    "        for key, value in config.items():\n",
    "            environ[key] = value\n",
    "load_config()"
   ]
  },
  {
   "cell_type": "code",
   "execution_count": 6,
   "metadata": {},
   "outputs": [],
   "source": [
    "TST_DIR = Path(getcwd())\n",
    "PROJ_DIR = TST_DIR.parent\n",
    "DB_DIR = TST_DIR / \"chroma_test\"\n",
    "DATA_DIR = PROJ_DIR / \"data\""
   ]
  },
  {
   "cell_type": "code",
   "execution_count": 7,
   "metadata": {},
   "outputs": [
    {
     "name": "stderr",
     "output_type": "stream",
     "text": [
      "c:\\Python312\\Lib\\site-packages\\huggingface_hub\\file_download.py:1150: FutureWarning: `resume_download` is deprecated and will be removed in version 1.0.0. Downloads always resume when possible. If you want to force a new download, use `force_download=True`.\n",
      "  warnings.warn(\n"
     ]
    }
   ],
   "source": [
    "embedding_function = HuggingFaceEmbeddings()"
   ]
  },
  {
   "cell_type": "code",
   "execution_count": 8,
   "metadata": {},
   "outputs": [],
   "source": [
    "manager = SourceManager()\n",
    "data = manager.load_json(\"processed_articles.jsonl\")"
   ]
  },
  {
   "cell_type": "markdown",
   "metadata": {},
   "source": [
    "# ParentDocumentRetriever Testing"
   ]
  },
  {
   "cell_type": "code",
   "execution_count": null,
   "metadata": {},
   "outputs": [],
   "source": [
    "from langchain_chroma import Chroma"
   ]
  },
  {
   "cell_type": "code",
   "execution_count": null,
   "metadata": {},
   "outputs": [
    {
     "name": "stdout",
     "output_type": "stream",
     "text": [
      "1225\n"
     ]
    }
   ],
   "source": [
    "docs = []\n",
    "for file in listdir(str(DATA_DIR)):\n",
    "    loader = TextLoader(str(DATA_DIR / file))\n",
    "    docs.extend(loader.load())\n"
   ]
  },
  {
   "cell_type": "code",
   "execution_count": null,
   "metadata": {},
   "outputs": [
    {
     "name": "stdout",
     "output_type": "stream",
     "text": [
      "There are 0 in the collection\n"
     ]
    },
    {
     "name": "stderr",
     "output_type": "stream",
     "text": [
      "c:\\Python312\\Lib\\site-packages\\posthog\\client.py:345: DeprecationWarning: datetime.datetime.utcnow() is deprecated and scheduled for removal in a future version. Use timezone-aware objects to represent datetimes in UTC: datetime.datetime.now(datetime.UTC).\n",
      "  timestamp = datetime.utcnow().replace(tzinfo=tzutc())\n",
      "c:\\Python312\\Lib\\site-packages\\posthog\\client.py:345: DeprecationWarning: datetime.datetime.utcnow() is deprecated and scheduled for removal in a future version. Use timezone-aware objects to represent datetimes in UTC: datetime.datetime.now(datetime.UTC).\n",
      "  timestamp = datetime.utcnow().replace(tzinfo=tzutc())\n",
      "c:\\Python312\\Lib\\site-packages\\posthog\\client.py:345: DeprecationWarning: datetime.datetime.utcnow() is deprecated and scheduled for removal in a future version. Use timezone-aware objects to represent datetimes in UTC: datetime.datetime.now(datetime.UTC).\n",
      "  timestamp = datetime.utcnow().replace(tzinfo=tzutc())\n"
     ]
    },
    {
     "name": "stderr",
     "output_type": "stream",
     "text": [
      "c:\\Python312\\Lib\\site-packages\\posthog\\request.py:40: DeprecationWarning: datetime.datetime.utcnow() is deprecated and scheduled for removal in a future version. Use timezone-aware objects to represent datetimes in UTC: datetime.datetime.now(datetime.UTC).\n",
      "  body[\"sentAt\"] = datetime.utcnow().replace(tzinfo=tzutc()).isoformat()\n"
     ]
    }
   ],
   "source": [
    "vectordb = Chroma('parent_docs',\n",
    "                embedding_function=embedding_function, \n",
    "                persist_directory=str(DB_DIR),\n",
    "                client_settings=Settings(allow_reset=True))\n",
    "vectordb.reset_collection()\n",
    "print(\"There are\", vectordb._collection.count(), \"in the collection\")"
   ]
  },
  {
   "cell_type": "code",
   "execution_count": null,
   "metadata": {},
   "outputs": [],
   "source": [
    "child_splitter = RecursiveCharacterTextSplitter(chunk_size=300, chunk_overlap=100)\n",
    "parent_splitter = RecursiveCharacterTextSplitter(chunk_size = 800, chunk_overlap=200)\n",
    "store = InMemoryStore()\n",
    "retriever = ParentDocumentRetriever(\n",
    "    vectorstore=vectordb, \n",
    "    docstore=store,\n",
    "    parent_splitter=parent_splitter,\n",
    "    child_splitter=child_splitter)"
   ]
  },
  {
   "cell_type": "code",
   "execution_count": null,
   "metadata": {},
   "outputs": [],
   "source": [
    "retriever.add_documents(docs)"
   ]
  },
  {
   "cell_type": "code",
   "execution_count": null,
   "metadata": {},
   "outputs": [],
   "source": [
    "query = \"Who are the shards on Roshar?\""
   ]
  },
  {
   "cell_type": "code",
   "execution_count": null,
   "metadata": {},
   "outputs": [
    {
     "name": "stderr",
     "output_type": "stream",
     "text": [
      "c:\\Python312\\Lib\\site-packages\\posthog\\client.py:345: DeprecationWarning: datetime.datetime.utcnow() is deprecated and scheduled for removal in a future version. Use timezone-aware objects to represent datetimes in UTC: datetime.datetime.now(datetime.UTC).\n",
      "  timestamp = datetime.utcnow().replace(tzinfo=tzutc())\n"
     ]
    },
    {
     "name": "stderr",
     "output_type": "stream",
     "text": [
      "c:\\Python312\\Lib\\site-packages\\posthog\\request.py:40: DeprecationWarning: datetime.datetime.utcnow() is deprecated and scheduled for removal in a future version. Use timezone-aware objects to represent datetimes in UTC: datetime.datetime.now(datetime.UTC).\n",
      "  body[\"sentAt\"] = datetime.utcnow().replace(tzinfo=tzutc()).isoformat()\n"
     ]
    }
   ],
   "source": [
    "response = retriever.invoke(query)"
   ]
  },
  {
   "cell_type": "code",
   "execution_count": null,
   "metadata": {},
   "outputs": [
    {
     "data": {
      "text/plain": [
       "[Document(metadata={'source': 'c:\\\\Users\\\\Izogie\\\\Desktop\\\\Folders\\\\Projects\\\\Python\\\\KB Chat\\\\data\\\\Realmatic Theory.txt'}, page_content='Shards \\n\\nWhile the Shards of Adonalsium exist primarily in the Spiritual Realm, their immense power has notable effects on all three of the Realms. Perhaps most significantly, Realmatic interactions between a Shard and a planet are what define the structure of any Invested Arts associated with that Shard on that planet. Shards can consciously make some changes to this structure, but the extent to which they can interfere is limited. If a Shard used their power to create the planet in the first place (as Preservation and Ruin did with Scadrial), they will be able to exercise more control.'),\n",
       " Document(metadata={'source': 'c:\\\\Users\\\\Izogie\\\\Desktop\\\\Folders\\\\Projects\\\\Python\\\\KB Chat\\\\data\\\\Realmatic Theory.txt'}, page_content='While most perpendicularities are created by Shards, they can also be created by other methods. Some Invested Arts, like the Surge of Transportation, are particularly built to accomplish this. Other methods of creating a perpendicularity include storing a sufficient amount of Investiture in a nicrosilmind, an unknown method of \"morbid origin\" used on Threnody that creates predictably unstable and hard to predict perpendicularities, and an unspecified ability of Bondsmiths bonded to the Stormfather after Honor\\'s death.\\n\\n Shards'),\n",
       " Document(metadata={'source': 'c:\\\\Users\\\\Izogie\\\\Desktop\\\\Folders\\\\Projects\\\\Python\\\\KB Chat\\\\data\\\\Cosmere.txt'}, page_content='Despite these restrictions, however, the Shards are generally capable of both subtle and incredible changes. Among other things, they can change the orbit of entire planets, make changes to individuals and entire species on a genetic level, and alter some of the mechanics of an Invested Art resulting from their presence on a planet. Since Shards exist primarily in the Spiritual Realm, they also have some ability to look into the future, though not all Shards are equally good at this and it fragments into more and more possibilities the further they look.'),\n",
       " Document(metadata={'source': 'c:\\\\Users\\\\Izogie\\\\Desktop\\\\Folders\\\\Projects\\\\Python\\\\KB Chat\\\\data\\\\Cosmere.txt'}, page_content='Worldhopping Groups \\n The Seventeenth Shard \\n\\nThe Seventeenth Shard is a group of worldhoppers that seeks to research and study the various worlds of the cosmere without interfering in existing cultures. They believe the Shards separated for a reason and want to minimize the risk of conflict between the Shards. Frost may have some influence over them, either formally or informally. They are worried about Hoid, as they fear his actions on planets will exacerbate Shardic conflict and, from at least  to  on the Rosharan calendar, unsuccessfully tried to hunt him down, though they have larger objectives as well.\\n\\n Silverlight')]"
      ]
     },
     "execution_count": 38,
     "metadata": {},
     "output_type": "execute_result"
    }
   ],
   "source": [
    "\n",
    "response\n",
    "# print(response[1].page_content)"
   ]
  },
  {
   "cell_type": "markdown",
   "metadata": {},
   "source": [
    "# Adding Metadata"
   ]
  },
  {
   "cell_type": "code",
   "execution_count": null,
   "metadata": {},
   "outputs": [],
   "source": [
    "import uuid\n",
    "from random import randint\n",
    "from langchain.chains.query_constructor.base import AttributeInfo\n",
    "from langchain.retrievers.self_query.base import SelfQueryRetriever\n",
    "from langchain_google_genai import ChatGoogleGenerativeAI\n",
    "# from langchain_community.vectorstores import Chroma\n",
    "from langchain_chroma import Chroma\n",
    "from langchain.retrievers.self_query.chroma import ChromaTranslator\n"
   ]
  },
  {
   "cell_type": "code",
   "execution_count": null,
   "metadata": {},
   "outputs": [],
   "source": [
    "def ingest_articles(collection, articles):\n",
    "    \"\"\"Ingests structured article data into ChromaDB.\"\"\"\n",
    "    namespace_uuid = uuid.UUID('f81d4fae-7dec-11d0-a765-00a0c91e6bf6')\n",
    "    documents = []\n",
    "    metadatas = []\n",
    "    ids = []\n",
    "\n",
    "    for article in articles:\n",
    "        if article[\"sections\"] is None:\n",
    "            continue\n",
    "            # documents.append(\"\")\n",
    "            # metadatas.append({\n",
    "            #     \"article_title\": article[\"title\"],\n",
    "            #     \"paragraph_header\": article[\"title\"],\n",
    "            #     \"paragraph_order\": 0,\n",
    "            #     \"links\": ', '.join(article[\"links\"]),\n",
    "            # })\n",
    "            # ids.append(str(uuid.uuid5(namespace_uuid, article['title'])))\n",
    "        else:\n",
    "            for paragraph in article[\"sections\"]:\n",
    "                documents.append(paragraph[\"content\"])\n",
    "                metadatas.append({\n",
    "                    \"article_title\": article[\"title\"],\n",
    "                    \"paragraph_header\": paragraph['title'],\n",
    "                    \"paragraph_order\": paragraph[\"order\"],\n",
    "                    \"links\": ', '.join(article[\"links\"]),\n",
    "                })\n",
    "                ids.append(str(uuid.uuid5(namespace_uuid, f\"{paragraph['title']}_{paragraph['order']}_{randint(0,10000)}\")))  # Create unique IDs\n",
    "\n",
    "    collection.add(\n",
    "        documents=documents,\n",
    "        metadatas=metadatas,\n",
    "        ids=ids \n",
    "    )\n",
    "    return collection"
   ]
  },
  {
   "cell_type": "code",
   "execution_count": null,
   "metadata": {},
   "outputs": [],
   "source": [
    "\n",
    "import chromadb.utils.embedding_functions as embedding_fns\n",
    "embedding_function = embedding_fns.OpenAIEmbeddingFunction(api_key=environ[\"OPENAI_API_KEY\"])"
   ]
  },
  {
   "cell_type": "code",
   "execution_count": null,
   "metadata": {},
   "outputs": [
    {
     "name": "stderr",
     "output_type": "stream",
     "text": [
      "c:\\Python312\\Lib\\site-packages\\posthog\\client.py:345: DeprecationWarning: datetime.datetime.utcnow() is deprecated and scheduled for removal in a future version. Use timezone-aware objects to represent datetimes in UTC: datetime.datetime.now(datetime.UTC).\n",
      "  timestamp = datetime.utcnow().replace(tzinfo=tzutc())\n",
      "c:\\Python312\\Lib\\site-packages\\posthog\\client.py:345: DeprecationWarning: datetime.datetime.utcnow() is deprecated and scheduled for removal in a future version. Use timezone-aware objects to represent datetimes in UTC: datetime.datetime.now(datetime.UTC).\n",
      "  timestamp = datetime.utcnow().replace(tzinfo=tzutc())\n",
      "c:\\Python312\\Lib\\site-packages\\posthog\\request.py:40: DeprecationWarning: datetime.datetime.utcnow() is deprecated and scheduled for removal in a future version. Use timezone-aware objects to represent datetimes in UTC: datetime.datetime.now(datetime.UTC).\n",
      "  body[\"sentAt\"] = datetime.utcnow().replace(tzinfo=tzutc()).isoformat()\n",
      "c:\\Python312\\Lib\\site-packages\\posthog\\client.py:345: DeprecationWarning: datetime.datetime.utcnow() is deprecated and scheduled for removal in a future version. Use timezone-aware objects to represent datetimes in UTC: datetime.datetime.now(datetime.UTC).\n",
      "  timestamp = datetime.utcnow().replace(tzinfo=tzutc())\n"
     ]
    },
    {
     "data": {
      "text/plain": [
       "<chromadb.api.models.Collection.Collection at 0x240bb38e780>"
      ]
     },
     "execution_count": 35,
     "metadata": {},
     "output_type": "execute_result"
    },
    {
     "name": "stderr",
     "output_type": "stream",
     "text": [
      "c:\\Python312\\Lib\\site-packages\\posthog\\request.py:40: DeprecationWarning: datetime.datetime.utcnow() is deprecated and scheduled for removal in a future version. Use timezone-aware objects to represent datetimes in UTC: datetime.datetime.now(datetime.UTC).\n",
      "  body[\"sentAt\"] = datetime.utcnow().replace(tzinfo=tzutc()).isoformat()\n"
     ]
    }
   ],
   "source": [
    "client = chromadb.PersistentClient(path=str(DB_DIR), settings=Settings(allow_reset=True))\n",
    "client.reset()\n",
    "collection = client.get_or_create_collection(\"coppermind\", embedding_function=embedding_function)\n",
    "ingest_articles(collection, data)  "
   ]
  },
  {
   "cell_type": "code",
   "execution_count": null,
   "metadata": {},
   "outputs": [
    {
     "name": "stderr",
     "output_type": "stream",
     "text": [
      "c:\\Python312\\Lib\\site-packages\\posthog\\client.py:345: DeprecationWarning: datetime.datetime.utcnow() is deprecated and scheduled for removal in a future version. Use timezone-aware objects to represent datetimes in UTC: datetime.datetime.now(datetime.UTC).\n",
      "  timestamp = datetime.utcnow().replace(tzinfo=tzutc())\n"
     ]
    },
    {
     "name": "stderr",
     "output_type": "stream",
     "text": [
      "c:\\Python312\\Lib\\site-packages\\posthog\\request.py:40: DeprecationWarning: datetime.datetime.utcnow() is deprecated and scheduled for removal in a future version. Use timezone-aware objects to represent datetimes in UTC: datetime.datetime.now(datetime.UTC).\n",
      "  body[\"sentAt\"] = datetime.utcnow().replace(tzinfo=tzutc()).isoformat()\n"
     ]
    }
   ],
   "source": [
    "\n",
    "from langchain_openai import OpenAIEmbeddings\n",
    "vectordb = Chroma(client=client, collection_name=\"coppermind\",\n",
    "                embedding_function=OpenAIEmbeddings())"
   ]
  },
  {
   "cell_type": "code",
   "execution_count": null,
   "metadata": {},
   "outputs": [],
   "source": [
    "metadata_field_info = [\n",
    "    AttributeInfo(\n",
    "        name= \"article_title\",\n",
    "        description= \"title of parent article\",\n",
    "        type= \"string\"\n",
    "    ),\n",
    "    \n",
    "    AttributeInfo(\n",
    "        name= \"paragraph_header\",\n",
    "        description= \"header in article_title under which content was located\",\n",
    "        type= \"string\"\n",
    "    ),\n",
    "    AttributeInfo(\n",
    "        name= \"paragraph_order\",\n",
    "        description= \"order of paragraph under the paragraph_header\",\n",
    "        type= \"integer\",\n",
    "    ),\n",
    "    AttributeInfo(\n",
    "        name= \"links\",\n",
    "        description= \"list of article_titles that are directly related to the parent article\",\n",
    "        type= \"string\",\n",
    "    )\n",
    "]\n",
    "doc_content_description = \"paragraph of an article from the coppermind, a knowledgebase for everything in the literary universe of the Cosmere, written by Brandon Sanderson\"\n"
   ]
  },
  {
   "cell_type": "code",
   "execution_count": null,
   "metadata": {},
   "outputs": [],
   "source": [
    "# llm = ChatGoogleGenerativeAI(\n",
    "#     model=\"gemini-1.5-pro\"\n",
    "# )\n",
    "from langchain_openai import ChatOpenAI\n",
    "llm = ChatOpenAI(temperature=0)\n",
    "retriever = SelfQueryRetriever.from_llm(\n",
    "    llm,\n",
    "    vectorstore=vectordb,\n",
    "    document_contents=doc_content_description,\n",
    "    metadata_field_info=metadata_field_info,\n",
    "    structured_query_translator=ChromaTranslator()\n",
    ")"
   ]
  },
  {
   "cell_type": "code",
   "execution_count": null,
   "metadata": {},
   "outputs": [],
   "source": [
    "query = \"What does gold do in allomancy?\""
   ]
  },
  {
   "cell_type": "code",
   "execution_count": null,
   "metadata": {},
   "outputs": [],
   "source": [
    "response = retriever.invoke(query)"
   ]
  },
  {
   "cell_type": "code",
   "execution_count": null,
   "metadata": {},
   "outputs": [
    {
     "data": {
      "text/plain": [
       "[Document(metadata={'article_title': 'Allomancy', 'links': 'Odium, Kelsier, Realmatic Theory, Hoid, Knights Radiant', 'paragraph_header': 'Allomancy', 'paragraph_order': 1}, page_content='Allomancy is the most widely used form of Investiture on Scadrial, and is locally known as one of the three Metallic Arts. People who have one or more Allomantic abilities are called Allomancers with each Allomantic power being paired with a type of metal, which must be ingested and \"burned\" to activate.'),\n",
       " Document(metadata={'article_title': 'Allomancy', 'links': 'Odium, Kelsier, Realmatic Theory, Hoid, Knights Radiant', 'paragraph_header': 'History', 'paragraph_order': 2}, page_content=\"Prior to the Ascension of the Lord Ruler, Allomancy was rarely found among the general population. The Lord Ruler's Ascension, and his subsequent distribution of the lerasium beads, increased the strength of the Allomantic spiritual DNA in the Final Empire, which had long lasting effects through the subsequent generations. Rashek, and his Steel Ministry, also suppressed knowledge of several of the Allomantic metals, so that only the four physical, four mental, gold, and atium, were known of by the general populace. Malatium became known through legend as The Eleventh Metal, a rumor that may have been started by Ruin to help facilitate the downfall of the Lord Ruler. Prior to its destruction, atium and malatium were incorrectly classified as temporal metals instead of God Metals by The Lord Ruler and his government. \"),\n",
       " Document(metadata={'article_title': 'Allomancy', 'links': 'Odium, Kelsier, Realmatic Theory, Hoid, Knights Radiant', 'paragraph_header': 'Gaining Allomantic Abilities', 'paragraph_order': 1}, page_content='Allomancy is a spiritually hereditary trait, that does not follow the same principles of dominant and recessive physical genetics. Scadrians with mixed skaa-noble heritage generally must have a noble in the previous five generations in order to be born an Allomancer. The ability lays dormant until an Allomancer undergoes Snapping, which will activate their Allomantic abilities. The abilities can be used instinctually, including while unconscious, once awakened if the user is to ingest the correct type of metal, though training is required to use these powers well. Snapping does not affect the chances of having an Allomancer child. Twins are more likely to have the same metal, especially if they are identical instead of fraternal.'),\n",
       " Document(metadata={'article_title': 'Allomancy', 'links': 'Odium, Kelsier, Realmatic Theory, Hoid, Knights Radiant', 'paragraph_header': 'Mechanics', 'paragraph_order': 1}, page_content=\"Allomancy is an End-Positive magic system, which draws on the power of Preservation, channeled through a metal when it is burned. This differs to how Feruchemy works, as Allomancy is not being powered by the body of the Allomancer, but instead by an external force. Like the other Metallic Arts, Allomancy as a magic system formed through the natural interactions between the two Shards that inhabit Scadrial, Preservation and Ruin, and the planet itself, instead of being created by a specific Shard. This magic system, however, is generally tailored and fuelled by Preservation, although specific cases will involve an Allomancer drawing upon Ruin's essence instead. Like other forms of Investiture, Allomancy does not necessarily reflect the intent of the Shard which it is associated with.\")]"
      ]
     },
     "execution_count": 69,
     "metadata": {},
     "output_type": "execute_result"
    }
   ],
   "source": [
    "response"
   ]
  },
  {
   "cell_type": "markdown",
   "metadata": {},
   "source": [
    "# Keyword augmentation"
   ]
  },
  {
   "cell_type": "code",
   "execution_count": 6,
   "metadata": {},
   "outputs": [],
   "source": [
    "from google.generativeai import GenerativeModel, configure\n",
    "configure(api_key=environ[\"GOOGLE_API_KEY\"])"
   ]
  },
  {
   "cell_type": "code",
   "execution_count": 15,
   "metadata": {},
   "outputs": [],
   "source": [
    "from ratelimit import limits, RateLimitException, sleep_and_retry\n",
    "from backoff import on_exception, expo\n",
    "import google.api_core.exceptions as google_exceptions\n",
    "from tqdm import tqdm\n",
    "import chromadb\n",
    "from chromadb.config import Settings"
   ]
  },
  {
   "cell_type": "code",
   "execution_count": 8,
   "metadata": {},
   "outputs": [],
   "source": [
    "import uuid\n",
    "from random import randint\n",
    "from langchain.chains.query_constructor.base import AttributeInfo\n",
    "from langchain.retrievers.self_query.base import SelfQueryRetriever\n",
    "from langchain_google_genai import ChatGoogleGenerativeAI\n",
    "# from langchain_community.vectorstores import Chroma\n",
    "from langchain_chroma import Chroma\n",
    "from langchain.retrievers.self_query.chroma import ChromaTranslator\n"
   ]
  },
  {
   "cell_type": "code",
   "execution_count": 9,
   "metadata": {},
   "outputs": [],
   "source": [
    "MINUTE = 60\n",
    "# rate is 1 QPS.\n",
    "@sleep_and_retry # If there are more request to this function than rate, sleep shortly\n",
    "@on_exception(expo, google_exceptions.ResourceExhausted, max_tries=10) # if we receive exceptions from Google API, retry\n",
    "@limits(calls=40, period=MINUTE)\n",
    "def call_prompt_in_rate(prompt):\n",
    "  \"\"\"\n",
    "  Calls the LLM model and applies rate limits.\n",
    "  \"\"\"\n",
    "  # return model.invoke(prompt) #Langchain openai\n",
    "  return model.generate_content(prompt)\n"
   ]
  },
  {
   "cell_type": "code",
   "execution_count": 10,
   "metadata": {},
   "outputs": [],
   "source": [
    "def ingest_articles(collection, model, articles):\n",
    "    \"\"\"Ingests structured article data into ChromaDB.\"\"\"\n",
    "    namespace_uuid = uuid.UUID('f81d4fae-7dec-11d0-a765-00a0c91e6bf6')\n",
    "    documents = []\n",
    "    metadatas = []\n",
    "    ids = []\n",
    "    with tqdm(len(articles)) as pbar_art:\n",
    "        for i, article in enumerate(articles):\n",
    "            if article[\"sections\"] is None:\n",
    "                continue\n",
    "            else:\n",
    "                with tqdm(len(article['sections'])) as pbar_para:\n",
    "                    for j, paragraph in enumerate(article[\"sections\"]):\n",
    "                        content = paragraph['content']\n",
    "                        prompt = f\"\"\"\n",
    "                            For the following paragraph, extract a list of keywords that will be used as metadata when the paragraph is stored in a vector database. The keywords will be used to help return accurate results when the database is queried. the list must look like this \"keyword1, keyword 2, keyword 3, ...\"\n",
    "\n",
    "                            Here is the paragraph:\n",
    "                            ```\n",
    "                            {content}\n",
    "                            ```\n",
    "                            \"\"\"\n",
    "                        # response = model.generate(prompt)\n",
    "                        response = call_prompt_in_rate(prompt)\n",
    "                        try:\n",
    "                            keywords = response.text\n",
    "                            # keywords = response.content\n",
    "                        except Exception as e:\n",
    "                            print(e)\n",
    "                            print(f\"{i}, {j}\", content)\n",
    "                            keywords=\"\"\n",
    "                            continue\n",
    "                        documents.append(paragraph[\"content\"])\n",
    "                        metadatas.append({\n",
    "                            \"article_title\": article[\"title\"],\n",
    "                            \"paragraph_header\": paragraph['title'],\n",
    "                            \"paragraph_order\": paragraph[\"order\"],\n",
    "                            \"links\": ', '.join(article[\"links\"]),\n",
    "                            \"keywords\": keywords,\n",
    "                        })\n",
    "                        ids.append(str(uuid.uuid5(namespace_uuid, f\"{paragraph['title']}_{paragraph['order']}_{randint(0,10000)}\")))  # Create unique IDs\n",
    "                        pbar_para.update(1)\n",
    "            pbar_art.update(1)\n",
    "\n",
    "    collection.add(\n",
    "        documents=documents,\n",
    "        metadatas=metadatas,\n",
    "        ids=ids \n",
    "    )\n",
    "    return collection"
   ]
  },
  {
   "cell_type": "code",
   "execution_count": 11,
   "metadata": {},
   "outputs": [],
   "source": [
    "model = GenerativeModel(model_name=\"gemini-1.5-flash\")"
   ]
  },
  {
   "cell_type": "code",
   "execution_count": 12,
   "metadata": {},
   "outputs": [],
   "source": [
    "import chromadb.utils.embedding_functions as embedding_fns\n",
    "embedding_function = embedding_fns.OpenAIEmbeddingFunction(api_key=environ[\"OPENAI_API_KEY\"])"
   ]
  },
  {
   "cell_type": "code",
   "execution_count": 13,
   "metadata": {},
   "outputs": [
    {
     "name": "stderr",
     "output_type": "stream",
     "text": [
      "c:\\Python312\\Lib\\site-packages\\posthog\\client.py:345: DeprecationWarning: datetime.datetime.utcnow() is deprecated and scheduled for removal in a future version. Use timezone-aware objects to represent datetimes in UTC: datetime.datetime.now(datetime.UTC).\n",
      "  timestamp = datetime.utcnow().replace(tzinfo=tzutc())\n",
      "c:\\Python312\\Lib\\site-packages\\posthog\\client.py:345: DeprecationWarning: datetime.datetime.utcnow() is deprecated and scheduled for removal in a future version. Use timezone-aware objects to represent datetimes in UTC: datetime.datetime.now(datetime.UTC).\n",
      "  timestamp = datetime.utcnow().replace(tzinfo=tzutc())\n"
     ]
    },
    {
     "name": "stderr",
     "output_type": "stream",
     "text": [
      "c:\\Python312\\Lib\\site-packages\\posthog\\request.py:40: DeprecationWarning: datetime.datetime.utcnow() is deprecated and scheduled for removal in a future version. Use timezone-aware objects to represent datetimes in UTC: datetime.datetime.now(datetime.UTC).\n",
      "  body[\"sentAt\"] = datetime.utcnow().replace(tzinfo=tzutc()).isoformat()\n"
     ]
    }
   ],
   "source": [
    "client = chromadb.PersistentClient(path=str(DB_DIR), settings=Settings(allow_reset=True))\n",
    "# client.reset()\n",
    "collection = client.get_or_create_collection(\"coppermind\", embedding_function=embedding_function)\n",
    "# response = ingest_articles(collection, model, data)"
   ]
  },
  {
   "cell_type": "code",
   "execution_count": 16,
   "metadata": {},
   "outputs": [
    {
     "name": "stderr",
     "output_type": "stream",
     "text": [
      "c:\\Python312\\Lib\\site-packages\\posthog\\client.py:345: DeprecationWarning: datetime.datetime.utcnow() is deprecated and scheduled for removal in a future version. Use timezone-aware objects to represent datetimes in UTC: datetime.datetime.now(datetime.UTC).\n",
      "  timestamp = datetime.utcnow().replace(tzinfo=tzutc())\n"
     ]
    },
    {
     "name": "stderr",
     "output_type": "stream",
     "text": [
      "c:\\Python312\\Lib\\site-packages\\posthog\\request.py:40: DeprecationWarning: datetime.datetime.utcnow() is deprecated and scheduled for removal in a future version. Use timezone-aware objects to represent datetimes in UTC: datetime.datetime.now(datetime.UTC).\n",
      "  body[\"sentAt\"] = datetime.utcnow().replace(tzinfo=tzutc()).isoformat()\n"
     ]
    }
   ],
   "source": [
    "from langchain_openai import OpenAIEmbeddings\n",
    "vectordb = Chroma(client=client, collection_name=\"coppermind\",embedding_function=OpenAIEmbeddings())"
   ]
  },
  {
   "cell_type": "code",
   "execution_count": 14,
   "metadata": {},
   "outputs": [],
   "source": [
    "metadata_field_info = [\n",
    "    AttributeInfo(\n",
    "        name= \"article_title\",\n",
    "        description= \"title of parent article\",\n",
    "        type= \"string\"\n",
    "    ),\n",
    "    AttributeInfo(\n",
    "        name= \"paragraph_header\",\n",
    "        description= \"header in article_title under which content was located\",\n",
    "        type= \"string\"\n",
    "    ),\n",
    "    AttributeInfo(\n",
    "        name= \"paragraph_order\",\n",
    "        description= \"order of paragraph under the paragraph_header\",\n",
    "        type= \"integer\",\n",
    "    ),\n",
    "    AttributeInfo(\n",
    "        name= \"links\",\n",
    "        description= \"list of article_titles that are directly related to the parent article\",\n",
    "        type= \"string\",\n",
    "    ),\n",
    "    AttributeInfo(\n",
    "        name= \"keywords\",\n",
    "        description= \"keywords found in the article for use in queries\",\n",
    "        type= \"string\"\n",
    "    ),\n",
    "]\n",
    "doc_content_description = \"paragraph of an article from the coppermind, a knowledgebase for everything in the literary universe of the Cosmere, written by Brandon Sanderson\"\n"
   ]
  },
  {
   "cell_type": "code",
   "execution_count": 57,
   "metadata": {},
   "outputs": [],
   "source": [
    "# llm = ChatGoogleGenerativeAI(\n",
    "#     model=\"gemini-1.5-pro\"\n",
    "# )\n",
    "from langchain_openai import ChatOpenAI\n",
    "llm = ChatOpenAI(temperature=0)\n",
    "retriever = SelfQueryRetriever.from_llm(\n",
    "    llm,\n",
    "    vectorstore=vectordb,\n",
    "    document_contents=doc_content_description,\n",
    "    metadata_field_info=metadata_field_info,\n",
    "    search_kwargs={\"k\": 10},\n",
    "    structured_query_translator=ChromaTranslator(), \n",
    "    enable_limit=True,\n",
    "    verbose=True\n",
    ")"
   ]
  },
  {
   "cell_type": "code",
   "execution_count": 71,
   "metadata": {},
   "outputs": [],
   "source": [
    "query = \"What are Hoid's powers?\""
   ]
  },
  {
   "cell_type": "code",
   "execution_count": 72,
   "metadata": {},
   "outputs": [
    {
     "name": "stderr",
     "output_type": "stream",
     "text": [
      "INFO:httpx:HTTP Request: POST https://api.openai.com/v1/chat/completions \"HTTP/1.1 200 OK\"\n",
      "INFO:langchain.retrievers.self_query.base:Generated Query: query='Hoid powers' filter=None limit=None\n",
      "INFO:httpx:HTTP Request: POST https://api.openai.com/v1/embeddings \"HTTP/1.1 200 OK\"\n"
     ]
    }
   ],
   "source": [
    "response = retriever.invoke(query)"
   ]
  },
  {
   "cell_type": "code",
   "execution_count": 73,
   "metadata": {},
   "outputs": [
    {
     "data": {
      "text/plain": [
       "[Document(metadata={'article_title': 'Cosmere', 'keywords': 'Hoid, worldhopper, Shattering of Adonalsium, Invested items, Invested Arts, Odium, cosmere, Frost, Endowment, Autonomy, Harmony, Fortune \\n', 'links': \"Stormfather, Kelsier, Cognitive Shadow, Dalinar Kholin, Pits of Hathsin, Shadesmar, Odium, Honor's Perpendicularity, Awakening, Tanavast, Hoid, Urithiru, Fused, Realmatic Theory, Allomancy, Knights Radiant\", 'paragraph_header': 'Hoid', 'paragraph_order': 1}, page_content=\"Hoid is a mysterious worldhopper who has been alive since before the Shattering of Adonalsium and was present for that event. He has collected a variety of Invested items from around the cosmere and gained access to multiple Invested Arts. His long-term goals are unclear, but he is an adamant opponent of Odium's attempts to become the sole god of the cosmere. He has written to Frost, Endowment, Autonomy, and Harmony, hoping to enlist their help in dealing with Odium, though only Harmony has responded positively. He has some ability to manipulate Fortune, which lets him learn where and when he needs to be to advance his goals, though he often doesn't know why being somewhere is important.\"),\n",
       " Document(metadata={'article_title': 'Hoid', 'keywords': 'Hoid, vision, Design, bonded, bubble, light, shelter, object, create, twenty minutes, detected \\n', 'links': 'Kelsier, Cognitive Shadow, Dalinar Kholin, Surgebinder, Odium, Kaladin, Awakening, Tanavast, Urithiru, Cosmere, Realmatic Theory, Allomancy, Knights Radiant', 'paragraph_header': 'Visions', 'paragraph_order': 1}, page_content='Hoid, via unknown means, is able to enter and exit certain visions, as well as bring those he is bonded with, like Design. While doing so, he creates a large, pure white bubble of light, which can shelter those who have been brought into the vision naturally. While in the vision, Hoid is able to create whatever objects he wants. Hoid is only able to do this for roughly twenty minutes before being detected.'),\n",
       " Document(metadata={'article_title': 'Hoid', 'keywords': 'Hoid, Fortune, Spiritual Attribute, Foresight, Innate Knowledge, Location, Time, Purpose, Taldain, Instant Noodles \\n', 'links': 'Kelsier, Cognitive Shadow, Dalinar Kholin, Surgebinder, Odium, Kaladin, Awakening, Tanavast, Urithiru, Cosmere, Realmatic Theory, Allomancy, Knights Radiant', 'paragraph_header': 'Fortune', 'paragraph_order': 1}, page_content=\"Hoid has access to an ability that allows him to make use of the Spiritual attribute of Fortune, which grants him a limited amount of foresight. Hoid's Fortune ability gives him an innate knowledge of where and when he needs to be. While this ability may grant him knowledge of what he is to do, usually Hoid does not know why his ability has brought him to a specific place. Hoid's Fortune ability is not infallible; occasionally it directs him to go somewhere, but either nothing notable is happening or he is unable to discover the reason why he has been led there. Hoid's fortune ability has let him know about instant noodles, although he has had prior experience with them on Taldain.\"),\n",
       " Document(metadata={'article_title': 'Hoid', 'keywords': 'Hoid, powers, Shattering, Hemalurgy, Shards, Investiture, Invested Arts, cosmere, dragons, aethers \\n', 'links': 'Kelsier, Cognitive Shadow, Dalinar Kholin, Surgebinder, Odium, Kaladin, Awakening, Tanavast, Urithiru, Cosmere, Realmatic Theory, Allomancy, Knights Radiant', 'paragraph_header': 'Attributes and Abilities', 'paragraph_order': 1}, page_content=\"Hoid does not yet have the abilities of every planet he's visited. Some of his powers predate the Shattering, but none of them are gained through Hemalurgy. Hoid is concerned about opening himself up to the influence of Shards, so he only gains access to manifestations of Investiture through more conventional, but more difficult ways. Hoid has access to multiple Invested Arts, but not an incredibly large number. He is likely the most powerful non-Shard entity in the cosmere, although a few of the older dragons and aethers might rival him.\"),\n",
       " Document(metadata={'article_title': 'Hoid', 'keywords': 'Hoid, Elantrian, The Ire, Riina, AonDor, curse, Charlie, Invested art \\n', 'links': 'Kelsier, Cognitive Shadow, Dalinar Kholin, Surgebinder, Odium, Kaladin, Awakening, Tanavast, Urithiru, Cosmere, Realmatic Theory, Allomancy, Knights Radiant', 'paragraph_header': 'Elantrian', 'paragraph_order': 1}, page_content='Hoid became an Elantrian through winning a bet he made with Riina, a member of The Ire. Despite his short time with the power, Hoid showed a notable aptitude for the manipulation of Aons, being able to edit a complex AonDor \"curse\" placed on Charlie by Riina, who herself is a highly experienced wielder of AonDor. Additionally, Hoid was shown to have spent significant time coveting this specific Invested art.'),\n",
       " Document(metadata={'article_title': 'Hoid', 'keywords': 'Hoid, Dawnshard, worldhopper, cosmere, Yolen, Shattering, Adonalsium, Shard, Odium, Rayse, Vessel, fool, storyteller, apprentice, Elantris, Sel, Catacendre, Scadrial, True Desolation, Roshar, Invested Arts, arcana, Surgebinding, AonDor, Awakening, Allomancy \\n', 'links': 'Kelsier, Cognitive Shadow, Dalinar Kholin, Surgebinder, Odium, Kaladin, Awakening, Tanavast, Urithiru, Cosmere, Realmatic Theory, Allomancy, Knights Radiant', 'paragraph_header': 'Hoid', 'paragraph_order': 1}, page_content='Hoid is a worldhopper and Dawnshard that travels the cosmere, originally born on the planet Yolen before the Shattering. He was one of the major figures in the Shattering of Adonalsium, but avoided taking up a Shard himself, instead choosing to wander the cosmere pursing his unknown goals, often in the guise of a fool or storyteller. He may be guided at times by a mysterious sense about where he should go, but not what he is to accomplish there. One of his major goals is the defeat of Rayse, the original Vessel of the Shard Odium. While Hoid has generally avoided direct involvement in the major events of the cosmere, he is oftentimes present in the periphery, influencing in large ways and small the people who will go on to alter the course of history, as well as occasionally taking on an apprentice to train at his side. Hoid has been present for events such as the restoration of the city of Elantris on Sel, the Catacendre of Scadrial, and the True Desolation of Roshar. Along the way he has gained access to a prodigious number of powerful Invested Arts and arcana, including Surgebinding, AonDor, Awakening, and Allomancy, among others.'),\n",
       " Document(metadata={'article_title': 'Hoid', 'keywords': \"Hoid, Unkalaki, Lunu'anaki, god, travel, mischief, man \\n\", 'links': 'Kelsier, Cognitive Shadow, Dalinar Kholin, Surgebinder, Odium, Kaladin, Awakening, Tanavast, Urithiru, Cosmere, Realmatic Theory, Allomancy, Knights Radiant', 'paragraph_header': 'The Desolations', 'paragraph_order': 3}, page_content=\"Hoid came to be worshipped by the Unkalaki as Lunu'anaki, the god of travel and mischief who cannot hurt man. \"),\n",
       " Document(metadata={'article_title': 'Hoid', 'keywords': 'Hoid, kindness, emotional support, console, encouragement, Kaladin, Shallan, Middlefest Fair, trauma, abuse, motivation, Allomancy, Soothe \\n', 'links': 'Kelsier, Cognitive Shadow, Dalinar Kholin, Surgebinder, Odium, Kaladin, Awakening, Tanavast, Urithiru, Cosmere, Realmatic Theory, Allomancy, Knights Radiant', 'paragraph_header': 'Personality', 'paragraph_order': 3}, page_content='Hoid is a very kind person to those he takes a liking to, doing his best to emotionally console them and give them the will to keep going. This can be seen in the various times he has told Kaladin stories in order to comfort him and teach him a lesson that he believes he needs to learn. He has done the same to Shallan, most notably when he met her as a child traumatized by her experiences and the abuses she went through during the Middlefest Fair. Here, he consoles her and gave her motivation to keep moving forward. He did the same later, when speaking with her in Kholinar. He occasionally uses Allomancy to help Soothe people. '),\n",
       " Document(metadata={'article_title': 'Hoid', 'keywords': 'Hoid, Vessels, relationships, hate, terror, respect, cameraderie \\n', 'links': 'Kelsier, Cognitive Shadow, Dalinar Kholin, Surgebinder, Odium, Kaladin, Awakening, Tanavast, Urithiru, Cosmere, Realmatic Theory, Allomancy, Knights Radiant', 'paragraph_header': 'The Shards', 'paragraph_order': 1}, page_content=\"Hoid's relationships with the various Vessels are varied, to say the least, ranging from hate and terror to respect and cameraderie.\"),\n",
       " Document(metadata={'article_title': 'Hoid', 'keywords': 'Hoid, healing factor, regeneration, body, soul, head, stabbing, hemalurgy, repress, disguise, vulnerability, Investiture, Pre-Shattering, agelessness, Adonalsium, Shardblades, weapon \\n', 'links': 'Kelsier, Cognitive Shadow, Dalinar Kholin, Surgebinder, Odium, Kaladin, Awakening, Tanavast, Urithiru, Cosmere, Realmatic Theory, Allomancy, Knights Radiant', 'paragraph_header': 'Healing Factor', 'paragraph_order': 1}, page_content=\"Hoid has access to some sort of healing factor that is capable of repairing both the body and the soul. He is able to regenerate any damaged body parts at will, including his head. He can also heal from being stabbed hemalurgically. Hoid is able to repress his healing factor in some way, preventing instantaneous healing, an ability that he makes use of in some of his disguises. This healing factor makes it very difficult to kill Hoid, although he is still at least somewhat vulnerable. The name of the manifestation of Investiture responsible for Hoid's healing is unknown, but it is ancient, likely originating from some Pre-Shattering source. It is uncertain whether or not this healing factor is at all related to Hoid's apparent agelessness, which is known to originate from a remnant of a weapon built to kill Adonalsium. Hoid is unafraid of Shardblades for multiple reasons, probably including his healing factor.\")]"
      ]
     },
     "execution_count": 73,
     "metadata": {},
     "output_type": "execute_result"
    }
   ],
   "source": [
    "response"
   ]
  },
  {
   "cell_type": "markdown",
   "metadata": {},
   "source": [
    "## Reranking"
   ]
  },
  {
   "cell_type": "code",
   "execution_count": 67,
   "metadata": {},
   "outputs": [],
   "source": [
    "from langchain.retrievers import ContextualCompressionRetriever\n",
    "from langchain.retrievers.document_compressors import FlashrankRerank"
   ]
  },
  {
   "cell_type": "code",
   "execution_count": 17,
   "metadata": {},
   "outputs": [],
   "source": [
    "import uuid\n",
    "from random import randint\n",
    "from langchain.chains.query_constructor.base import AttributeInfo\n",
    "from langchain.retrievers.self_query.base import SelfQueryRetriever\n",
    "from langchain_google_genai import ChatGoogleGenerativeAI\n",
    "# from langchain_community.vectorstores import Chroma\n",
    "from langchain_chroma import Chroma\n",
    "from langchain.retrievers.self_query.chroma import ChromaTranslator"
   ]
  },
  {
   "cell_type": "code",
   "execution_count": 68,
   "metadata": {},
   "outputs": [],
   "source": [
    "compressor = FlashrankRerank()\n",
    "rerank_retriever = ContextualCompressionRetriever(base_compressor=compressor, base_retriever=retriever)"
   ]
  },
  {
   "cell_type": "code",
   "execution_count": 74,
   "metadata": {},
   "outputs": [
    {
     "name": "stderr",
     "output_type": "stream",
     "text": [
      "INFO:httpx:HTTP Request: POST https://api.openai.com/v1/chat/completions \"HTTP/1.1 200 OK\"\n",
      "INFO:langchain.retrievers.self_query.base:Generated Query: query='Hoid powers' filter=None limit=None\n",
      "INFO:httpx:HTTP Request: POST https://api.openai.com/v1/embeddings \"HTTP/1.1 200 OK\"\n"
     ]
    }
   ],
   "source": [
    "ranked_docs = rerank_retriever.invoke(query)"
   ]
  },
  {
   "cell_type": "code",
   "execution_count": 75,
   "metadata": {},
   "outputs": [
    {
     "data": {
      "text/plain": [
       "[Document(metadata={'id': 3, 'relevance_score': 0.99919415}, page_content=\"Hoid does not yet have the abilities of every planet he's visited. Some of his powers predate the Shattering, but none of them are gained through Hemalurgy. Hoid is concerned about opening himself up to the influence of Shards, so he only gains access to manifestations of Investiture through more conventional, but more difficult ways. Hoid has access to multiple Invested Arts, but not an incredibly large number. He is likely the most powerful non-Shard entity in the cosmere, although a few of the older dragons and aethers might rival him.\"),\n",
       " Document(metadata={'id': 5, 'relevance_score': 0.99868804}, page_content='Hoid is a worldhopper and Dawnshard that travels the cosmere, originally born on the planet Yolen before the Shattering. He was one of the major figures in the Shattering of Adonalsium, but avoided taking up a Shard himself, instead choosing to wander the cosmere pursing his unknown goals, often in the guise of a fool or storyteller. He may be guided at times by a mysterious sense about where he should go, but not what he is to accomplish there. One of his major goals is the defeat of Rayse, the original Vessel of the Shard Odium. While Hoid has generally avoided direct involvement in the major events of the cosmere, he is oftentimes present in the periphery, influencing in large ways and small the people who will go on to alter the course of history, as well as occasionally taking on an apprentice to train at his side. Hoid has been present for events such as the restoration of the city of Elantris on Sel, the Catacendre of Scadrial, and the True Desolation of Roshar. Along the way he has gained access to a prodigious number of powerful Invested Arts and arcana, including Surgebinding, AonDor, Awakening, and Allomancy, among others.'),\n",
       " Document(metadata={'id': 8, 'relevance_score': 0.99789995}, page_content=\"Hoid's relationships with the various Vessels are varied, to say the least, ranging from hate and terror to respect and cameraderie.\")]"
      ]
     },
     "execution_count": 75,
     "metadata": {},
     "output_type": "execute_result"
    }
   ],
   "source": [
    "ranked_docs"
   ]
  },
  {
   "cell_type": "markdown",
   "metadata": {},
   "source": [
    "# RAG Testing"
   ]
  },
  {
   "cell_type": "code",
   "execution_count": 42,
   "metadata": {},
   "outputs": [],
   "source": [
    "from langchain.retrievers import ContextualCompressionRetriever\n",
    "from langchain.retrievers.document_compressors import FlashrankRerank\n",
    "from langchain_google_genai import GoogleGenerativeAI"
   ]
  },
  {
   "cell_type": "code",
   "execution_count": 11,
   "metadata": {},
   "outputs": [],
   "source": [
    "import chromadb.utils.embedding_functions as embedding_fns\n",
    "embedding_function = embedding_fns.OpenAIEmbeddingFunction(api_key=environ[\"OPENAI_API_KEY\"])"
   ]
  },
  {
   "cell_type": "code",
   "execution_count": 12,
   "metadata": {},
   "outputs": [
    {
     "name": "stderr",
     "output_type": "stream",
     "text": [
      "c:\\Python312\\Lib\\site-packages\\posthog\\client.py:345: DeprecationWarning: datetime.datetime.utcnow() is deprecated and scheduled for removal in a future version. Use timezone-aware objects to represent datetimes in UTC: datetime.datetime.now(datetime.UTC).\n",
      "  timestamp = datetime.utcnow().replace(tzinfo=tzutc())\n",
      "c:\\Python312\\Lib\\site-packages\\posthog\\client.py:345: DeprecationWarning: datetime.datetime.utcnow() is deprecated and scheduled for removal in a future version. Use timezone-aware objects to represent datetimes in UTC: datetime.datetime.now(datetime.UTC).\n",
      "  timestamp = datetime.utcnow().replace(tzinfo=tzutc())\n"
     ]
    },
    {
     "name": "stderr",
     "output_type": "stream",
     "text": [
      "c:\\Python312\\Lib\\site-packages\\posthog\\request.py:40: DeprecationWarning: datetime.datetime.utcnow() is deprecated and scheduled for removal in a future version. Use timezone-aware objects to represent datetimes in UTC: datetime.datetime.now(datetime.UTC).\n",
      "  body[\"sentAt\"] = datetime.utcnow().replace(tzinfo=tzutc()).isoformat()\n"
     ]
    }
   ],
   "source": [
    "client = chromadb.PersistentClient(path=str(DB_DIR), settings=Settings(allow_reset=True))\n",
    "# client.reset()\n",
    "collection = client.get_or_create_collection(\"coppermind\", embedding_function=embedding_function)\n",
    "# response = ingest_articles(collection, model, data)"
   ]
  },
  {
   "cell_type": "code",
   "execution_count": 43,
   "metadata": {},
   "outputs": [],
   "source": [
    "from langchain_openai import ChatOpenAI\n",
    "from google.generativeai import GenerativeModel, configure\n",
    "configure(api_key=environ[\"GOOGLE_API_KEY\"])\n",
    "\n",
    "\n",
    "chatgpt = ChatOpenAI(temperature=0)\n",
    "gemini = GoogleGenerativeAI(model=\"gemini-1.5-flash\")\n",
    "# gemini = GenerativeModel(model_name=\"gemini-1.5-flash\")"
   ]
  },
  {
   "cell_type": "code",
   "execution_count": 44,
   "metadata": {},
   "outputs": [
    {
     "name": "stderr",
     "output_type": "stream",
     "text": [
      "c:\\Python312\\Lib\\site-packages\\posthog\\client.py:345: DeprecationWarning: datetime.datetime.utcnow() is deprecated and scheduled for removal in a future version. Use timezone-aware objects to represent datetimes in UTC: datetime.datetime.now(datetime.UTC).\n",
      "  timestamp = datetime.utcnow().replace(tzinfo=tzutc())\n"
     ]
    },
    {
     "name": "stderr",
     "output_type": "stream",
     "text": [
      "c:\\Python312\\Lib\\site-packages\\posthog\\request.py:40: DeprecationWarning: datetime.datetime.utcnow() is deprecated and scheduled for removal in a future version. Use timezone-aware objects to represent datetimes in UTC: datetime.datetime.now(datetime.UTC).\n",
      "  body[\"sentAt\"] = datetime.utcnow().replace(tzinfo=tzutc()).isoformat()\n"
     ]
    }
   ],
   "source": [
    "from langchain_openai import OpenAIEmbeddings\n",
    "vectordb = Chroma(client=client, collection_name=\"coppermind\",embedding_function=OpenAIEmbeddings())"
   ]
  },
  {
   "cell_type": "code",
   "execution_count": 19,
   "metadata": {},
   "outputs": [],
   "source": [
    "metadata_field_info = [\n",
    "    AttributeInfo(\n",
    "        name= \"article_title\",\n",
    "        description= \"title of parent article\",\n",
    "        type= \"string\"\n",
    "    ),\n",
    "    AttributeInfo(\n",
    "        name= \"paragraph_header\",\n",
    "        description= \"header in article_title under which content was located\",\n",
    "        type= \"string\"\n",
    "    ),\n",
    "    AttributeInfo(\n",
    "        name= \"paragraph_order\",\n",
    "        description= \"order of paragraph under the paragraph_header\",\n",
    "        type= \"integer\",\n",
    "    ),\n",
    "    AttributeInfo(\n",
    "        name= \"links\",\n",
    "        description= \"list of article_titles that are directly related to the parent article\",\n",
    "        type= \"string\",\n",
    "    ),\n",
    "    AttributeInfo(\n",
    "        name= \"keywords\",\n",
    "        description= \"keywords found in the article for use in queries\",\n",
    "        type= \"string\"\n",
    "    ),\n",
    "]\n",
    "doc_content_description = \"paragraph of an article from the coppermind, a knowledgebase for everything in the literary universe of the Cosmere, written by Brandon Sanderson\"\n"
   ]
  },
  {
   "cell_type": "code",
   "execution_count": 45,
   "metadata": {},
   "outputs": [],
   "source": [
    "# llm = ChatGoogleGenerativeAI(\n",
    "#     model=\"gemini-1.5-pro\"\n",
    "# )\n",
    "gpt_retriever = SelfQueryRetriever.from_llm(\n",
    "    chatgpt,\n",
    "    vectorstore=vectordb,\n",
    "    document_contents=doc_content_description,\n",
    "    metadata_field_info=metadata_field_info,\n",
    "    search_kwargs={\"k\": 10},\n",
    "    structured_query_translator=ChromaTranslator(), \n",
    "    enable_limit=True,\n",
    "    verbose=True\n",
    ")\n",
    "gemini_retriever  = SelfQueryRetriever.from_llm(\n",
    "    gemini,\n",
    "    vectorstore=vectordb,\n",
    "    document_contents=doc_content_description,\n",
    "    metadata_field_info=metadata_field_info,\n",
    "    search_kwargs={\"k\": 10},\n",
    "    structured_query_translator=ChromaTranslator(), \n",
    "    enable_limit=True,\n",
    "    verbose=True\n",
    ")"
   ]
  },
  {
   "cell_type": "code",
   "execution_count": 61,
   "metadata": {},
   "outputs": [
    {
     "name": "stderr",
     "output_type": "stream",
     "text": [
      "INFO:langchain.retrievers.self_query.base:Generated Query: query='Dalinar Rift' filter=None limit=None\n",
      "INFO:httpx:HTTP Request: POST https://api.openai.com/v1/embeddings \"HTTP/1.1 200 OK\"\n"
     ]
    },
    {
     "data": {
      "text/plain": [
       "Document(metadata={'article_title': 'Dalinar Kholin', 'keywords': 'Dalinar, memories, Rift, drinking, screams, Evi, Rathalas, burning, dependence, alcohol, family, strangers \\n', 'links': \"Stormfather, Surgebinder, Shadesmar, Odium, Honor's Perpendicularity, Kaladin, Hoid, Urithiru, Fused, Cosmere, Knights Radiant\", 'paragraph_header': 'The Rift', 'paragraph_order': 8}, page_content=\"Years later, Dalinar's reaction to his memories of what happened at the Rift was to drink. Immediately after and even years later, Dalinar can hear the screams of Evi and the people of Rathalas, burning. Dalinar's dependence on alcohol was very serious, to the point that his family sometimes hid his alcohol from him, and he was reduced to asking it from strangers.\")"
      ]
     },
     "execution_count": 61,
     "metadata": {},
     "output_type": "execute_result"
    }
   ],
   "source": [
    "response = gemini_retriever.invoke(query)\n",
    "targ_doc = response[3]\n",
    "targ_doc"
   ]
  },
  {
   "cell_type": "code",
   "execution_count": 62,
   "metadata": {},
   "outputs": [
    {
     "data": {
      "text/plain": [
       "'Dalinar, memories, Rift, drinking, screams, Evi, Rathalas, burning, dependence, alcohol, family, strangers \\n'"
      ]
     },
     "execution_count": 62,
     "metadata": {},
     "output_type": "execute_result"
    }
   ],
   "source": [
    "targ_doc.metadata['keywords']\n"
   ]
  },
  {
   "cell_type": "code",
   "execution_count": 46,
   "metadata": {},
   "outputs": [],
   "source": [
    "compressor = FlashrankRerank()\n",
    "gpt_ranker = ContextualCompressionRetriever(base_compressor=compressor, base_retriever=gpt_retriever)\n",
    "gemini_ranker = ContextualCompressionRetriever(base_compressor=compressor, base_retriever=gemini_retriever)"
   ]
  },
  {
   "cell_type": "code",
   "execution_count": 47,
   "metadata": {},
   "outputs": [],
   "source": [
    "query = \"What happened to Dalinar at the Rift\""
   ]
  },
  {
   "cell_type": "code",
   "execution_count": 48,
   "metadata": {},
   "outputs": [
    {
     "name": "stderr",
     "output_type": "stream",
     "text": [
      "INFO:httpx:HTTP Request: POST https://api.openai.com/v1/chat/completions \"HTTP/1.1 200 OK\"\n",
      "INFO:langchain.retrievers.self_query.base:Generated Query: query='Dalinar Rift' filter=None limit=None\n",
      "INFO:httpx:HTTP Request: POST https://api.openai.com/v1/embeddings \"HTTP/1.1 200 OK\"\n",
      "INFO:langchain.retrievers.self_query.base:Generated Query: query='Dalinar Rift' filter=None limit=None\n",
      "INFO:httpx:HTTP Request: POST https://api.openai.com/v1/embeddings \"HTTP/1.1 200 OK\"\n"
     ]
    }
   ],
   "source": [
    "gpt_docs = gpt_ranker.invoke(query)\n",
    "gemini_docs = gemini_ranker.invoke(query)"
   ]
  },
  {
   "cell_type": "code",
   "execution_count": 49,
   "metadata": {},
   "outputs": [
    {
     "data": {
      "text/plain": [
       "[Document(metadata={'id': 3, 'relevance_score': 0.99934375}, page_content=\"Years later, Dalinar's reaction to his memories of what happened at the Rift was to drink. Immediately after and even years later, Dalinar can hear the screams of Evi and the people of Rathalas, burning. Dalinar's dependence on alcohol was very serious, to the point that his family sometimes hid his alcohol from him, and he was reduced to asking it from strangers.\"),\n",
       " Document(metadata={'id': 1, 'relevance_score': 0.9988333}, page_content='Dalinar was raised in the Vorin religion; his Calling is to be a leader, and his chosen Glory is determination. At some point in his life, he joined a lay devotary called the Order of Talenelat. However, over time his faith wavers, and his visions lead him to conclude that the Almighty is dead. This ends with his excommunication from the Vorin church.'),\n",
       " Document(metadata={'id': 9, 'relevance_score': 0.9982626}, page_content='Dalinar has a Nahel bond with the Stormfather, the personification of storms and the divine. This makes him a Knight Radiant of the Order of Bondsmiths. His Surges are Tension and Adhesion. Adhesion allows him to bind objects together, and Tension grants the Surgebinder power over Soft Axial Connections, though what precisely this entails is yet to be revealed.')]"
      ]
     },
     "execution_count": 49,
     "metadata": {},
     "output_type": "execute_result"
    }
   ],
   "source": [
    "gemini_docs"
   ]
  },
  {
   "cell_type": "code",
   "execution_count": 50,
   "metadata": {},
   "outputs": [
    {
     "data": {
      "text/plain": [
       "[Document(metadata={'id': 3, 'relevance_score': 0.99934375}, page_content=\"Years later, Dalinar's reaction to his memories of what happened at the Rift was to drink. Immediately after and even years later, Dalinar can hear the screams of Evi and the people of Rathalas, burning. Dalinar's dependence on alcohol was very serious, to the point that his family sometimes hid his alcohol from him, and he was reduced to asking it from strangers.\"),\n",
       " Document(metadata={'id': 1, 'relevance_score': 0.9988333}, page_content='Dalinar was raised in the Vorin religion; his Calling is to be a leader, and his chosen Glory is determination. At some point in his life, he joined a lay devotary called the Order of Talenelat. However, over time his faith wavers, and his visions lead him to conclude that the Almighty is dead. This ends with his excommunication from the Vorin church.'),\n",
       " Document(metadata={'id': 9, 'relevance_score': 0.9982626}, page_content='Dalinar has a Nahel bond with the Stormfather, the personification of storms and the divine. This makes him a Knight Radiant of the Order of Bondsmiths. His Surges are Tension and Adhesion. Adhesion allows him to bind objects together, and Tension grants the Surgebinder power over Soft Axial Connections, though what precisely this entails is yet to be revealed.')]"
      ]
     },
     "execution_count": 50,
     "metadata": {},
     "output_type": "execute_result"
    }
   ],
   "source": [
    "gpt_docs"
   ]
  },
  {
   "cell_type": "code",
   "execution_count": 51,
   "metadata": {},
   "outputs": [
    {
     "name": "stderr",
     "output_type": "stream",
     "text": [
      "INFO:httpx:HTTP Request: POST https://api.openai.com/v1/chat/completions \"HTTP/1.1 200 OK\"\n"
     ]
    }
   ],
   "source": [
    "\n",
    "prompt = f\"\"\"\n",
    "Use the below context to assist in answering this question: {query}\n",
    "\n",
    "context\n",
    "```\n",
    "{gpt_docs}\n",
    "```\n",
    "\"\"\"\n",
    "gpt_response = chatgpt.invoke(prompt)"
   ]
  },
  {
   "cell_type": "code",
   "execution_count": 52,
   "metadata": {},
   "outputs": [],
   "source": [
    "\n",
    "prompt = f\"\"\"\n",
    "Use the below context to assist in answering this question: {query}\n",
    "\n",
    "context\n",
    "```\n",
    "{gemini_docs}\n",
    "```\n",
    "\"\"\"\n",
    "gem_response = gemini.invoke(prompt)"
   ]
  },
  {
   "cell_type": "code",
   "execution_count": 57,
   "metadata": {},
   "outputs": [
    {
     "name": "stdout",
     "output_type": "stream",
     "text": [
      "At the Rift, Dalinar experienced a traumatic event that haunted him for years. He heard the screams of his wife Evi and the people of Rathalas burning, leading him to turn to alcohol as a coping mechanism. His dependence on alcohol became so serious that his family had to hide it from him, and he even resorted to asking strangers for it. This event had a profound impact on Dalinar's mental and emotional well-being.\n"
     ]
    }
   ],
   "source": [
    "print(gpt_response.content)"
   ]
  },
  {
   "cell_type": "code",
   "execution_count": 59,
   "metadata": {},
   "outputs": [
    {
     "name": "stdout",
     "output_type": "stream",
     "text": [
      "The provided context doesn't contain information about what specifically happened to Dalinar at the Rift.  \n",
      "\n",
      "We know that:\n",
      "\n",
      "* **Dalinar has traumatic memories from the Rift:** He hears the screams of Evi and the people of Rathalas burning, which leads to his severe alcoholism.\n",
      "* **Dalinar's faith is shaken:** He concludes that the Almighty is dead, leading to his excommunication from the Vorin church.\n",
      "\n",
      "However, the details of the events at the Rift itself are not mentioned in the context. \n",
      "\n",
      "To understand what happened to Dalinar at the Rift, you would need to consult other sources like the books or other relevant materials. \n",
      "\n"
     ]
    }
   ],
   "source": [
    "print(gem_response)"
   ]
  },
  {
   "cell_type": "code",
   "execution_count": null,
   "metadata": {},
   "outputs": [],
   "source": []
  }
 ],
 "metadata": {
  "kernelspec": {
   "display_name": "Python 3",
   "language": "python",
   "name": "python3"
  },
  "language_info": {
   "codemirror_mode": {
    "name": "ipython",
    "version": 3
   },
   "file_extension": ".py",
   "mimetype": "text/x-python",
   "name": "python",
   "nbconvert_exporter": "python",
   "pygments_lexer": "ipython3",
   "version": "3.12.1"
  }
 },
 "nbformat": 4,
 "nbformat_minor": 2
}
